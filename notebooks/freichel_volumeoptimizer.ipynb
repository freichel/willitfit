{
 "cells": [
  {
   "cell_type": "code",
   "execution_count": 98,
   "id": "dc34376a",
   "metadata": {
    "scrolled": true
   },
   "outputs": [],
   "source": [
    "import numpy as np\n",
    "from scipy.ndimage.measurements import label"
   ]
  },
  {
   "cell_type": "code",
   "execution_count": 5,
   "id": "23afe1fb",
   "metadata": {},
   "outputs": [],
   "source": [
    "VOL_UNAVAILABLE = -1\n",
    "VOL_BORDER = 1\n",
    "VOL_INTERIOR = -2\n",
    "VOL_EMPTY = 0 "
   ]
  },
  {
   "cell_type": "markdown",
   "id": "0512f5ae",
   "metadata": {},
   "source": [
    "The following are just dummy data sets to run the algorithm"
   ]
  },
  {
   "cell_type": "code",
   "execution_count": 20,
   "id": "70e86759",
   "metadata": {},
   "outputs": [],
   "source": [
    "article_list = [(\n",
    "    \"cube_1\",\n",
    "    2,\n",
    "    [(\n",
    "        1,\n",
    "        10,\n",
    "        10,\n",
    "        10,\n",
    "        1\n",
    "    )]\n",
    "),\n",
    "(\n",
    "    \"cube_2\",\n",
    "    2,\n",
    "    [(\n",
    "        1,\n",
    "        15,\n",
    "        15,\n",
    "        15,\n",
    "        2\n",
    "    )]\n",
    "),\n",
    "(\n",
    "    \"rectangle_1\",\n",
    "    1,\n",
    "    [(\n",
    "        1,\n",
    "        15,\n",
    "        30,\n",
    "        30,\n",
    "        2\n",
    "    )]\n",
    "),\n",
    "(\n",
    "    \"rectangles_2\",\n",
    "    1,\n",
    "    [(\n",
    "        1,\n",
    "        15,\n",
    "        30,\n",
    "        30,\n",
    "        1\n",
    "    ),\n",
    "    (\n",
    "        2,\n",
    "        5,\n",
    "        5,\n",
    "        10,\n",
    "        1\n",
    "    )]\n",
    ")]"
   ]
  },
  {
   "cell_type": "code",
   "execution_count": 167,
   "id": "8a10fb77",
   "metadata": {},
   "outputs": [],
   "source": [
    "volume_space = np.full((40,40,40), VOL_EMPTY, dtype=int)\n",
    "volume_space[5:25,:,:] = VOL_UNAVAILABLE\n",
    "volume_space[:,:10,:] = VOL_UNAVAILABLE\n",
    "volume_space[:3,:,:40] = VOL_UNAVAILABLE"
   ]
  },
  {
   "cell_type": "markdown",
   "id": "516af80e",
   "metadata": {},
   "source": [
    "## General fit"
   ]
  },
  {
   "cell_type": "markdown",
   "id": "8739de29",
   "metadata": {},
   "source": [
    "### Overall volume fit"
   ]
  },
  {
   "cell_type": "code",
   "execution_count": 73,
   "id": "e4f13d96",
   "metadata": {},
   "outputs": [],
   "source": [
    "def find_total_package_volume(article_list):\n",
    "    '''\n",
    "    Establishes total volume of packages in list in cm cubed.\n",
    "    Loops through each article in article_list, and each package in article.\n",
    "    Multiplies length, height and width (elements 1-3).\n",
    "    Sums up individual products and returns them as int\n",
    "    '''\n",
    "    return sum([np.prod(package[1:4]) for article in article_list for package in article[2]])"
   ]
  },
  {
   "cell_type": "code",
   "execution_count": 74,
   "id": "7f596798",
   "metadata": {},
   "outputs": [
    {
     "data": {
      "text/plain": [
       "31625"
      ]
     },
     "execution_count": 74,
     "metadata": {},
     "output_type": "execute_result"
    }
   ],
   "source": [
    "find_total_package_volume(article_list)"
   ]
  },
  {
   "cell_type": "code",
   "execution_count": 92,
   "id": "b9e1601c",
   "metadata": {},
   "outputs": [],
   "source": [
    "def find_available_space(volume_space):\n",
    "    '''\n",
    "    Returns total available volume in cm cubed by subtracting non-zero values from total array size\n",
    "    '''\n",
    "    return volume_space.size-np.count_nonzero(volume_space)"
   ]
  },
  {
   "cell_type": "code",
   "execution_count": 93,
   "id": "b4b3f8c6",
   "metadata": {},
   "outputs": [
    {
     "data": {
      "text/plain": [
       "32500"
      ]
     },
     "execution_count": 93,
     "metadata": {},
     "output_type": "execute_result"
    }
   ],
   "source": [
    "find_available_space(volume_space)"
   ]
  },
  {
   "cell_type": "code",
   "execution_count": 94,
   "id": "4ba91d4c",
   "metadata": {},
   "outputs": [],
   "source": [
    "def is_space_sufficient(article_list, volume_space):\n",
    "    '''\n",
    "    Returns True if package volume is smaller than or equal to available volume\n",
    "    '''\n",
    "    return find_total_package_volume(article_list) <= find_available_space(volume_space)"
   ]
  },
  {
   "cell_type": "code",
   "execution_count": 95,
   "id": "f7732727",
   "metadata": {},
   "outputs": [
    {
     "data": {
      "text/plain": [
       "True"
      ]
     },
     "execution_count": 95,
     "metadata": {},
     "output_type": "execute_result"
    }
   ],
   "source": [
    "is_space_sufficient(article_list, volume_space)"
   ]
  },
  {
   "cell_type": "markdown",
   "id": "1806f31f",
   "metadata": {},
   "source": [
    "### Fit by longest dimension"
   ]
  },
  {
   "cell_type": "code",
   "execution_count": 96,
   "id": "12c40ddb",
   "metadata": {},
   "outputs": [],
   "source": [
    "def find_longest_package_dimension(article_list):\n",
    "    '''\n",
    "    Finds single longest dimension in cm among all packages.\n",
    "    '''\n",
    "    return max([max(package[1:4]) for article in article_list for package in article[2]])"
   ]
  },
  {
   "cell_type": "code",
   "execution_count": 97,
   "id": "c44a4d36",
   "metadata": {},
   "outputs": [
    {
     "data": {
      "text/plain": [
       "30"
      ]
     },
     "execution_count": 97,
     "metadata": {},
     "output_type": "execute_result"
    }
   ],
   "source": [
    "find_longest_package_dimension(article_list)"
   ]
  },
  {
   "cell_type": "code",
   "execution_count": 110,
   "id": "9fa2122d",
   "metadata": {},
   "outputs": [],
   "source": [
    "def binarize_space(volume_space):\n",
    "    '''\n",
    "    Sets empty space to 1 and rest to 0.\n",
    "    Needed to be able to identify clusters.\n",
    "    '''\n",
    "    arbitrary_constant = max(VOL_UNAVAILABLE, VOL_BORDER, VOL_INTERIOR, VOL_EMPTY) + 1\n",
    "    first_step = np.where(volume_space != VOL_EMPTY, arbitrary_constant, volume_space)\n",
    "    second_step = np.where(first_step == VOL_EMPTY, 1, first_step)\n",
    "    return np.where(second_step == arbitrary_constant, 0, second_step)"
   ]
  },
  {
   "cell_type": "code",
   "execution_count": 149,
   "id": "195ceb11",
   "metadata": {},
   "outputs": [],
   "source": [
    "# Linear structures in all three axes\n",
    "structure_y = [\n",
    "    [[0, 0, 0],\n",
    "     [0, 0, 0],\n",
    "     [0, 0, 0]],\n",
    "    [[0, 1, 0],\n",
    "     [0, 1, 0],\n",
    "     [0, 1, 0]],\n",
    "    [[0, 0, 0],\n",
    "     [0, 0, 0],\n",
    "     [0, 0, 0]]]\n",
    "structure_x = np.rot90(structure_x, axes=(1,2))\n",
    "structure_z = np.rot90(structure_x, axes=(0,1))\n",
    "structures = [structure_x, structure_y, structure_z]"
   ]
  },
  {
   "cell_type": "code",
   "execution_count": 170,
   "id": "54d6b2bf",
   "metadata": {},
   "outputs": [],
   "source": [
    "def find_longest_space_dimension(volume_space):\n",
    "    '''\n",
    "    Determines the longest continuous stretch of empty space in all three dimensions.\n",
    "    '''\n",
    "    # Run along each dimension\n",
    "    results = []\n",
    "    for structure in structures:\n",
    "        # Binarize the space, then label along given dimension\n",
    "        dim_result = label(input = binarize_space(volume_space), structure=structure)[0]\n",
    "        # Turn into a 1-dimensional array\n",
    "        dim_result = np.reshape(dim_result, dim_result.size)\n",
    "        # Remove zeros\n",
    "        dim_result = np.delete(dim_result, np.where(dim_result == 0))\n",
    "        # Find most frequent occurrence\n",
    "        most_freq = np.bincount(dim_result).argmax()\n",
    "        # Return number of occurrences, which is equal to dimension in cm\n",
    "        results.append(np.count_nonzero(dim_result == most_freq))\n",
    "    # Return largest value from the three dimensions\n",
    "    return max(results)"
   ]
  },
  {
   "cell_type": "code",
   "execution_count": 172,
   "id": "179747f1",
   "metadata": {},
   "outputs": [],
   "source": [
    "def is_longest_dimension_sufficient(article_list, volume_space):\n",
    "    '''\n",
    "    Returns True if longest package dimension is smaller than or equal to longest space dimension\n",
    "    '''\n",
    "    return find_longest_package_dimension <= find_longest_space_dimension(volume_space)"
   ]
  },
  {
   "cell_type": "markdown",
   "id": "fc43a294",
   "metadata": {},
   "source": [
    "## Penalizer/Scorer"
   ]
  },
  {
   "cell_type": "code",
   "execution_count": 182,
   "id": "b0b43c77",
   "metadata": {},
   "outputs": [],
   "source": [
    "def find_empty_space(volume_space):\n",
    "    '''\n",
    "    Identifies contiguous pockets of empty space.\n",
    "    Returns number of empty spaces, their total volume and the volume of the largest empty space.\n",
    "    '''\n",
    "    # Set up structure - this treats as one contiguous space when...\n",
    "    # ...there are diagonal gaps as it might make the stack unstable\n",
    "    structure = np.ones((3,3,3), dtype=int)\n",
    "    # Binarize the space, then label pockets\n",
    "    dim_result = label(input = binarize_space(volume_space), structure=structure)[0]\n",
    "    # How many empty spaces are there?\n",
    "    number_spaces = np.max(dim_result)\n",
    "    # What's the total volume of empty space?\n",
    "    empty_volume = np.count_nonzero(dim_result)\n",
    "    # What's the volume of the largest empty space?\n",
    "    largest_volume = np.count_nonzero(dim_result == number_spaces)\n",
    "    return number_spaces, empty_volume, largest_volume"
   ]
  },
  {
   "cell_type": "code",
   "execution_count": 183,
   "id": "3c642809",
   "metadata": {},
   "outputs": [
    {
     "data": {
      "text/plain": [
       "(2, 20400, 18000)"
      ]
     },
     "execution_count": 183,
     "metadata": {},
     "output_type": "execute_result"
    }
   ],
   "source": [
    "find_empty_space(volume_space)"
   ]
  },
  {
   "cell_type": "code",
   "execution_count": 185,
   "id": "cc152adb",
   "metadata": {},
   "outputs": [],
   "source": [
    "def score_space(volume_space, article_list):\n",
    "    '''\n",
    "    This function assigns a score to the empty space left by the optimization algorithm.\n",
    "    There is a penalty for having more empty spaces as well as a relatively smaller largest empty space.\n",
    "    '''\n",
    "    # Get number of empty spaces, their total volume and the volume of the largest empty space\n",
    "    number_spaces, empty_volume, largest_volume = find_empty_space(volume_space)\n",
    "    # Get maximum possible empty space (assumes everything can be stacked perfectly)\n",
    "    max_largest_volume = find_available_space(volume_space) - find_total_package_volume(article_list)\n",
    "    '''INITIAL IDEA:\n",
    "    - Linear penalty for each empty space\n",
    "    - Log penalty for how much largest empty space is smaller than maximum possible\n",
    "    '''\n",
    "    score = number_spaces + np.log(max_largest_volume - largest_volume)"
   ]
  },
  {
   "cell_type": "markdown",
   "id": "cfd0572b",
   "metadata": {},
   "source": [
    "## Optimizer"
   ]
  },
  {
   "cell_type": "markdown",
   "id": "3b9c27a6",
   "metadata": {},
   "source": [
    "### Sort articles by size"
   ]
  },
  {
   "cell_type": "code",
   "execution_count": null,
   "id": "08f18fca",
   "metadata": {},
   "outputs": [],
   "source": [
    "def calculate_package_volume(article):\n",
    "    "
   ]
  }
 ],
 "metadata": {
  "kernelspec": {
   "display_name": "Python 3",
   "language": "python",
   "name": "python3"
  },
  "language_info": {
   "codemirror_mode": {
    "name": "ipython",
    "version": 3
   },
   "file_extension": ".py",
   "mimetype": "text/x-python",
   "name": "python",
   "nbconvert_exporter": "python",
   "pygments_lexer": "ipython3",
   "version": "3.8.6"
  },
  "toc": {
   "base_numbering": 1,
   "nav_menu": {},
   "number_sections": true,
   "sideBar": true,
   "skip_h1_title": false,
   "title_cell": "Table of Contents",
   "title_sidebar": "Contents",
   "toc_cell": false,
   "toc_position": {},
   "toc_section_display": true,
   "toc_window_display": false
  }
 },
 "nbformat": 4,
 "nbformat_minor": 5
}
