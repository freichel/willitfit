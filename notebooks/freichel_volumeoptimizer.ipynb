{
 "cells": [
  {
   "cell_type": "code",
   "execution_count": 1,
   "id": "9505b0be",
   "metadata": {
    "scrolled": true
   },
   "outputs": [],
   "source": [
    "import numpy as np\n",
    "from scipy.ndimage.measurements import label\n",
    "from threading import Thread\n",
    "from queue import Queue\n",
    "from skimage.feature import match_template"
   ]
  },
  {
   "cell_type": "code",
   "execution_count": 2,
   "id": "4c3df817",
   "metadata": {},
   "outputs": [],
   "source": [
    "VOL_UNAVAILABLE = -1\n",
    "VOL_BORDER = 1\n",
    "VOL_INTERIOR = -2\n",
    "VOL_EMPTY = 0 "
   ]
  },
  {
   "cell_type": "markdown",
   "id": "fda5305a",
   "metadata": {},
   "source": [
    "The following are just dummy data sets to run the algorithm"
   ]
  },
  {
   "cell_type": "code",
   "execution_count": 3,
   "id": "05686611",
   "metadata": {},
   "outputs": [],
   "source": [
    "article_list = [(\n",
    "    \"cube_1\",\n",
    "    2,\n",
    "    [(\n",
    "        1,\n",
    "        10,\n",
    "        10,\n",
    "        10,\n",
    "        1\n",
    "    )]\n",
    "),\n",
    "(\n",
    "    \"cube_2\",\n",
    "    2,\n",
    "    [(\n",
    "        1,\n",
    "        15,\n",
    "        15,\n",
    "        15,\n",
    "        2\n",
    "    )]\n",
    "),\n",
    "(\n",
    "    \"cuboid_1\",\n",
    "    1,\n",
    "    [(\n",
    "        1,\n",
    "        15,\n",
    "        30,\n",
    "        30,\n",
    "        2\n",
    "    )]\n",
    "),\n",
    "(\n",
    "    \"cuboid_2\",\n",
    "    1,\n",
    "    [(\n",
    "        1,\n",
    "        15,\n",
    "        30,\n",
    "        30,\n",
    "        1\n",
    "    ),\n",
    "    (\n",
    "        2,\n",
    "        5,\n",
    "        5,\n",
    "        10,\n",
    "        1\n",
    "    )]\n",
    ")]"
   ]
  },
  {
   "cell_type": "code",
   "execution_count": 45,
   "id": "faf23b42",
   "metadata": {},
   "outputs": [],
   "source": [
    "volume_space = np.full((80,80,80), VOL_EMPTY, dtype=int)\n",
    "volume_space[0,:,:] = VOL_UNAVAILABLE\n",
    "volume_space[:,0:2,:] = VOL_UNAVAILABLE\n",
    "volume_space[:,:,0] = VOL_UNAVAILABLE"
   ]
  },
  {
   "cell_type": "markdown",
   "id": "5f19e2d4",
   "metadata": {},
   "source": [
    "## General fit"
   ]
  },
  {
   "cell_type": "code",
   "execution_count": 5,
   "id": "f8055cf6",
   "metadata": {},
   "outputs": [],
   "source": [
    "def binarize_space(volume_space):\n",
    "    '''\n",
    "    Sets empty space to 1 and rest to 0.\n",
    "    Needed to be able to identify clusters.\n",
    "    '''\n",
    "    arbitrary_constant = max(VOL_UNAVAILABLE, VOL_BORDER, VOL_INTERIOR, VOL_EMPTY) + 1\n",
    "    first_step = np.where(volume_space != VOL_EMPTY, arbitrary_constant, volume_space)\n",
    "    second_step = np.where(first_step == VOL_EMPTY, 1, first_step)\n",
    "    return np.where(second_step == arbitrary_constant, 0, second_step)"
   ]
  },
  {
   "cell_type": "markdown",
   "id": "c1863820",
   "metadata": {},
   "source": [
    "### Overall volume fit"
   ]
  },
  {
   "cell_type": "code",
   "execution_count": 6,
   "id": "bde27e51",
   "metadata": {},
   "outputs": [],
   "source": [
    "def calculate_package_volume(package):\n",
    "    '''\n",
    "    Returns volume in cm cubed for package\n",
    "    '''\n",
    "    return np.prod(package)"
   ]
  },
  {
   "cell_type": "code",
   "execution_count": 7,
   "id": "e03db789",
   "metadata": {},
   "outputs": [],
   "source": [
    "def find_total_package_volume(article_list):\n",
    "    '''\n",
    "    Establishes total volume of packages in list in cm cubed.\n",
    "    Loops through each article in article_list, and each package in article.\n",
    "    Multiplies length, height and width (elements 1-3).\n",
    "    Sums up individual products and returns them as int\n",
    "    '''\n",
    "    return sum([calculate_package_volume(package[1:4]) for article in article_list for package in article[2]])"
   ]
  },
  {
   "cell_type": "code",
   "execution_count": 8,
   "id": "51cd1003",
   "metadata": {},
   "outputs": [
    {
     "data": {
      "text/plain": [
       "31625"
      ]
     },
     "execution_count": 8,
     "metadata": {},
     "output_type": "execute_result"
    }
   ],
   "source": [
    "find_total_package_volume(article_list)"
   ]
  },
  {
   "cell_type": "code",
   "execution_count": 9,
   "id": "3feb7085",
   "metadata": {},
   "outputs": [],
   "source": [
    "def find_available_space(volume_space):\n",
    "    '''\n",
    "    Returns total available volume in cm cubed by subtracting non-zero values from total array size\n",
    "    '''\n",
    "    return volume_space.size-np.count_nonzero(binarize_space(volume_space-VOL_UNAVAILABLE))"
   ]
  },
  {
   "cell_type": "code",
   "execution_count": 10,
   "id": "8c285e32",
   "metadata": {},
   "outputs": [],
   "source": [
    "#find_available_space(volume_space)"
   ]
  },
  {
   "cell_type": "code",
   "execution_count": 11,
   "id": "f3ce076f",
   "metadata": {},
   "outputs": [],
   "source": [
    "def is_space_sufficient(article_list, volume_space):\n",
    "    '''\n",
    "    Returns True if package volume is smaller than or equal to available volume\n",
    "    '''\n",
    "    return find_total_package_volume(article_list) <= find_available_space(volume_space)"
   ]
  },
  {
   "cell_type": "code",
   "execution_count": 12,
   "id": "aa0b9bce",
   "metadata": {},
   "outputs": [
    {
     "data": {
      "text/plain": [
       "True"
      ]
     },
     "execution_count": 12,
     "metadata": {},
     "output_type": "execute_result"
    }
   ],
   "source": [
    "is_space_sufficient(article_list, volume_space)"
   ]
  },
  {
   "cell_type": "markdown",
   "id": "a405fc11",
   "metadata": {},
   "source": [
    "### Fit by longest dimension"
   ]
  },
  {
   "cell_type": "code",
   "execution_count": 13,
   "id": "f35d93ae",
   "metadata": {},
   "outputs": [],
   "source": [
    "def find_longest_package_dimension(article_list):\n",
    "    '''\n",
    "    Finds single longest dimension in cm among all packages.\n",
    "    '''\n",
    "    return max([max(package[1:4]) for article in article_list for package in article[2]])"
   ]
  },
  {
   "cell_type": "code",
   "execution_count": 14,
   "id": "3dd66404",
   "metadata": {},
   "outputs": [
    {
     "data": {
      "text/plain": [
       "30"
      ]
     },
     "execution_count": 14,
     "metadata": {},
     "output_type": "execute_result"
    }
   ],
   "source": [
    "find_longest_package_dimension(article_list)"
   ]
  },
  {
   "cell_type": "code",
   "execution_count": 15,
   "id": "c0624c45",
   "metadata": {},
   "outputs": [],
   "source": [
    "# Linear structures in all three axes\n",
    "structure_y = [\n",
    "    [[0, 0, 0],\n",
    "     [0, 0, 0],\n",
    "     [0, 0, 0]],\n",
    "    [[0, 1, 0],\n",
    "     [0, 1, 0],\n",
    "     [0, 1, 0]],\n",
    "    [[0, 0, 0],\n",
    "     [0, 0, 0],\n",
    "     [0, 0, 0]]]\n",
    "structure_x = np.rot90(structure_y, axes=(1,2))\n",
    "structure_z = np.rot90(structure_y, axes=(0,1))\n",
    "structures = [structure_x, structure_y, structure_z]"
   ]
  },
  {
   "cell_type": "code",
   "execution_count": 16,
   "id": "c1a29019",
   "metadata": {},
   "outputs": [],
   "source": [
    "def find_longest_space_dimension(volume_space):\n",
    "    '''\n",
    "    Determines the longest continuous stretch of empty space in all three dimensions.\n",
    "    '''\n",
    "    # Run along each dimension\n",
    "    results = []\n",
    "    for structure in structures:\n",
    "        # Binarize the space, then label along given dimension\n",
    "        dim_result = label(input = binarize_space(volume_space), structure=structure)[0]\n",
    "        # Turn into a 1-dimensional array\n",
    "        dim_result = np.reshape(dim_result, dim_result.size)\n",
    "        # Remove zeros\n",
    "        dim_result = np.delete(dim_result, np.where(dim_result == 0))\n",
    "        # Find most frequent occurrence\n",
    "        most_freq = np.bincount(dim_result).argmax()\n",
    "        # Return number of occurrences, which is equal to dimension in cm\n",
    "        results.append(np.count_nonzero(dim_result == most_freq))\n",
    "    # Return largest value from the three dimensions\n",
    "    return max(results)"
   ]
  },
  {
   "cell_type": "code",
   "execution_count": 17,
   "id": "d2424e04",
   "metadata": {},
   "outputs": [],
   "source": [
    "def is_longest_dimension_sufficient(article_list, volume_space):\n",
    "    '''\n",
    "    Returns True if longest package dimension is smaller than or equal to longest space dimension\n",
    "    '''\n",
    "    return find_longest_package_dimension(article_list) <= find_longest_space_dimension(volume_space)"
   ]
  },
  {
   "cell_type": "markdown",
   "id": "6dd6f30a",
   "metadata": {},
   "source": [
    "## Penalizer/Scorer"
   ]
  },
  {
   "cell_type": "code",
   "execution_count": 18,
   "id": "d6215cf9",
   "metadata": {},
   "outputs": [],
   "source": [
    "def find_empty_space(volume_space):\n",
    "    '''\n",
    "    Identifies contiguous pockets of empty space.\n",
    "    Returns number of empty spaces, their total volume and the volume of the largest empty space.\n",
    "    '''\n",
    "    # Set up structure - this treats as one contiguous space when...\n",
    "    # ...there are diagonal gaps as it might make the stack unstable\n",
    "    structure = np.ones((3,3,3), dtype=int)\n",
    "    # Binarize the space, then label pockets\n",
    "    dim_result = label(input = binarize_space(volume_space), structure=structure)[0]\n",
    "    # How many empty spaces are there?\n",
    "    number_spaces = np.max(dim_result)\n",
    "    # What's the total volume of empty space?\n",
    "    empty_volume = np.count_nonzero(dim_result)\n",
    "    # What's the volume of the largest empty space?\n",
    "    largest_volume = np.count_nonzero(dim_result == number_spaces)\n",
    "    return number_spaces, empty_volume, largest_volume"
   ]
  },
  {
   "cell_type": "code",
   "execution_count": 19,
   "id": "ce627035",
   "metadata": {},
   "outputs": [
    {
     "data": {
      "text/plain": [
       "(1, 486798, 486798)"
      ]
     },
     "execution_count": 19,
     "metadata": {},
     "output_type": "execute_result"
    }
   ],
   "source": [
    "find_empty_space(volume_space)"
   ]
  },
  {
   "cell_type": "code",
   "execution_count": 20,
   "id": "018d7a04",
   "metadata": {},
   "outputs": [],
   "source": [
    "def score_space(volume_space, article_list):\n",
    "    '''\n",
    "    This function assigns a score to the empty space left by the optimization algorithm.\n",
    "    There is a penalty for having more empty spaces as well as a relatively smaller largest empty space.\n",
    "    '''\n",
    "    # Get number of empty spaces, their total volume and the volume of the largest empty space\n",
    "    number_spaces, empty_volume, largest_volume = find_empty_space(volume_space)\n",
    "    # Get maximum possible empty space (assumes everything can be stacked perfectly)\n",
    "    max_largest_volume = find_available_space(volume_space) - find_total_package_volume(article_list)\n",
    "    '''INITIAL IDEA:\n",
    "    - Linear penalty for each empty space\n",
    "    - Log penalty for how much largest empty space is smaller than maximum possible\n",
    "    '''\n",
    "    score = number_spaces + np.log(max_largest_volume - largest_volume)\n",
    "    return score"
   ]
  },
  {
   "cell_type": "markdown",
   "id": "b7a054bf",
   "metadata": {},
   "source": [
    "## Optimizer"
   ]
  },
  {
   "cell_type": "markdown",
   "id": "d1618518",
   "metadata": {},
   "source": [
    "### Sort packages"
   ]
  },
  {
   "cell_type": "code",
   "execution_count": 21,
   "id": "7f26d660",
   "metadata": {},
   "outputs": [],
   "source": [
    "def sort_packages(article_list, sort_by=\"volume\", direction=\"descending\"):\n",
    "    '''\n",
    "    Returns 2-dimensional list of packages sorted by sort_by in the shape of\n",
    "    [(article_code, article_id, package_id)]\n",
    "    '''\n",
    "    # Initialize list\n",
    "    return_list = []\n",
    "    # Loop through articles\n",
    "    for article in article_list:\n",
    "        # If articles exist more than once, loop here too\n",
    "        for article_id in range(article[1]):\n",
    "            # Loop through packages\n",
    "            for package in article[2]:\n",
    "                # So far only sorting by volume has been implemented.\n",
    "                if sort_by == \"volume\":      \n",
    "                    return_list.append((article[0], article_id+1, package[0], calculate_package_volume(package)))\n",
    "    # Turn into a numpy array for easier sorting\n",
    "    return_list = np.array(return_list)\n",
    "    # Sort by volume (4th column)\n",
    "    return_list = return_list[return_list[:,3].astype(int).argsort()]\n",
    "    # This gives an ascending order. Reverse if needed\n",
    "    if direction == \"descending\":\n",
    "        return_list = np.flip(return_list, axis=0)\n",
    "    # Remove volume column\n",
    "    return return_list[:,:3]"
   ]
  },
  {
   "cell_type": "code",
   "execution_count": 22,
   "id": "42b8ca72",
   "metadata": {},
   "outputs": [
    {
     "data": {
      "text/plain": [
       "array([['cuboid_1', '1', '1'],\n",
       "       ['cuboid_2', '1', '1'],\n",
       "       ['cube_2', '2', '1'],\n",
       "       ['cube_2', '1', '1'],\n",
       "       ['cube_1', '2', '1'],\n",
       "       ['cube_1', '1', '1'],\n",
       "       ['cuboid_2', '1', '2']], dtype='<U21')"
      ]
     },
     "execution_count": 22,
     "metadata": {},
     "output_type": "execute_result"
    }
   ],
   "source": [
    "sort_packages(article_list)"
   ]
  },
  {
   "cell_type": "markdown",
   "id": "55633480",
   "metadata": {},
   "source": [
    "We could easily have other sorting functions, or some randomness:"
   ]
  },
  {
   "cell_type": "code",
   "execution_count": 23,
   "id": "16dbc8db",
   "metadata": {},
   "outputs": [],
   "source": [
    "def hash_list(article_list):\n",
    "    '''\n",
    "    Creates an element-wise list of hashes\n",
    "    '''\n",
    "    return [hash(article.tobytes()) for article in article_list]"
   ]
  },
  {
   "cell_type": "code",
   "execution_count": 60,
   "id": "93e705b7",
   "metadata": {},
   "outputs": [],
   "source": [
    "def generate_package_lists(article_list, sorters = [\"volume|ascending\", \"volume|ascending\", \"volume|descending\"], random_lists = 10):\n",
    "    '''\n",
    "    Returns list of package lists for the optimizer.\n",
    "    Lists can be pre-defined or randomized.\n",
    "    '''\n",
    "    \n",
    "    '''\n",
    "    IMPROVEMENT OPTION:\n",
    "    - if random_lists is larger than maximum number of permutations, just use permutations directly\n",
    "    '''\n",
    "    \n",
    "    \n",
    "    package_lists = []\n",
    "    # First generate pre-defined lists\n",
    "    sorters = set(sorters)\n",
    "    for sorter in sorters:\n",
    "        # Split by delimiter\n",
    "        sort_by, direction = sorter.split(\"|\")\n",
    "        package_lists.append(sort_packages(article_list, sort_by=sort_by, direction=direction))\n",
    "    \n",
    "    # Add random lists\n",
    "    # But first check if any are needed\n",
    "    if random_lists == 0:\n",
    "        return package_lists\n",
    "    # Create starting point if there is none, i.e. no pre-defined lists\n",
    "    if len(package_lists) == 0:\n",
    "        starter_list = sort_packages(article_list)\n",
    "    else:\n",
    "        starter_list = np.copy(package_lists[0])\n",
    "    \n",
    "    # What is the actual maximum number of unique lists?\n",
    "    max_permut = np.math.factorial(len(starter_list))\n",
    "\n",
    "    # Now add as many random lists as needed    \n",
    "    while True:\n",
    "        # Shuffle starter list and copy data\n",
    "        np.random.shuffle(starter_list)\n",
    "        new_list = np.copy(starter_list)\n",
    "        # Check if this particular permutation exists already by looking at hashes\n",
    "        if hash_list([new_list])[0] not in hash_list(package_lists):\n",
    "            package_lists.append(new_list)\n",
    "        else:\n",
    "            print(\"duplicate\")\n",
    "        # Check if length requirement (smaller of pre-defined lists + random_lists and max_permut) is fulfilled\n",
    "        if len(package_lists) == min(len(sorters) + random_lists, max_permut):\n",
    "            break\n",
    "    return package_lists"
   ]
  },
  {
   "cell_type": "code",
   "execution_count": 62,
   "id": "a9cd6701",
   "metadata": {
    "collapsed": true
   },
   "outputs": [
    {
     "data": {
      "text/plain": [
       "[array([['cuboid_2', '1', '2'],\n",
       "        ['cube_1', '1', '1'],\n",
       "        ['cube_1', '2', '1'],\n",
       "        ['cube_2', '1', '1'],\n",
       "        ['cube_2', '2', '1'],\n",
       "        ['cuboid_2', '1', '1'],\n",
       "        ['cuboid_1', '1', '1']], dtype='<U21'),\n",
       " array([['cuboid_1', '1', '1'],\n",
       "        ['cuboid_2', '1', '1'],\n",
       "        ['cube_2', '2', '1'],\n",
       "        ['cube_2', '1', '1'],\n",
       "        ['cube_1', '2', '1'],\n",
       "        ['cube_1', '1', '1'],\n",
       "        ['cuboid_2', '1', '2']], dtype='<U21')]"
      ]
     },
     "execution_count": 62,
     "metadata": {},
     "output_type": "execute_result"
    }
   ],
   "source": [
    "generate_package_lists(article_list, random_lists=0)"
   ]
  },
  {
   "cell_type": "markdown",
   "id": "e7021f40",
   "metadata": {},
   "source": [
    "### Package orientation"
   ]
  },
  {
   "cell_type": "code",
   "execution_count": 26,
   "id": "a446c0aa",
   "metadata": {},
   "outputs": [],
   "source": [
    "def choose_orientation(package_length, package_width, package_height):\n",
    "    '''\n",
    "    A 3-dimensional object (with exceptions like cubes) that needs to align...\n",
    "    ...with the grid can have six degrees of freedom.\n",
    "    Returns one random orientation for a given package.\n",
    "    '''\n",
    "    dimensions = [package_length, package_width, package_height]\n",
    "    np.random.shuffle(dimensions)\n",
    "    return (dimensions[0], dimensions[1], dimensions[2])"
   ]
  },
  {
   "cell_type": "markdown",
   "id": "f167c05c",
   "metadata": {},
   "source": [
    "### Optimizer function"
   ]
  },
  {
   "cell_type": "code",
   "execution_count": 27,
   "id": "7237c4fc",
   "metadata": {},
   "outputs": [],
   "source": [
    "INSUFFICIENT_SPACE = \"Not enough space for packages in chosen trunk.\"\n",
    "INSUFFICIENT_DIMENSION = \"At least one package dimension exceeds trunk dimension.\"\n",
    "OPT_INSUFFICIENT_SPACE = \"Optimizer could not place this package (internal return code).\"\n",
    "OPT_UNSUCCESSFUL = \"Optimizer was unable to place all packages.\""
   ]
  },
  {
   "cell_type": "code",
   "execution_count": 28,
   "id": "9687bc8b",
   "metadata": {},
   "outputs": [],
   "source": [
    "def find_first_space(package_x, package_y, package_z, volume_space):\n",
    "    '''\n",
    "    Finds first suitable space for package dimensions.\n",
    "    Returns x,y,z starting coordinates.\n",
    "    '''\n",
    "    # Binarize volume space - empty areas shown as ones\n",
    "    bin_space = binarize_space(volume_space)\n",
    "    # Initialize template shape, to be used to find in bin_space\n",
    "    template_shape = np.ones((package_x, package_y, package_z))\n",
    "    # No idea why that is required (maybe otherwise similarity is too high?)\n",
    "    template_shape[1,1,1] = 1.01\n",
    "    # Use skimage's match_template to process a sliding window over bin_space...\n",
    "    # ...and find the first location of zero, which indicates the starting point\n",
    "    result = np.where(match_template(bin_space, template_shape) == 0)\n",
    "    # From here we can extract the coordinates\n",
    "    for i, _ in enumerate(result[0]):\n",
    "        if bin_space[result[0][i], result[1][i], result[2][i]] == 1:\n",
    "            return (result[0][i], result[1][i], result[2][i])\n",
    "    # If the package cannot be placed, return error code\n",
    "    return OPT_INSUFFICIENT_SPACE"
   ]
  },
  {
   "cell_type": "code",
   "execution_count": 29,
   "id": "b64bbf36",
   "metadata": {},
   "outputs": [],
   "source": [
    "def place_package(package_dimensions, volume_space):\n",
    "    '''\n",
    "    Attempt to place next package.\n",
    "    If successful, return filled volume_space and start/end coordinates,\n",
    "    if not, return error code.\n",
    "    '''\n",
    "    # Unpack package dimensions\n",
    "    package_x, package_y, package_z = package_dimensions\n",
    "    package_volume = calculate_package_volume(package_dimensions)\n",
    "    # Find space for package\n",
    "    return_value = find_first_space(package_x, package_y, package_z, volume_space)\n",
    "    # Check for error codes\n",
    "    if return_value == OPT_INSUFFICIENT_SPACE:\n",
    "        return OPT_INSUFFICIENT_SPACE\n",
    "    x, y, z  = return_value\n",
    "    # Check available space - there need to be as many zeros as the package_volume for it to fit\n",
    "    available_space = volume_space[x:x+package_x, y:y+package_y, z:z+package_z]\n",
    "    # If the package cannot be placed, return\n",
    "    if package_volume != available_space.size - np.count_nonzero(available_space):\n",
    "        return OPT_INSUFFICIENT_SPACE\n",
    "    # Otherwise populate the array\n",
    "    # Surfaces first\n",
    "    # z-plain\n",
    "    volume_space[x:x+package_x, y:y+package_y, z] = VOL_BORDER\n",
    "    volume_space[x:x+package_x, y:y+package_y, z+package_z-1] = VOL_BORDER\n",
    "    # y-plain\n",
    "    volume_space[x:x+package_x, y, z:z+package_z] = VOL_BORDER\n",
    "    volume_space[x:x+package_x, y+package_y-1, z:z+package_z] = VOL_BORDER\n",
    "    # x-plain\n",
    "    volume_space[x, y:y+package_y, z:z+package_z] = VOL_BORDER\n",
    "    volume_space[x+package_x-1, y:y+package_y, z:z+package_z] = VOL_BORDER\n",
    "    # Fill interior area\n",
    "    volume_space[x+1:x+package_x-1, y+1:y+package_y-1, z+1:z+package_z-1] = VOL_INTERIOR\n",
    "    \n",
    "    return volume_space, x, y, z, x+package_x-1, y+package_y-1, z+package_z-1"
   ]
  },
  {
   "cell_type": "code",
   "execution_count": 46,
   "id": "c59f1735",
   "metadata": {},
   "outputs": [],
   "source": [
    "def optimizer(package_list, article_list, volume_space, queue=None, max_attempts=10):\n",
    "    '''\n",
    "    Places packages sequentially into available space.\n",
    "    If at any point a package can no longer be placed, try again up to max_attempts times.\n",
    "    Returns score, attempts taken, filled volume_space and package coordinates.\n",
    "    '''\n",
    "    # Attempts taken\n",
    "    attempts_counter = 1\n",
    "    # Take pristine copy of volume_space\n",
    "    empty_space = np.copy(volume_space)\n",
    "    # Package counter variable\n",
    "    package_counter = 0\n",
    "    # Package coordinates\n",
    "    package_coordinates = []\n",
    "    \n",
    "    # Loop while there are still packages to place\n",
    "    while True:\n",
    "        # Pick up first package\n",
    "        package = package_list[package_counter]\n",
    "        # Find article index\n",
    "        idx = sum([i for i, article in enumerate(article_list) if article[0] == package[0]])\n",
    "        # Get package dimensions: Looks up article by its index (idx),\n",
    "        # package definitions are the 3rd element (2),\n",
    "        # packages are listed, so it's the n-1th element.\n",
    "        pkg = article_list[idx][2][int(package[2])-1]\n",
    "        package_length, package_width, package_height = pkg[1], pkg[2], pkg[3]\n",
    "        # Obtain package orientation (random)\n",
    "        package_dimensions = choose_orientation(package_length, package_width, package_height)\n",
    "        \n",
    "        # Attempt to place package in space\n",
    "        placement_result = place_package(package_dimensions, volume_space)\n",
    "        \n",
    "        # Check if placement was successful\n",
    "        if placement_result != OPT_INSUFFICIENT_SPACE:\n",
    "            # Extract return variables and append to package_coordinates\n",
    "            volume_space, x_start, y_start, z_start, x_end, y_end, z_end = placement_result\n",
    "            return_list = [package[0], package[1], package[2], x_start, y_start, z_start, x_end, y_end, z_end]\n",
    "            package_coordinates.append(return_list)\n",
    "        else:\n",
    "            # If unsuccessful, increase counter of attempts taken\n",
    "            attempts_counter +=1\n",
    "            # See if this is too many attempts already\n",
    "            if attempts_counter > max_attempts:\n",
    "                # Return error code\n",
    "                return OPT_UNSUCCESSFUL\n",
    "            else:\n",
    "                # Try again\n",
    "                package_counter = 0\n",
    "                package_coordinates = []\n",
    "                volume_space = np.copy(empty_space)\n",
    "                continue\n",
    "        \n",
    "        # Increase counter to move to next package\n",
    "        package_counter += 1\n",
    "        # Once all packages have been placed\n",
    "        if package_counter == len(package_list):\n",
    "            # Score stacking\n",
    "            score = score_space(volume_space, article_list)\n",
    "            # Return\n",
    "            if queue is not None:\n",
    "                queue.put((score, attempts_counter, volume_space, package_coordinates))\n",
    "            return score, attempts_counter, volume_space, package_coordinates"
   ]
  },
  {
   "cell_type": "code",
   "execution_count": 47,
   "id": "b1904b19",
   "metadata": {
    "collapsed": true
   },
   "outputs": [
    {
     "data": {
      "text/plain": [
       "(9.383661798791715,\n",
       " 1,\n",
       " array([[[-1, -1, -1, ..., -1, -1, -1],\n",
       "         [-1, -1, -1, ..., -1, -1, -1],\n",
       "         [-1, -1, -1, ..., -1, -1, -1],\n",
       "         ...,\n",
       "         [-1, -1, -1, ..., -1, -1, -1],\n",
       "         [-1, -1, -1, ..., -1, -1, -1],\n",
       "         [-1, -1, -1, ..., -1, -1, -1]],\n",
       " \n",
       "        [[-1, -1, -1, ..., -1, -1, -1],\n",
       "         [-1, -1, -1, ..., -1, -1, -1],\n",
       "         [-1,  1,  1, ...,  0,  0,  0],\n",
       "         ...,\n",
       "         [-1,  0,  0, ...,  0,  0,  0],\n",
       "         [-1,  0,  0, ...,  0,  0,  0],\n",
       "         [-1,  0,  0, ...,  0,  0,  0]],\n",
       " \n",
       "        [[-1, -1, -1, ..., -1, -1, -1],\n",
       "         [-1, -1, -1, ..., -1, -1, -1],\n",
       "         [-1,  1,  1, ...,  0,  0,  0],\n",
       "         ...,\n",
       "         [-1,  0,  0, ...,  0,  0,  0],\n",
       "         [-1,  0,  0, ...,  0,  0,  0],\n",
       "         [-1,  0,  0, ...,  0,  0,  0]],\n",
       " \n",
       "        ...,\n",
       " \n",
       "        [[-1, -1, -1, ..., -1, -1, -1],\n",
       "         [-1, -1, -1, ..., -1, -1, -1],\n",
       "         [-1,  0,  0, ...,  0,  0,  0],\n",
       "         ...,\n",
       "         [-1,  0,  0, ...,  0,  0,  0],\n",
       "         [-1,  0,  0, ...,  0,  0,  0],\n",
       "         [-1,  0,  0, ...,  0,  0,  0]],\n",
       " \n",
       "        [[-1, -1, -1, ..., -1, -1, -1],\n",
       "         [-1, -1, -1, ..., -1, -1, -1],\n",
       "         [-1,  0,  0, ...,  0,  0,  0],\n",
       "         ...,\n",
       "         [-1,  0,  0, ...,  0,  0,  0],\n",
       "         [-1,  0,  0, ...,  0,  0,  0],\n",
       "         [-1,  0,  0, ...,  0,  0,  0]],\n",
       " \n",
       "        [[-1, -1, -1, ..., -1, -1, -1],\n",
       "         [-1, -1, -1, ..., -1, -1, -1],\n",
       "         [-1,  0,  0, ...,  0,  0,  0],\n",
       "         ...,\n",
       "         [-1,  0,  0, ...,  0,  0,  0],\n",
       "         [-1,  0,  0, ...,  0,  0,  0],\n",
       "         [-1,  0,  0, ...,  0,  0,  0]]]),\n",
       " [['cuboid_2', '1', '2', 1, 2, 1, 10, 6, 5],\n",
       "  ['cube_1', '1', '1', 1, 2, 6, 10, 11, 15],\n",
       "  ['cube_1', '2', '1', 1, 2, 16, 10, 11, 25],\n",
       "  ['cube_2', '1', '1', 1, 2, 26, 15, 16, 40],\n",
       "  ['cube_2', '2', '1', 1, 2, 41, 15, 16, 55],\n",
       "  ['cuboid_2', '1', '1', 1, 2, 56, 30, 31, 70],\n",
       "  ['cuboid_1', '1', '1', 1, 12, 1, 30, 41, 15]])"
      ]
     },
     "execution_count": 47,
     "metadata": {},
     "output_type": "execute_result"
    }
   ],
   "source": [
    "optimizer(generate_package_lists(article_list)[0], article_list, np.copy(volume_space))"
   ]
  },
  {
   "cell_type": "markdown",
   "id": "c6660196",
   "metadata": {},
   "source": [
    "### Set up threading"
   ]
  },
  {
   "cell_type": "code",
   "execution_count": 77,
   "id": "fe32b024",
   "metadata": {},
   "outputs": [],
   "source": [
    "def generate_optimizer(article_list, volume_space, generator_sorters = [\"volume|ascending\", \"volume|ascending\", \"volume|descending\"], generator_random_lists = 10, optimizer_max_attempts = 10):\n",
    "    '''\n",
    "    Main function to run this module.\n",
    "    First checks if packages can fit at all, then generates various package lists.\n",
    "    Runs optimizers in parallel on each list.\n",
    "    Finds lowest achieved score.\n",
    "    Returns filled volume_space and package coordinates.\n",
    "    '''\n",
    "    # Check if package volume is smaller than or equal to available space, otherwise return error\n",
    "    if not is_space_sufficient(article_list, volume_space):\n",
    "        return INSUFFICIENT_SPACE\n",
    "    # Check if longest package dimension is smaller than or equal to longest space dimension, otherwise return error\n",
    "    if not is_longest_dimension_sufficient(article_list, volume_space):\n",
    "        return INSUFFICIENT_DIMENSION\n",
    "    # Generate list of package lists\n",
    "    package_lists = generate_package_lists(article_list, sorters=generator_sorters, random_lists=generator_random_lists)\n",
    "    \n",
    "    # Set up threads\n",
    "    threads = []\n",
    "    queue = Queue()\n",
    "    return_vals = []\n",
    "    # Call optimizer function for each package list\n",
    "    for package_list in package_lists:\n",
    "        # Set up new thread\n",
    "        optimizer_thread = Thread(target=optimizer, args=(package_list, article_list, np.copy(volume_space), queue, optimizer_max_attempts))\n",
    "        # Append to thread list\n",
    "        threads.append(optimizer_thread)\n",
    "        # Start thread\n",
    "        optimizer_thread.start()\n",
    "        response = queue.get()\n",
    "        return_vals.append(response)\n",
    "    # Receive return values back for each thread\n",
    "    for idx, thread in enumerate(threads):\n",
    "        thread.join()\n",
    "    # Find lowest score\n",
    "    scores = [return_val[0] for return_val in return_vals]\n",
    "    score_index = scores.index(min(scores))\n",
    "    # Return \n",
    "    return return_vals[score_index][2:]"
   ]
  },
  {
   "cell_type": "code",
   "execution_count": 78,
   "id": "d5e641b4",
   "metadata": {},
   "outputs": [
    {
     "data": {
      "text/plain": [
       "(array([[[-1, -1, -1, ..., -1, -1, -1],\n",
       "         [-1, -1, -1, ..., -1, -1, -1],\n",
       "         [-1, -1, -1, ..., -1, -1, -1],\n",
       "         ...,\n",
       "         [-1, -1, -1, ..., -1, -1, -1],\n",
       "         [-1, -1, -1, ..., -1, -1, -1],\n",
       "         [-1, -1, -1, ..., -1, -1, -1]],\n",
       " \n",
       "        [[-1, -1, -1, ..., -1, -1, -1],\n",
       "         [-1, -1, -1, ..., -1, -1, -1],\n",
       "         [-1,  1,  1, ...,  0,  0,  0],\n",
       "         ...,\n",
       "         [-1,  0,  0, ...,  0,  0,  0],\n",
       "         [-1,  0,  0, ...,  0,  0,  0],\n",
       "         [-1,  0,  0, ...,  0,  0,  0]],\n",
       " \n",
       "        [[-1, -1, -1, ..., -1, -1, -1],\n",
       "         [-1, -1, -1, ..., -1, -1, -1],\n",
       "         [-1,  1,  1, ...,  0,  0,  0],\n",
       "         ...,\n",
       "         [-1,  0,  0, ...,  0,  0,  0],\n",
       "         [-1,  0,  0, ...,  0,  0,  0],\n",
       "         [-1,  0,  0, ...,  0,  0,  0]],\n",
       " \n",
       "        ...,\n",
       " \n",
       "        [[-1, -1, -1, ..., -1, -1, -1],\n",
       "         [-1, -1, -1, ..., -1, -1, -1],\n",
       "         [-1,  0,  0, ...,  0,  0,  0],\n",
       "         ...,\n",
       "         [-1,  0,  0, ...,  0,  0,  0],\n",
       "         [-1,  0,  0, ...,  0,  0,  0],\n",
       "         [-1,  0,  0, ...,  0,  0,  0]],\n",
       " \n",
       "        [[-1, -1, -1, ..., -1, -1, -1],\n",
       "         [-1, -1, -1, ..., -1, -1, -1],\n",
       "         [-1,  0,  0, ...,  0,  0,  0],\n",
       "         ...,\n",
       "         [-1,  0,  0, ...,  0,  0,  0],\n",
       "         [-1,  0,  0, ...,  0,  0,  0],\n",
       "         [-1,  0,  0, ...,  0,  0,  0]],\n",
       " \n",
       "        [[-1, -1, -1, ..., -1, -1, -1],\n",
       "         [-1, -1, -1, ..., -1, -1, -1],\n",
       "         [-1,  0,  0, ...,  0,  0,  0],\n",
       "         ...,\n",
       "         [-1,  0,  0, ...,  0,  0,  0],\n",
       "         [-1,  0,  0, ...,  0,  0,  0],\n",
       "         [-1,  0,  0, ...,  0,  0,  0]]]),\n",
       " [['cuboid_2', '1', '2', 1, 2, 1, 5, 11, 5],\n",
       "  ['cube_1', '1', '1', 1, 2, 6, 10, 11, 15],\n",
       "  ['cube_1', '2', '1', 1, 2, 16, 10, 11, 25],\n",
       "  ['cube_2', '1', '1', 1, 2, 26, 15, 16, 40],\n",
       "  ['cube_2', '2', '1', 1, 2, 41, 15, 16, 55],\n",
       "  ['cuboid_2', '1', '1', 1, 17, 1, 15, 46, 30],\n",
       "  ['cuboid_1', '1', '1', 1, 17, 31, 30, 31, 60]])"
      ]
     },
     "execution_count": 78,
     "metadata": {},
     "output_type": "execute_result"
    }
   ],
   "source": [
    "generate_optimizer(article_list, np.copy(volume_space))"
   ]
  }
 ],
 "metadata": {
  "kernelspec": {
   "display_name": "Python 3",
   "language": "python",
   "name": "python3"
  },
  "language_info": {
   "codemirror_mode": {
    "name": "ipython",
    "version": 3
   },
   "file_extension": ".py",
   "mimetype": "text/x-python",
   "name": "python",
   "nbconvert_exporter": "python",
   "pygments_lexer": "ipython3",
   "version": "3.8.6"
  },
  "toc": {
   "base_numbering": 1,
   "nav_menu": {
    "height": "235px",
    "width": "302px"
   },
   "number_sections": true,
   "sideBar": true,
   "skip_h1_title": false,
   "title_cell": "Table of Contents",
   "title_sidebar": "Contents",
   "toc_cell": false,
   "toc_position": {
    "height": "calc(100% - 180px)",
    "left": "10px",
    "top": "150px",
    "width": "384px"
   },
   "toc_section_display": true,
   "toc_window_display": true
  }
 },
 "nbformat": 4,
 "nbformat_minor": 5
}
