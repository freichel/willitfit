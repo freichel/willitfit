{
 "cells": [
  {
   "cell_type": "code",
   "execution_count": 261,
   "id": "9505b0be",
   "metadata": {
    "scrolled": true
   },
   "outputs": [],
   "source": [
    "import numpy as np\n",
    "from scipy.ndimage.measurements import label\n",
    "import threading"
   ]
  },
  {
   "cell_type": "code",
   "execution_count": 5,
   "id": "4c3df817",
   "metadata": {},
   "outputs": [],
   "source": [
    "VOL_UNAVAILABLE = -1\n",
    "VOL_BORDER = 1\n",
    "VOL_INTERIOR = -2\n",
    "VOL_EMPTY = 0 "
   ]
  },
  {
   "cell_type": "markdown",
   "id": "fda5305a",
   "metadata": {},
   "source": [
    "The following are just dummy data sets to run the algorithm"
   ]
  },
  {
   "cell_type": "code",
   "execution_count": 20,
   "id": "05686611",
   "metadata": {},
   "outputs": [],
   "source": [
    "article_list = [(\n",
    "    \"cube_1\",\n",
    "    2,\n",
    "    [(\n",
    "        1,\n",
    "        10,\n",
    "        10,\n",
    "        10,\n",
    "        1\n",
    "    )]\n",
    "),\n",
    "(\n",
    "    \"cube_2\",\n",
    "    2,\n",
    "    [(\n",
    "        1,\n",
    "        15,\n",
    "        15,\n",
    "        15,\n",
    "        2\n",
    "    )]\n",
    "),\n",
    "(\n",
    "    \"cuboid_1\",\n",
    "    1,\n",
    "    [(\n",
    "        1,\n",
    "        15,\n",
    "        30,\n",
    "        30,\n",
    "        2\n",
    "    )]\n",
    "),\n",
    "(\n",
    "    \"cuboid_2\",\n",
    "    1,\n",
    "    [(\n",
    "        1,\n",
    "        15,\n",
    "        30,\n",
    "        30,\n",
    "        1\n",
    "    ),\n",
    "    (\n",
    "        2,\n",
    "        5,\n",
    "        5,\n",
    "        10,\n",
    "        1\n",
    "    )]\n",
    ")]"
   ]
  },
  {
   "cell_type": "code",
   "execution_count": 485,
   "id": "faf23b42",
   "metadata": {},
   "outputs": [],
   "source": [
    "volume_space = np.full((40,40,40), VOL_EMPTY, dtype=int)\n",
    "volume_space[0,:,:] = VOL_UNAVAILABLE\n",
    "volume_space[:,0:2,:] = VOL_UNAVAILABLE\n",
    "volume_space[:,:,0] = VOL_UNAVAILABLE"
   ]
  },
  {
   "cell_type": "markdown",
   "id": "5f19e2d4",
   "metadata": {},
   "source": [
    "## General fit"
   ]
  },
  {
   "cell_type": "markdown",
   "id": "c1863820",
   "metadata": {},
   "source": [
    "### Overall volume fit"
   ]
  },
  {
   "cell_type": "code",
   "execution_count": 543,
   "id": "bde27e51",
   "metadata": {},
   "outputs": [],
   "source": [
    "def calculate_package_volume(package):\n",
    "    '''\n",
    "    Returns volume in cm cubed for package\n",
    "    '''\n",
    "    return np.prod(package)"
   ]
  },
  {
   "cell_type": "code",
   "execution_count": 544,
   "id": "e03db789",
   "metadata": {},
   "outputs": [],
   "source": [
    "def find_total_package_volume(article_list):\n",
    "    '''\n",
    "    Establishes total volume of packages in list in cm cubed.\n",
    "    Loops through each article in article_list, and each package in article.\n",
    "    Multiplies length, height and width (elements 1-3).\n",
    "    Sums up individual products and returns them as int\n",
    "    '''\n",
    "    return sum([calculate_package_volume(package[1:4]) for article in article_list for package in article[2]])"
   ]
  },
  {
   "cell_type": "code",
   "execution_count": 545,
   "id": "51cd1003",
   "metadata": {},
   "outputs": [
    {
     "data": {
      "text/plain": [
       "31625"
      ]
     },
     "execution_count": 545,
     "metadata": {},
     "output_type": "execute_result"
    }
   ],
   "source": [
    "find_total_package_volume(article_list)"
   ]
  },
  {
   "cell_type": "code",
   "execution_count": 230,
   "id": "3feb7085",
   "metadata": {},
   "outputs": [],
   "source": [
    "def find_available_space(volume_space):\n",
    "    '''\n",
    "    Returns total available volume in cm cubed by subtracting non-zero values from total array size\n",
    "    '''\n",
    "    return volume_space.size-np.count_nonzero(volume_space)"
   ]
  },
  {
   "cell_type": "code",
   "execution_count": 93,
   "id": "8c285e32",
   "metadata": {},
   "outputs": [
    {
     "data": {
      "text/plain": [
       "32500"
      ]
     },
     "execution_count": 93,
     "metadata": {},
     "output_type": "execute_result"
    }
   ],
   "source": [
    "find_available_space(volume_space)"
   ]
  },
  {
   "cell_type": "code",
   "execution_count": 94,
   "id": "f3ce076f",
   "metadata": {},
   "outputs": [],
   "source": [
    "def is_space_sufficient(article_list, volume_space):\n",
    "    '''\n",
    "    Returns True if package volume is smaller than or equal to available volume\n",
    "    '''\n",
    "    return find_total_package_volume(article_list) <= find_available_space(volume_space)"
   ]
  },
  {
   "cell_type": "code",
   "execution_count": 471,
   "id": "aa0b9bce",
   "metadata": {},
   "outputs": [
    {
     "data": {
      "text/plain": [
       "True"
      ]
     },
     "execution_count": 471,
     "metadata": {},
     "output_type": "execute_result"
    }
   ],
   "source": [
    "is_space_sufficient(article_list, volume_space)"
   ]
  },
  {
   "cell_type": "markdown",
   "id": "a405fc11",
   "metadata": {},
   "source": [
    "### Fit by longest dimension"
   ]
  },
  {
   "cell_type": "code",
   "execution_count": 231,
   "id": "f35d93ae",
   "metadata": {},
   "outputs": [],
   "source": [
    "def find_longest_package_dimension(article_list):\n",
    "    '''\n",
    "    Finds single longest dimension in cm among all packages.\n",
    "    '''\n",
    "    return max([max(package[1:4]) for article in article_list for package in article[2]])"
   ]
  },
  {
   "cell_type": "code",
   "execution_count": 97,
   "id": "3dd66404",
   "metadata": {},
   "outputs": [
    {
     "data": {
      "text/plain": [
       "30"
      ]
     },
     "execution_count": 97,
     "metadata": {},
     "output_type": "execute_result"
    }
   ],
   "source": [
    "find_longest_package_dimension(article_list)"
   ]
  },
  {
   "cell_type": "code",
   "execution_count": 110,
   "id": "cc1fc024",
   "metadata": {},
   "outputs": [],
   "source": [
    "def binarize_space(volume_space):\n",
    "    '''\n",
    "    Sets empty space to 1 and rest to 0.\n",
    "    Needed to be able to identify clusters.\n",
    "    '''\n",
    "    arbitrary_constant = max(VOL_UNAVAILABLE, VOL_BORDER, VOL_INTERIOR, VOL_EMPTY) + 1\n",
    "    first_step = np.where(volume_space != VOL_EMPTY, arbitrary_constant, volume_space)\n",
    "    second_step = np.where(first_step == VOL_EMPTY, 1, first_step)\n",
    "    return np.where(second_step == arbitrary_constant, 0, second_step)"
   ]
  },
  {
   "cell_type": "code",
   "execution_count": 149,
   "id": "c0624c45",
   "metadata": {},
   "outputs": [],
   "source": [
    "# Linear structures in all three axes\n",
    "structure_y = [\n",
    "    [[0, 0, 0],\n",
    "     [0, 0, 0],\n",
    "     [0, 0, 0]],\n",
    "    [[0, 1, 0],\n",
    "     [0, 1, 0],\n",
    "     [0, 1, 0]],\n",
    "    [[0, 0, 0],\n",
    "     [0, 0, 0],\n",
    "     [0, 0, 0]]]\n",
    "structure_x = np.rot90(structure_x, axes=(1,2))\n",
    "structure_z = np.rot90(structure_x, axes=(0,1))\n",
    "structures = [structure_x, structure_y, structure_z]"
   ]
  },
  {
   "cell_type": "code",
   "execution_count": 232,
   "id": "c1a29019",
   "metadata": {},
   "outputs": [],
   "source": [
    "def find_longest_space_dimension(volume_space):\n",
    "    '''\n",
    "    Determines the longest continuous stretch of empty space in all three dimensions.\n",
    "    '''\n",
    "    # Run along each dimension\n",
    "    results = []\n",
    "    for structure in structures:\n",
    "        # Binarize the space, then label along given dimension\n",
    "        dim_result = label(input = binarize_space(volume_space), structure=structure)[0]\n",
    "        # Turn into a 1-dimensional array\n",
    "        dim_result = np.reshape(dim_result, dim_result.size)\n",
    "        # Remove zeros\n",
    "        dim_result = np.delete(dim_result, np.where(dim_result == 0))\n",
    "        # Find most frequent occurrence\n",
    "        most_freq = np.bincount(dim_result).argmax()\n",
    "        # Return number of occurrences, which is equal to dimension in cm\n",
    "        results.append(np.count_nonzero(dim_result == most_freq))\n",
    "    # Return largest value from the three dimensions\n",
    "    return max(results)"
   ]
  },
  {
   "cell_type": "code",
   "execution_count": 472,
   "id": "d2424e04",
   "metadata": {},
   "outputs": [],
   "source": [
    "def is_longest_dimension_sufficient(article_list, volume_space):\n",
    "    '''\n",
    "    Returns True if longest package dimension is smaller than or equal to longest space dimension\n",
    "    '''\n",
    "    return find_longest_package_dimension <= find_longest_space_dimension(volume_space)"
   ]
  },
  {
   "cell_type": "markdown",
   "id": "6dd6f30a",
   "metadata": {},
   "source": [
    "## Penalizer/Scorer"
   ]
  },
  {
   "cell_type": "code",
   "execution_count": 233,
   "id": "d6215cf9",
   "metadata": {},
   "outputs": [],
   "source": [
    "def find_empty_space(volume_space):\n",
    "    '''\n",
    "    Identifies contiguous pockets of empty space.\n",
    "    Returns number of empty spaces, their total volume and the volume of the largest empty space.\n",
    "    '''\n",
    "    # Set up structure - this treats as one contiguous space when...\n",
    "    # ...there are diagonal gaps as it might make the stack unstable\n",
    "    structure = np.ones((3,3,3), dtype=int)\n",
    "    # Binarize the space, then label pockets\n",
    "    dim_result = label(input = binarize_space(volume_space), structure=structure)[0]\n",
    "    # How many empty spaces are there?\n",
    "    number_spaces = np.max(dim_result)\n",
    "    # What's the total volume of empty space?\n",
    "    empty_volume = np.count_nonzero(dim_result)\n",
    "    # What's the volume of the largest empty space?\n",
    "    largest_volume = np.count_nonzero(dim_result == number_spaces)\n",
    "    return number_spaces, empty_volume, largest_volume"
   ]
  },
  {
   "cell_type": "code",
   "execution_count": 183,
   "id": "ce627035",
   "metadata": {},
   "outputs": [
    {
     "data": {
      "text/plain": [
       "(2, 20400, 18000)"
      ]
     },
     "execution_count": 183,
     "metadata": {},
     "output_type": "execute_result"
    }
   ],
   "source": [
    "find_empty_space(volume_space)"
   ]
  },
  {
   "cell_type": "code",
   "execution_count": 234,
   "id": "018d7a04",
   "metadata": {},
   "outputs": [],
   "source": [
    "def score_space(volume_space, article_list):\n",
    "    '''\n",
    "    This function assigns a score to the empty space left by the optimization algorithm.\n",
    "    There is a penalty for having more empty spaces as well as a relatively smaller largest empty space.\n",
    "    '''\n",
    "    # Get number of empty spaces, their total volume and the volume of the largest empty space\n",
    "    number_spaces, empty_volume, largest_volume = find_empty_space(volume_space)\n",
    "    # Get maximum possible empty space (assumes everything can be stacked perfectly)\n",
    "    max_largest_volume = find_available_space(volume_space) - find_total_package_volume(article_list)\n",
    "    '''INITIAL IDEA:\n",
    "    - Linear penalty for each empty space\n",
    "    - Log penalty for how much largest empty space is smaller than maximum possible\n",
    "    '''\n",
    "    score = number_spaces + np.log(max_largest_volume - largest_volume)\n",
    "    return score"
   ]
  },
  {
   "cell_type": "markdown",
   "id": "b7a054bf",
   "metadata": {},
   "source": [
    "## Optimizer"
   ]
  },
  {
   "cell_type": "markdown",
   "id": "d1618518",
   "metadata": {},
   "source": [
    "### Sort packages"
   ]
  },
  {
   "cell_type": "code",
   "execution_count": 345,
   "id": "7f26d660",
   "metadata": {},
   "outputs": [],
   "source": [
    "def sort_packages(article_list, sort_by=\"volume\", direction=\"descending\"):\n",
    "    '''\n",
    "    Returns 2-dimensional list of packages sorted by sort_by in the shape of\n",
    "    [(article_code, article_id, package_id)]\n",
    "    '''\n",
    "    # Initialize list\n",
    "    return_list = []\n",
    "    # Loop through articles\n",
    "    for article in article_list:\n",
    "        # If articles exist more than once, loop here too\n",
    "        for article_id in range(article[1]):\n",
    "            # Loop through packages\n",
    "            for package in article[2]:\n",
    "                # So far only sorting by volume has been implemented.\n",
    "                if sort_by == \"volume\":      \n",
    "                    return_list.append((article[0], article_id+1, package[0], calculate_package_volume(package)))\n",
    "    # Turn into a numpy array for easier sorting\n",
    "    return_list = np.array(return_list)\n",
    "    # Sort by volume (4th column)\n",
    "    return_list = return_list[return_list[:,3].astype(int).argsort()]\n",
    "    # This gives an ascending order. Reverse if needed\n",
    "    if direction == \"descending\":\n",
    "        return_list = np.flip(return_list, axis=0)\n",
    "    # Remove volume column\n",
    "    return return_list[:,:3]"
   ]
  },
  {
   "cell_type": "code",
   "execution_count": 346,
   "id": "42b8ca72",
   "metadata": {},
   "outputs": [
    {
     "data": {
      "text/plain": [
       "array([['rectangles_2', '1', '1'],\n",
       "       ['rectangle_1', '1', '1'],\n",
       "       ['cube_2', '2', '1'],\n",
       "       ['cube_2', '1', '1'],\n",
       "       ['cube_1', '2', '1'],\n",
       "       ['cube_1', '1', '1'],\n",
       "       ['rectangles_2', '1', '2']], dtype='<U21')"
      ]
     },
     "execution_count": 346,
     "metadata": {},
     "output_type": "execute_result"
    }
   ],
   "source": [
    "sort_packages(article_list)"
   ]
  },
  {
   "cell_type": "markdown",
   "id": "55633480",
   "metadata": {},
   "source": [
    "We could easily have other sorting functions, or some randomness:"
   ]
  },
  {
   "cell_type": "code",
   "execution_count": 382,
   "id": "16dbc8db",
   "metadata": {},
   "outputs": [],
   "source": [
    "def hash_list(article_list):\n",
    "    '''\n",
    "    Creates an element-wise list of hashes\n",
    "    '''\n",
    "    return [hash(article.tobytes()) for article in article_list]"
   ]
  },
  {
   "cell_type": "code",
   "execution_count": 456,
   "id": "93e705b7",
   "metadata": {},
   "outputs": [],
   "source": [
    "def generate_package_lists(article_list, sorters = [\"volume|ascending\", \"volume|ascending\", \"volume|descending\"], random_lists = 10):\n",
    "    '''\n",
    "    Returns list of package lists for the optimizer.\n",
    "    Lists can be pre-defined or randomized.\n",
    "    '''\n",
    "    \n",
    "    '''\n",
    "    IMPROVEMENT OPTION:\n",
    "    - if random_lists is larger than maximum number of permutations, just use permutations directly\n",
    "    '''\n",
    "    \n",
    "    \n",
    "    package_lists = []\n",
    "    # First generate pre-defined lists\n",
    "    sorters = set(sorters)\n",
    "    for sorter in sorters:\n",
    "        # Split by delimiter\n",
    "        sort_by, direction = sorter.split(\"|\")\n",
    "        package_lists.append(sort_packages(article_list, sort_by=sort_by, direction=direction))\n",
    "    \n",
    "    # Add random lists\n",
    "    # Create starting point if there is none, i.e. no pre-defined lists\n",
    "    if len(package_lists) == 0:\n",
    "        starter_list = sort_packages(article_list)\n",
    "    else:\n",
    "        starter_list = np.copy(package_lists[0])\n",
    "    \n",
    "    # What is the actual maximum number of unique lists?\n",
    "    max_permut = np.math.factorial(len(starter_list))\n",
    "\n",
    "    # Now add as many random lists as needed    \n",
    "    while True:\n",
    "        # Shuffle starter list and copy data\n",
    "        np.random.shuffle(starter_list)\n",
    "        new_list = np.copy(starter_list)\n",
    "        # Check if this particular permutation exists already by looking at hashes\n",
    "        if hash_list([new_list])[0] not in hash_list(package_lists):\n",
    "            package_lists.append(new_list)\n",
    "        else:\n",
    "            print(\"duplicate\")\n",
    "        # Check if length requirement (smaller of pre-defined lists + random_lists and max_permut) is fulfilled\n",
    "        if len(package_lists) == min(len(sorters) + random_lists, max_permut):\n",
    "            break\n",
    "    return package_lists"
   ]
  },
  {
   "cell_type": "code",
   "execution_count": 464,
   "id": "a9cd6701",
   "metadata": {},
   "outputs": [],
   "source": [
    "a = generate_package_lists(article_list)[0]"
   ]
  },
  {
   "cell_type": "markdown",
   "id": "f167c05c",
   "metadata": {},
   "source": [
    "### Optimizer function"
   ]
  },
  {
   "cell_type": "code",
   "execution_count": 566,
   "id": "7237c4fc",
   "metadata": {},
   "outputs": [],
   "source": [
    "INSUFFICIENT_SPACE = \"Not enough space for packages in chosen trunk.\"\n",
    "INSUFFICIENT_DIMENSION = \"At least one package dimension exceeds trunk dimension.\"\n",
    "OPT_INSUFFICIENT_SPACE = \"Optimizer could not place this package (internal return code).\""
   ]
  },
  {
   "cell_type": "code",
   "execution_count": 567,
   "id": "fe32b024",
   "metadata": {},
   "outputs": [],
   "source": [
    "#TODO\n",
    "def generate_optimizer(article_list, volume_space):\n",
    "    '''\n",
    "    Main function to run this module.\n",
    "    First checks if packages can fit at all, then calls optimizer.\n",
    "    '''\n",
    "    # Check if package volume is smaller than or equal to available space, otherwise return error\n",
    "    if not is_space_sufficient(article_list, volume_space):\n",
    "        return INSUFFICIENT_SPACE\n",
    "    # Check if longest package dimension is smaller than or equal to longest space dimension, otherwise return error\n",
    "    if not is_longest_dimension_sufficient(article_list, volume_space):\n",
    "        return INSUFFICIENT_DIMENSION\n",
    "    # Generate list of package lists\n",
    "    package_lists = generate_package_lists(article_list)\n",
    "    # Call optimizer function for each package list\n",
    "    "
   ]
  },
  {
   "cell_type": "code",
   "execution_count": 631,
   "id": "658f7bc9",
   "metadata": {},
   "outputs": [],
   "source": [
    "#TODO\n",
    "def place_package(package, x, y, z, volume_space):\n",
    "    '''\n",
    "    Attempt to place next package.\n",
    "    If successful, return filled volume_space,\n",
    "    if not, return false.\n",
    "    '''\n",
    "    # Unpack package dimensions\n",
    "    package_x, package_y, package_z = package[0], package[1], package[2]\n",
    "    package_volume = calculate_package_volume(package)\n",
    "    # Check available space - there need to be as many zeros as the package_volume for it to fit\n",
    "    available_space = volume_space[x:x+package_x, y:y+package_y, z:z+package_z]\n",
    "    # If the package cannot be placed, return\n",
    "    if package_volume != available_space.size - np.count_nonzero(available_space):\n",
    "        return OPT_INSUFFICIENT_SPACE\n",
    "    # Otherwise populate the array\n",
    "    # Surfaces first\n",
    "    # z-plain\n",
    "    volume_space[x:x+package_x, y:y+package_y, z] = VOL_BORDER\n",
    "    volume_space[x:x+package_x, y:y+package_y, z+package_z] = VOL_BORDER\n",
    "    # y-plain\n",
    "    volume_space[x:x+package_x, y, z:z+package_z] = VOL_BORDER\n",
    "    volume_space[x:x+package_x, y+package_y, z:z+package_z] = VOL_BORDER\n",
    "    '''\n",
    "    # x-plain\n",
    "    volume_space[x, y:y+package_y, z:z+package_z] = VOL_BORDER\n",
    "    volume_space[x+package_x, y:y+package_y, z:z+package_z] = VOL_BORDER\n",
    "    '''\n",
    "    # Fill interior area\n",
    "    #volume_space[x+1:x+package_x-1, y+1:y+package_y-1, z+1:z+package_z-1] = VOL_INTERIOR\n",
    "    \n",
    "    return volume_space"
   ]
  },
  {
   "cell_type": "code",
   "execution_count": 629,
   "id": "cd550276",
   "metadata": {},
   "outputs": [
    {
     "data": {
      "text/plain": [
       "array([[[-1, -1, -1,  0,  0,  0,  0,  0,  0,  0],\n",
       "        [-1, -1,  0,  0,  0,  0,  0,  0,  0,  0],\n",
       "        [ 0,  0,  0,  0,  0,  0,  0,  0,  0,  0],\n",
       "        [ 0,  0,  0,  0,  0,  0,  0,  0,  0,  0],\n",
       "        [ 0,  0,  0,  0,  0,  0,  0,  0,  0,  0],\n",
       "        [ 0,  0,  0,  0,  0,  0,  0,  0,  0,  0],\n",
       "        [ 0,  0,  0,  0,  0,  0,  0,  0,  0,  0],\n",
       "        [ 0,  0,  0,  0,  0,  0,  0,  0,  0,  0],\n",
       "        [ 0,  0,  0,  0,  0,  0,  0,  0,  0,  0],\n",
       "        [ 0,  0,  0,  0,  0,  0,  0,  0,  0,  0]],\n",
       "\n",
       "       [[ 0,  0,  0,  0,  0,  0,  0,  0,  0,  0],\n",
       "        [ 0,  0,  0,  0,  0,  0,  0,  0,  0,  0],\n",
       "        [ 0,  0,  0,  0,  0,  0,  0,  0,  0,  0],\n",
       "        [ 0,  0,  0,  0,  0,  0,  0,  0,  0,  0],\n",
       "        [ 0,  0,  0,  0,  0,  0,  0,  0,  0,  0],\n",
       "        [ 0,  0,  0,  0,  0,  0,  0,  0,  0,  0],\n",
       "        [ 0,  0,  0,  0,  0,  0,  0,  0,  0,  0],\n",
       "        [ 0,  0,  0,  0,  0,  0,  0,  0,  0,  0],\n",
       "        [ 0,  0,  0,  0,  0,  0,  0,  0,  0,  0],\n",
       "        [ 0,  0,  0,  0,  0,  0,  0,  0,  0,  0]],\n",
       "\n",
       "       [[ 0,  0,  0,  0,  0,  0,  0,  0,  0,  0],\n",
       "        [ 0,  0,  0,  0,  0,  0,  0,  0,  0,  0],\n",
       "        [ 0,  0,  0,  0,  0,  0,  0,  0,  0,  0],\n",
       "        [ 0,  0,  0,  0,  0,  0,  0,  0,  0,  0],\n",
       "        [ 0,  0,  0,  0,  0,  0,  0,  0,  0,  0],\n",
       "        [ 0,  0,  0,  0,  0,  0,  0,  0,  0,  0],\n",
       "        [ 0,  0,  0,  0,  0,  0,  0,  0,  0,  0],\n",
       "        [ 0,  0,  0,  0,  0,  0,  0,  0,  0,  0],\n",
       "        [ 0,  0,  0,  0,  0,  0,  0,  0,  0,  0],\n",
       "        [ 0,  0,  0,  0,  0,  0,  0,  0,  0,  0]],\n",
       "\n",
       "       [[ 0,  0,  0,  0,  0,  0,  0,  0,  0,  0],\n",
       "        [ 0,  0,  0,  0,  0,  0,  0,  0,  0,  0],\n",
       "        [ 0,  0,  0,  0,  0,  0,  0,  0,  0,  0],\n",
       "        [ 0,  0,  0,  0,  0,  0,  0,  0,  0,  0],\n",
       "        [ 0,  0,  0,  0,  0,  0,  0,  0,  0,  0],\n",
       "        [ 0,  0,  0,  0,  0,  0,  0,  0,  0,  0],\n",
       "        [ 0,  0,  0,  0,  0,  0,  0,  0,  0,  0],\n",
       "        [ 0,  0,  0,  0,  0,  0,  0,  0,  0,  0],\n",
       "        [ 0,  0,  0,  0,  0,  0,  0,  0,  0,  0],\n",
       "        [ 0,  0,  0,  0,  0,  0,  0,  0,  0,  0]],\n",
       "\n",
       "       [[ 0,  0,  0,  0,  0,  0,  0,  0,  0,  0],\n",
       "        [ 0,  0,  0,  0,  0,  0,  0,  0,  0,  0],\n",
       "        [ 0,  0,  0,  0,  0,  0,  0,  0,  0,  0],\n",
       "        [ 0,  0,  0,  0,  0,  0,  0,  0,  0,  0],\n",
       "        [ 0,  0,  0,  0,  0,  0,  0,  0,  0,  0],\n",
       "        [ 0,  0,  0,  0,  0,  0,  0,  0,  0,  0],\n",
       "        [ 0,  0,  0,  0,  0,  0,  0,  0,  0,  0],\n",
       "        [ 0,  0,  0,  0,  0,  0,  0,  0,  0,  0],\n",
       "        [ 0,  0,  0,  0,  0,  0,  0,  0,  0,  0],\n",
       "        [ 0,  0,  0,  0,  0,  0,  0,  0,  0,  0]],\n",
       "\n",
       "       [[ 0,  0,  0,  0,  0,  0,  0,  0,  0,  0],\n",
       "        [ 0,  0,  0,  0,  0,  0,  0,  0,  0,  0],\n",
       "        [ 0,  0,  0,  0,  0,  0,  0,  0,  0,  0],\n",
       "        [ 0,  0,  0,  0,  0,  0,  0,  0,  0,  0],\n",
       "        [ 0,  0,  0,  0,  0,  0,  0,  0,  0,  0],\n",
       "        [ 0,  0,  0,  0,  0,  0,  0,  0,  0,  0],\n",
       "        [ 0,  0,  0,  0,  0,  0,  0,  0,  0,  0],\n",
       "        [ 0,  0,  0,  0,  0,  0,  0,  0,  0,  0],\n",
       "        [ 0,  0,  0,  0,  0,  0,  0,  0,  0,  0],\n",
       "        [ 0,  0,  0,  0,  0,  0,  0,  0,  0,  0]],\n",
       "\n",
       "       [[ 0,  0,  0,  0,  0,  0,  0,  0,  0,  0],\n",
       "        [ 0,  0,  0,  0,  0,  0,  0,  0,  0,  0],\n",
       "        [ 0,  0,  0,  0,  0,  0,  0,  0,  0,  0],\n",
       "        [ 0,  0,  0,  0,  0,  0,  0,  0,  0,  0],\n",
       "        [ 0,  0,  0,  0,  0,  0,  0,  0,  0,  0],\n",
       "        [ 0,  0,  0,  0,  0,  0,  0,  0,  0,  0],\n",
       "        [ 0,  0,  0,  0,  0,  0,  0,  0,  0,  0],\n",
       "        [ 0,  0,  0,  0,  0,  0,  0,  0,  0,  0],\n",
       "        [ 0,  0,  0,  0,  0,  0,  0,  0,  0,  0],\n",
       "        [ 0,  0,  0,  0,  0,  0,  0,  0,  0,  0]],\n",
       "\n",
       "       [[ 0,  0,  0,  0,  0,  0,  0,  0,  0,  0],\n",
       "        [ 0,  0,  0,  0,  0,  0,  0,  0,  0,  0],\n",
       "        [ 0,  0,  0,  0,  0,  0,  0,  0,  0,  0],\n",
       "        [ 0,  0,  0,  0,  0,  0,  0,  0,  0,  0],\n",
       "        [ 0,  0,  0,  0,  0,  0,  0,  0,  0,  0],\n",
       "        [ 0,  0,  0,  0,  0,  0,  0,  0,  0,  0],\n",
       "        [ 0,  0,  0,  0,  0,  0,  0,  0,  0,  0],\n",
       "        [ 0,  0,  0,  0,  0,  0,  0,  0,  0,  0],\n",
       "        [ 0,  0,  0,  0,  0,  0,  0,  0,  0,  0],\n",
       "        [ 0,  0,  0,  0,  0,  0,  0,  0,  0,  0]],\n",
       "\n",
       "       [[ 0,  0,  0,  0,  0,  0,  0,  0,  0,  0],\n",
       "        [ 0,  0,  0,  0,  0,  0,  0,  0,  0,  0],\n",
       "        [ 0,  0,  0,  0,  0,  0,  0,  0,  0,  0],\n",
       "        [ 0,  0,  0,  0,  0,  0,  0,  0,  0,  0],\n",
       "        [ 0,  0,  0,  0,  0,  0,  0,  0,  0,  0],\n",
       "        [ 0,  0,  0,  0,  0,  0,  0,  0,  0,  0],\n",
       "        [ 0,  0,  0,  0,  0,  0,  0,  0,  0,  0],\n",
       "        [ 0,  0,  0,  0,  0,  0,  0,  0,  0,  0],\n",
       "        [ 0,  0,  0,  0,  0,  0,  0,  0,  0,  0],\n",
       "        [ 0,  0,  0,  0,  0,  0,  0,  0,  0,  0]],\n",
       "\n",
       "       [[ 0,  0,  0,  0,  0,  0,  0,  0,  0,  0],\n",
       "        [ 0,  0,  0,  0,  0,  0,  0,  0,  0,  0],\n",
       "        [ 0,  0,  0,  0,  0,  0,  0,  0,  0,  0],\n",
       "        [ 0,  0,  0,  0,  0,  0,  0,  0,  0,  0],\n",
       "        [ 0,  0,  0,  0,  0,  0,  0,  0,  0,  0],\n",
       "        [ 0,  0,  0,  0,  0,  0,  0,  0,  0,  0],\n",
       "        [ 0,  0,  0,  0,  0,  0,  0,  0,  0,  0],\n",
       "        [ 0,  0,  0,  0,  0,  0,  0,  0,  0,  0],\n",
       "        [ 0,  0,  0,  0,  0,  0,  0,  0,  0,  0],\n",
       "        [ 0,  0,  0,  0,  0,  0,  0,  0,  0,  0]]])"
      ]
     },
     "execution_count": 629,
     "metadata": {},
     "output_type": "execute_result"
    }
   ],
   "source": [
    "vol_space = np.full((10,10,10), VOL_EMPTY, dtype=int)\n",
    "vol_space[0,0:2,0:2] = VOL_UNAVAILABLE\n",
    "vol_space[0,0,2] = VOL_UNAVAILABLE\n",
    "vol_space"
   ]
  },
  {
   "cell_type": "code",
   "execution_count": 630,
   "id": "bfb03e3f",
   "metadata": {},
   "outputs": [
    {
     "data": {
      "text/plain": [
       "array([[[-1, -1, -1,  0,  0,  0,  0,  0,  0,  0],\n",
       "        [-1, -1,  1,  1,  1,  1,  0,  0,  0,  0],\n",
       "        [ 0,  0,  1,  0,  0,  1,  0,  0,  0,  0],\n",
       "        [ 0,  0,  1,  0,  0,  1,  0,  0,  0,  0],\n",
       "        [ 0,  0,  1,  0,  0,  1,  0,  0,  0,  0],\n",
       "        [ 0,  0,  1,  1,  1,  0,  0,  0,  0,  0],\n",
       "        [ 0,  0,  0,  0,  0,  0,  0,  0,  0,  0],\n",
       "        [ 0,  0,  0,  0,  0,  0,  0,  0,  0,  0],\n",
       "        [ 0,  0,  0,  0,  0,  0,  0,  0,  0,  0],\n",
       "        [ 0,  0,  0,  0,  0,  0,  0,  0,  0,  0]],\n",
       "\n",
       "       [[ 0,  0,  0,  0,  0,  0,  0,  0,  0,  0],\n",
       "        [ 0,  0,  1,  1,  1,  1,  0,  0,  0,  0],\n",
       "        [ 0,  0,  1,  0,  0,  1,  0,  0,  0,  0],\n",
       "        [ 0,  0,  1,  0,  0,  1,  0,  0,  0,  0],\n",
       "        [ 0,  0,  1,  0,  0,  1,  0,  0,  0,  0],\n",
       "        [ 0,  0,  1,  1,  1,  0,  0,  0,  0,  0],\n",
       "        [ 0,  0,  0,  0,  0,  0,  0,  0,  0,  0],\n",
       "        [ 0,  0,  0,  0,  0,  0,  0,  0,  0,  0],\n",
       "        [ 0,  0,  0,  0,  0,  0,  0,  0,  0,  0],\n",
       "        [ 0,  0,  0,  0,  0,  0,  0,  0,  0,  0]],\n",
       "\n",
       "       [[ 0,  0,  0,  0,  0,  0,  0,  0,  0,  0],\n",
       "        [ 0,  0,  1,  1,  1,  1,  0,  0,  0,  0],\n",
       "        [ 0,  0,  1,  0,  0,  1,  0,  0,  0,  0],\n",
       "        [ 0,  0,  1,  0,  0,  1,  0,  0,  0,  0],\n",
       "        [ 0,  0,  1,  0,  0,  1,  0,  0,  0,  0],\n",
       "        [ 0,  0,  1,  1,  1,  0,  0,  0,  0,  0],\n",
       "        [ 0,  0,  0,  0,  0,  0,  0,  0,  0,  0],\n",
       "        [ 0,  0,  0,  0,  0,  0,  0,  0,  0,  0],\n",
       "        [ 0,  0,  0,  0,  0,  0,  0,  0,  0,  0],\n",
       "        [ 0,  0,  0,  0,  0,  0,  0,  0,  0,  0]],\n",
       "\n",
       "       [[ 0,  0,  0,  0,  0,  0,  0,  0,  0,  0],\n",
       "        [ 0,  0,  1,  1,  1,  1,  0,  0,  0,  0],\n",
       "        [ 0,  0,  1,  0,  0,  1,  0,  0,  0,  0],\n",
       "        [ 0,  0,  1,  0,  0,  1,  0,  0,  0,  0],\n",
       "        [ 0,  0,  1,  0,  0,  1,  0,  0,  0,  0],\n",
       "        [ 0,  0,  1,  1,  1,  0,  0,  0,  0,  0],\n",
       "        [ 0,  0,  0,  0,  0,  0,  0,  0,  0,  0],\n",
       "        [ 0,  0,  0,  0,  0,  0,  0,  0,  0,  0],\n",
       "        [ 0,  0,  0,  0,  0,  0,  0,  0,  0,  0],\n",
       "        [ 0,  0,  0,  0,  0,  0,  0,  0,  0,  0]],\n",
       "\n",
       "       [[ 0,  0,  0,  0,  0,  0,  0,  0,  0,  0],\n",
       "        [ 0,  0,  0,  0,  0,  0,  0,  0,  0,  0],\n",
       "        [ 0,  0,  0,  0,  0,  0,  0,  0,  0,  0],\n",
       "        [ 0,  0,  0,  0,  0,  0,  0,  0,  0,  0],\n",
       "        [ 0,  0,  0,  0,  0,  0,  0,  0,  0,  0],\n",
       "        [ 0,  0,  0,  0,  0,  0,  0,  0,  0,  0],\n",
       "        [ 0,  0,  0,  0,  0,  0,  0,  0,  0,  0],\n",
       "        [ 0,  0,  0,  0,  0,  0,  0,  0,  0,  0],\n",
       "        [ 0,  0,  0,  0,  0,  0,  0,  0,  0,  0],\n",
       "        [ 0,  0,  0,  0,  0,  0,  0,  0,  0,  0]],\n",
       "\n",
       "       [[ 0,  0,  0,  0,  0,  0,  0,  0,  0,  0],\n",
       "        [ 0,  0,  0,  0,  0,  0,  0,  0,  0,  0],\n",
       "        [ 0,  0,  0,  0,  0,  0,  0,  0,  0,  0],\n",
       "        [ 0,  0,  0,  0,  0,  0,  0,  0,  0,  0],\n",
       "        [ 0,  0,  0,  0,  0,  0,  0,  0,  0,  0],\n",
       "        [ 0,  0,  0,  0,  0,  0,  0,  0,  0,  0],\n",
       "        [ 0,  0,  0,  0,  0,  0,  0,  0,  0,  0],\n",
       "        [ 0,  0,  0,  0,  0,  0,  0,  0,  0,  0],\n",
       "        [ 0,  0,  0,  0,  0,  0,  0,  0,  0,  0],\n",
       "        [ 0,  0,  0,  0,  0,  0,  0,  0,  0,  0]],\n",
       "\n",
       "       [[ 0,  0,  0,  0,  0,  0,  0,  0,  0,  0],\n",
       "        [ 0,  0,  0,  0,  0,  0,  0,  0,  0,  0],\n",
       "        [ 0,  0,  0,  0,  0,  0,  0,  0,  0,  0],\n",
       "        [ 0,  0,  0,  0,  0,  0,  0,  0,  0,  0],\n",
       "        [ 0,  0,  0,  0,  0,  0,  0,  0,  0,  0],\n",
       "        [ 0,  0,  0,  0,  0,  0,  0,  0,  0,  0],\n",
       "        [ 0,  0,  0,  0,  0,  0,  0,  0,  0,  0],\n",
       "        [ 0,  0,  0,  0,  0,  0,  0,  0,  0,  0],\n",
       "        [ 0,  0,  0,  0,  0,  0,  0,  0,  0,  0],\n",
       "        [ 0,  0,  0,  0,  0,  0,  0,  0,  0,  0]],\n",
       "\n",
       "       [[ 0,  0,  0,  0,  0,  0,  0,  0,  0,  0],\n",
       "        [ 0,  0,  0,  0,  0,  0,  0,  0,  0,  0],\n",
       "        [ 0,  0,  0,  0,  0,  0,  0,  0,  0,  0],\n",
       "        [ 0,  0,  0,  0,  0,  0,  0,  0,  0,  0],\n",
       "        [ 0,  0,  0,  0,  0,  0,  0,  0,  0,  0],\n",
       "        [ 0,  0,  0,  0,  0,  0,  0,  0,  0,  0],\n",
       "        [ 0,  0,  0,  0,  0,  0,  0,  0,  0,  0],\n",
       "        [ 0,  0,  0,  0,  0,  0,  0,  0,  0,  0],\n",
       "        [ 0,  0,  0,  0,  0,  0,  0,  0,  0,  0],\n",
       "        [ 0,  0,  0,  0,  0,  0,  0,  0,  0,  0]],\n",
       "\n",
       "       [[ 0,  0,  0,  0,  0,  0,  0,  0,  0,  0],\n",
       "        [ 0,  0,  0,  0,  0,  0,  0,  0,  0,  0],\n",
       "        [ 0,  0,  0,  0,  0,  0,  0,  0,  0,  0],\n",
       "        [ 0,  0,  0,  0,  0,  0,  0,  0,  0,  0],\n",
       "        [ 0,  0,  0,  0,  0,  0,  0,  0,  0,  0],\n",
       "        [ 0,  0,  0,  0,  0,  0,  0,  0,  0,  0],\n",
       "        [ 0,  0,  0,  0,  0,  0,  0,  0,  0,  0],\n",
       "        [ 0,  0,  0,  0,  0,  0,  0,  0,  0,  0],\n",
       "        [ 0,  0,  0,  0,  0,  0,  0,  0,  0,  0],\n",
       "        [ 0,  0,  0,  0,  0,  0,  0,  0,  0,  0]],\n",
       "\n",
       "       [[ 0,  0,  0,  0,  0,  0,  0,  0,  0,  0],\n",
       "        [ 0,  0,  0,  0,  0,  0,  0,  0,  0,  0],\n",
       "        [ 0,  0,  0,  0,  0,  0,  0,  0,  0,  0],\n",
       "        [ 0,  0,  0,  0,  0,  0,  0,  0,  0,  0],\n",
       "        [ 0,  0,  0,  0,  0,  0,  0,  0,  0,  0],\n",
       "        [ 0,  0,  0,  0,  0,  0,  0,  0,  0,  0],\n",
       "        [ 0,  0,  0,  0,  0,  0,  0,  0,  0,  0],\n",
       "        [ 0,  0,  0,  0,  0,  0,  0,  0,  0,  0],\n",
       "        [ 0,  0,  0,  0,  0,  0,  0,  0,  0,  0],\n",
       "        [ 0,  0,  0,  0,  0,  0,  0,  0,  0,  0]]])"
      ]
     },
     "execution_count": 630,
     "metadata": {},
     "output_type": "execute_result"
    }
   ],
   "source": [
    "place_package([4,4,3], 0, 1, 2, vol_space)"
   ]
  },
  {
   "cell_type": "code",
   "execution_count": 519,
   "id": "8334194c",
   "metadata": {},
   "outputs": [],
   "source": [
    "#TODO\n",
    "def optimizer(package_list, volume_space):\n",
    "    '''\n",
    "    Recursively places one package after another into available space.\n",
    "    '''\n",
    "    # Package counter variable\n",
    "    package_counter = 0\n",
    "    # Find starting coordinates\n",
    "    locator = np.where(volume_space == VOL_EMPTY)\n",
    "    x, y, z = locator[0][0], locator[1][0], locator[2][0]\n",
    "    # Attempt to place next package in list\n",
    "    \n",
    "    return x, y, z"
   ]
  },
  {
   "cell_type": "code",
   "execution_count": 517,
   "id": "6fd9711b",
   "metadata": {},
   "outputs": [
    {
     "data": {
      "text/plain": [
       "((array([0, 0, 0, 0, 1, 1, 1, 1, 1, 1, 1, 1, 1, 2, 2, 2, 2, 2, 2, 2, 2, 2]),\n",
       "  array([1, 2, 2, 2, 0, 0, 0, 1, 1, 1, 2, 2, 2, 0, 0, 0, 1, 1, 1, 2, 2, 2]),\n",
       "  array([2, 0, 1, 2, 0, 1, 2, 0, 1, 2, 0, 1, 2, 0, 1, 2, 0, 1, 2, 0, 1, 2])),\n",
       " 0,\n",
       " 1,\n",
       " 2)"
      ]
     },
     "execution_count": 517,
     "metadata": {},
     "output_type": "execute_result"
    }
   ],
   "source": [
    "optimizer(a, vol_space)"
   ]
  },
  {
   "cell_type": "code",
   "execution_count": 497,
   "id": "302d39ba",
   "metadata": {},
   "outputs": [
    {
     "data": {
      "text/plain": [
       "array([[[ 0, -1, -1],\n",
       "        [ 0,  0,  0],\n",
       "        [ 0,  0,  0]],\n",
       "\n",
       "       [[ 0,  0,  0],\n",
       "        [ 0,  0,  0],\n",
       "        [ 0,  0,  0]],\n",
       "\n",
       "       [[ 0,  0,  0],\n",
       "        [ 0,  0,  0],\n",
       "        [ 0,  0,  0]]])"
      ]
     },
     "execution_count": 497,
     "metadata": {},
     "output_type": "execute_result"
    }
   ],
   "source": [
    "np.rot90(vol_space, 3, axes=(1,2))"
   ]
  },
  {
   "cell_type": "markdown",
   "id": "28547f5d",
   "metadata": {},
   "source": [
    "### Set up threading"
   ]
  },
  {
   "cell_type": "code",
   "execution_count": null,
   "id": "ea853e34",
   "metadata": {},
   "outputs": [],
   "source": []
  }
 ],
 "metadata": {
  "kernelspec": {
   "display_name": "Python 3",
   "language": "python",
   "name": "python3"
  },
  "language_info": {
   "codemirror_mode": {
    "name": "ipython",
    "version": 3
   },
   "file_extension": ".py",
   "mimetype": "text/x-python",
   "name": "python",
   "nbconvert_exporter": "python",
   "pygments_lexer": "ipython3",
   "version": "3.8.6"
  },
  "toc": {
   "base_numbering": 1,
   "nav_menu": {},
   "number_sections": true,
   "sideBar": true,
   "skip_h1_title": false,
   "title_cell": "Table of Contents",
   "title_sidebar": "Contents",
   "toc_cell": false,
   "toc_position": {},
   "toc_section_display": true,
   "toc_window_display": false
  }
 },
 "nbformat": 4,
 "nbformat_minor": 5
}
