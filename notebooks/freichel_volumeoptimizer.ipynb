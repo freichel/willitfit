{
 "cells": [
  {
   "cell_type": "code",
   "execution_count": 5,
   "id": "9505b0be",
   "metadata": {
    "scrolled": true
   },
   "outputs": [],
   "source": [
    "import numpy as np\n",
    "from scipy.ndimage.measurements import label\n",
    "from threading import Thread\n",
    "from queue import Queue\n",
    "from skimage.feature import match_template\n",
    "from willitfit.plotting.plotter import plot_all\n",
    "from willitfit.optimizers.volumeoptimizer import binarize_space"
   ]
  },
  {
   "cell_type": "code",
   "execution_count": 6,
   "id": "4c3df817",
   "metadata": {},
   "outputs": [],
   "source": [
    "VOL_UNAVAILABLE = -1\n",
    "VOL_BORDER = 1\n",
    "VOL_INTERIOR = -2\n",
    "VOL_EMPTY = 0 "
   ]
  },
  {
   "cell_type": "markdown",
   "id": "fda5305a",
   "metadata": {},
   "source": [
    "The following are just dummy data sets to run the algorithm"
   ]
  },
  {
   "cell_type": "code",
   "execution_count": 20,
   "id": "faf23b42",
   "metadata": {},
   "outputs": [],
   "source": [
    "volume_space = np.full((3,3,3), VOL_EMPTY, dtype=int)\n",
    "volume_space[0,:,:] = VOL_UNAVAILABLE\n",
    "volume_space[:,0:2,:] = VOL_UNAVAILABLE\n",
    "volume_space[0:1,:,0:1] = VOL_UNAVAILABLE\n",
    "volume_space[0:1,2,1] = VOL_EMPTY\n",
    "volume_space[2,2,0:2] = VOL_BORDER\n",
    "volume_space[1,1,2] = VOL_BORDER"
   ]
  },
  {
   "cell_type": "code",
   "execution_count": 21,
   "id": "dd02fb75",
   "metadata": {},
   "outputs": [
    {
     "data": {
      "text/plain": [
       "array([[[-1, -1, -1],\n",
       "        [-1, -1, -1],\n",
       "        [-1,  0, -1]],\n",
       "\n",
       "       [[-1, -1, -1],\n",
       "        [-1, -1,  1],\n",
       "        [ 0,  0,  0]],\n",
       "\n",
       "       [[-1, -1, -1],\n",
       "        [-1, -1, -1],\n",
       "        [ 1,  1,  0]]])"
      ]
     },
     "execution_count": 21,
     "metadata": {},
     "output_type": "execute_result"
    }
   ],
   "source": [
    "volume_space"
   ]
  },
  {
   "cell_type": "code",
   "execution_count": 35,
   "id": "3b4990fc",
   "metadata": {},
   "outputs": [
    {
     "data": {
      "text/plain": [
       "array([0, 0, 0])"
      ]
     },
     "execution_count": 35,
     "metadata": {},
     "output_type": "execute_result"
    }
   ],
   "source": [
    "np.zeros((3), dtype=int)"
   ]
  },
  {
   "cell_type": "code",
   "execution_count": 32,
   "id": "c42b3c0f",
   "metadata": {},
   "outputs": [
    {
     "data": {
      "text/plain": [
       "array([2, 2, 2])"
      ]
     },
     "execution_count": 32,
     "metadata": {},
     "output_type": "execute_result"
    }
   ],
   "source": [
    "np.max(np.where(volume_space == 1),axis=1)"
   ]
  },
  {
   "cell_type": "code",
   "execution_count": 30,
   "id": "792d06ed",
   "metadata": {},
   "outputs": [
    {
     "data": {
      "text/plain": [
       "4"
      ]
     },
     "execution_count": 30,
     "metadata": {},
     "output_type": "execute_result"
    }
   ],
   "source": [
    "np.max(np.ones((2,3,4)).shape)"
   ]
  },
  {
   "cell_type": "code",
   "execution_count": 184,
   "id": "3c324ff5",
   "metadata": {},
   "outputs": [
    {
     "data": {
      "text/plain": [
       "array([[[0, 0, 0],\n",
       "        [0, 0, 0],\n",
       "        [0, 1, 0]],\n",
       "\n",
       "       [[0, 0, 0],\n",
       "        [0, 0, 0],\n",
       "        [1, 1, 1]],\n",
       "\n",
       "       [[0, 0, 0],\n",
       "        [0, 0, 0],\n",
       "        [1, 1, 1]]])"
      ]
     },
     "execution_count": 184,
     "metadata": {},
     "output_type": "execute_result"
    }
   ],
   "source": [
    "binarize_space(volume_space)"
   ]
  },
  {
   "cell_type": "code",
   "execution_count": 193,
   "id": "1feff534",
   "metadata": {},
   "outputs": [
    {
     "name": "stdout",
     "output_type": "stream",
     "text": [
      "(array([0]), array([2]), array([1]))\n",
      "(array([0]), array([2]), array([0]))\n",
      "(array([], dtype=int64), array([], dtype=int64), array([], dtype=int64))\n",
      "(array([0, 1, 1, 1, 2, 2, 2]), array([1, 1, 1, 1, 1, 1, 1]), array([1, 0, 1, 2, 0, 1, 2]))\n",
      "(array([], dtype=int64), array([], dtype=int64), array([], dtype=int64))\n",
      "(array([0, 0]), array([2, 2]), array([0, 2]))\n"
     ]
    }
   ],
   "source": [
    "print(np.where((binarize_space(volume_space)[:,:,:-1] == EDGE_STRUCTURE[0]) & (binarize_space(volume_space)[:,:,1:] == EDGE_STRUCTURE[1])))\n",
    "print(np.where((binarize_space(volume_space)[:,:,:-1] == EDGE_STRUCTURE[1]) & (binarize_space(volume_space)[:,:,1:] == EDGE_STRUCTURE[0])))\n",
    "print(np.where((binarize_space(volume_space)[:,:-1:,] == EDGE_STRUCTURE[0]) & (binarize_space(volume_space)[:,1:,:] == EDGE_STRUCTURE[1])))\n",
    "print(np.where((binarize_space(volume_space)[:,:-1:,] == EDGE_STRUCTURE[1]) & (binarize_space(volume_space)[:,1:,:] == EDGE_STRUCTURE[0])))\n",
    "print(np.where((binarize_space(volume_space)[:-1,:,:] == EDGE_STRUCTURE[0]) & (binarize_space(volume_space)[1:,:,:] == EDGE_STRUCTURE[1])))\n",
    "print(np.where((binarize_space(volume_space)[:-1,:,:] == EDGE_STRUCTURE[1]) & (binarize_space(volume_space)[1:,:,:] == EDGE_STRUCTURE[0])))\n",
    "#print(np.where((np.rot90(binarize_space(volume_space), k=2, axes=(1,2))[:-1] == EDGE_STRUCTURE[0]) & (np.rot90(binarize_space(volume_space), k=2, axes=(1,2))[1:] == EDGE_STRUCTURE[1])))\n",
    "#print(np.where((np.rot90(binarize_space(volume_space), k=2, axes=(1,2))[:-1] == EDGE_STRUCTURE[1]) & (np.rot90(binarize_space(volume_space), k=2, axes=(1,2))[1:] == EDGE_STRUCTURE[0])))\n",
    "#print(np.where((np.rot90(binarize_space(volume_space), k=2, axes=(0,2))[:-1] == EDGE_STRUCTURE[0]) & (np.rot90(binarize_space(volume_space), k=2, axes=(0,2))[1:] == EDGE_STRUCTURE[1])))\n",
    "#print(np.where((np.rot90(binarize_space(volume_space), k=2, axes=(0,2))[:-1] == EDGE_STRUCTURE[1]) & (np.rot90(binarize_space(volume_space), k=2, axes=(0,2))[1:] == EDGE_STRUCTURE[0])))\n",
    "#print(np.where((np.rot90(binarize_space(volume_space), k=2, axes=(0,1))[:-1] == EDGE_STRUCTURE[0]) & (np.rot90(binarize_space(volume_space), k=2, axes=(0,1))[1:] == EDGE_STRUCTURE[1])))\n",
    "#print(np.where((np.rot90(binarize_space(volume_space), k=2, axes=(0,1))[:-1] == EDGE_STRUCTURE[1]) & (np.rot90(binarize_space(volume_space), k=2, axes=(0,1))[1:] == EDGE_STRUCTURE[0])))\n"
   ]
  },
  {
   "cell_type": "code",
   "execution_count": 126,
   "id": "a72a04fa",
   "metadata": {},
   "outputs": [
    {
     "data": {
      "text/plain": [
       "11"
      ]
     },
     "execution_count": 126,
     "metadata": {},
     "output_type": "execute_result"
    }
   ],
   "source": [
    "axes_list = [(1,2),(0,2)]\n",
    "surfaces = 0\n",
    "# Original orientation\n",
    "surfaces += len(np.where((binarize_space(volume_space)[:-1] == EDGE_STRUCTURE[0]) & (binarize_space(volume_space)[1:] == EDGE_STRUCTURE[1]))[0])\n",
    "# Opposite direction\n",
    "surfaces += len(np.where((binarize_space(volume_space)[:-1] == EDGE_STRUCTURE[1]) & (binarize_space(volume_space)[1:] == EDGE_STRUCTURE[0]))[0])\n",
    "# Now the same but rotated into two other plains\n",
    "for axes in axes_list:\n",
    "    # Original orientation\n",
    "    surfaces += len(np.where((np.rot90(binarize_space(volume_space), k=2, axes=axes)[:-1] == EDGE_STRUCTURE[0]) & (np.rot90(binarize_space(volume_space), k=1, axes=axes)[1:] == EDGE_STRUCTURE[1]))[0])\n",
    "    # Opposite direction\n",
    "    surfaces += len(np.where((np.rot90(binarize_space(volume_space), k=2, axes=axes)[:-1] == EDGE_STRUCTURE[1]) & (np.rot90(binarize_space(volume_space), k=1, axes=axes)[1:] == EDGE_STRUCTURE[0]))[0])\n",
    "surfaces"
   ]
  },
  {
   "cell_type": "code",
   "execution_count": 72,
   "id": "8f946f47",
   "metadata": {},
   "outputs": [],
   "source": [
    "volume_space = np.rot90(volume_space, k=1, axes=(0,1))"
   ]
  },
  {
   "cell_type": "code",
   "execution_count": 77,
   "id": "7c70f0e2",
   "metadata": {},
   "outputs": [
    {
     "name": "stdout",
     "output_type": "stream",
     "text": [
      "(array([], dtype=int64), array([], dtype=int64), array([], dtype=int64))\n",
      "(array([], dtype=int64), array([], dtype=int64), array([], dtype=int64))\n",
      "(array([], dtype=int64), array([], dtype=int64), array([], dtype=int64))\n",
      "(array([], dtype=int64), array([], dtype=int64), array([], dtype=int64))\n",
      "(array([1, 1, 1]), array([0, 0, 0]), array([0, 1, 2]))\n",
      "(array([1, 1, 1]), array([0, 1, 2]), array([0, 0, 0]))\n",
      "(array([1, 1, 1]), array([2, 2, 2]), array([0, 1, 2]))\n",
      "(array([1, 1, 1]), array([0, 1, 2]), array([2, 2, 2]))\n"
     ]
    }
   ],
   "source": [
    "print(np.where((binarize_space(volume_space)[:-1] == EDGE_STRUCTURE[0]) & (binarize_space(volume_space)[1:] == EDGE_STRUCTURE[1])))\n",
    "#print(np.where((binarize_space(volume_space)[:-1] == EDGE_STRUCTURE[1]) & (binarize_space(volume_space)[1:] == EDGE_STRUCTURE[0])))\n",
    "for rotation in VOLUME_ROTATIONS:\n",
    "    print(np.where((np.rot90(binarize_space(volume_space), k=rotation[0], axes=rotation[1])[:-1] == EDGE_STRUCTURE[0]) & (np.rot90(binarize_space(volume_space), k=rotation[0], axes=rotation[1])[1:] == EDGE_STRUCTURE[1])))\n",
    "flip_space = np.flip(volume_space)\n",
    "print(np.where((binarize_space(flip_space)[:-1] == EDGE_STRUCTURE[0]) & (binarize_space(flip_space)[1:] == EDGE_STRUCTURE[1])))\n",
    "for rotation in VOLUME_ROTATIONS:\n",
    "    print(np.where((np.rot90(binarize_space(flip_space), k=rotation[0], axes=rotation[1])[:-1] == EDGE_STRUCTURE[0]) & (np.rot90(binarize_space(flip_space), k=rotation[0], axes=rotation[1])[1:] == EDGE_STRUCTURE[1])))"
   ]
  },
  {
   "cell_type": "code",
   "execution_count": 20,
   "id": "7e022294",
   "metadata": {},
   "outputs": [],
   "source": [
    "volume_space = np.full((3,3,3), VOL_UNAVAILABLE, dtype=int)\n",
    "volume_space[0,0,0] = VOL_EMPTY"
   ]
  },
  {
   "cell_type": "code",
   "execution_count": 118,
   "id": "3de43da7",
   "metadata": {},
   "outputs": [
    {
     "data": {
      "text/plain": [
       "array([-1,  0])"
      ]
     },
     "execution_count": 118,
     "metadata": {},
     "output_type": "execute_result"
    }
   ],
   "source": [
    "structure = np.array([-1,0])\n",
    "structure"
   ]
  },
  {
   "cell_type": "code",
   "execution_count": 134,
   "id": "9a988a92",
   "metadata": {},
   "outputs": [
    {
     "data": {
      "text/plain": [
       "array([[[ 0, -1, -1],\n",
       "        [-1, -1, -1],\n",
       "        [-1, -1, -1]],\n",
       "\n",
       "       [[-1, -1, -1],\n",
       "        [-1, -1, -1],\n",
       "        [-1, -1, -1]],\n",
       "\n",
       "       [[-1, -1, -1],\n",
       "        [-1, -1, -1],\n",
       "        [-1, -1, -1]]])"
      ]
     },
     "execution_count": 134,
     "metadata": {},
     "output_type": "execute_result"
    }
   ],
   "source": [
    "volume_space"
   ]
  },
  {
   "cell_type": "code",
   "execution_count": 116,
   "id": "09cf122e",
   "metadata": {},
   "outputs": [
    {
     "data": {
      "text/plain": [
       "(array([], dtype=int64), array([], dtype=int64), array([], dtype=int64))"
      ]
     },
     "execution_count": 116,
     "metadata": {},
     "output_type": "execute_result"
    }
   ],
   "source": [
    "rot_space = np.rot90(volume_space,k=3,axes=(0,2))\n",
    "np.where((rot_space[:-1] == structure[0]) & (rot_space[1:] == structure[1]))"
   ]
  },
  {
   "cell_type": "markdown",
   "id": "5f19e2d4",
   "metadata": {},
   "source": [
    "## General fit"
   ]
  },
  {
   "cell_type": "code",
   "execution_count": 9,
   "id": "422c245f",
   "metadata": {},
   "outputs": [],
   "source": [
    "def binarize_space(volume_space):\n",
    "    '''\n",
    "    Sets empty space to 1 and rest to 0.\n",
    "    Needed to be able to identify clusters.\n",
    "    '''\n",
    "    arbitrary_constant = max(VOL_UNAVAILABLE, VOL_BORDER, VOL_INTERIOR, VOL_EMPTY) + 1\n",
    "    first_step = np.where(volume_space != VOL_EMPTY, arbitrary_constant, volume_space)\n",
    "    second_step = np.where(first_step == VOL_EMPTY, 1, first_step)\n",
    "    return np.where(second_step == arbitrary_constant, 0, second_step)"
   ]
  },
  {
   "cell_type": "markdown",
   "id": "c1863820",
   "metadata": {},
   "source": [
    "### Overall volume fit"
   ]
  },
  {
   "cell_type": "code",
   "execution_count": 10,
   "id": "bde27e51",
   "metadata": {},
   "outputs": [],
   "source": [
    "def calculate_package_volume(package):\n",
    "    '''\n",
    "    Returns volume in cm cubed for package\n",
    "    '''\n",
    "    return np.prod(package)"
   ]
  },
  {
   "cell_type": "code",
   "execution_count": 11,
   "id": "e03db789",
   "metadata": {},
   "outputs": [],
   "source": [
    "def find_total_package_volume(article_list):\n",
    "    '''\n",
    "    Establishes total volume of packages in list in cm cubed.\n",
    "    Loops through each article in article_list, and each package in article.\n",
    "    Multiplies length, height and width (elements 1-3).\n",
    "    Sums up individual products and returns them as int\n",
    "    '''\n",
    "    return sum([calculate_package_volume(package[1:4]) for article in article_list for package in article[2]])"
   ]
  },
  {
   "cell_type": "code",
   "execution_count": 12,
   "id": "51cd1003",
   "metadata": {},
   "outputs": [
    {
     "data": {
      "text/plain": [
       "31625"
      ]
     },
     "execution_count": 12,
     "metadata": {},
     "output_type": "execute_result"
    }
   ],
   "source": [
    "find_total_package_volume(article_list)"
   ]
  },
  {
   "cell_type": "code",
   "execution_count": 13,
   "id": "3feb7085",
   "metadata": {},
   "outputs": [],
   "source": [
    "def find_available_space(volume_space):\n",
    "    '''\n",
    "    Returns total available volume in cm cubed by subtracting non-zero values from total array size\n",
    "    '''\n",
    "    return volume_space.size-np.count_nonzero(binarize_space(volume_space-VOL_UNAVAILABLE))"
   ]
  },
  {
   "cell_type": "code",
   "execution_count": 14,
   "id": "8c285e32",
   "metadata": {},
   "outputs": [],
   "source": [
    "#find_available_space(volume_space)"
   ]
  },
  {
   "cell_type": "code",
   "execution_count": 15,
   "id": "f3ce076f",
   "metadata": {},
   "outputs": [],
   "source": [
    "def is_space_sufficient(article_list, volume_space):\n",
    "    '''\n",
    "    Returns True if package volume is smaller than or equal to available volume\n",
    "    '''\n",
    "    return find_total_package_volume(article_list) <= find_available_space(volume_space)"
   ]
  },
  {
   "cell_type": "code",
   "execution_count": 16,
   "id": "aa0b9bce",
   "metadata": {},
   "outputs": [
    {
     "data": {
      "text/plain": [
       "True"
      ]
     },
     "execution_count": 16,
     "metadata": {},
     "output_type": "execute_result"
    }
   ],
   "source": [
    "is_space_sufficient(article_list, volume_space)"
   ]
  },
  {
   "cell_type": "markdown",
   "id": "a405fc11",
   "metadata": {},
   "source": [
    "### Fit by longest dimension"
   ]
  },
  {
   "cell_type": "code",
   "execution_count": 17,
   "id": "f35d93ae",
   "metadata": {},
   "outputs": [],
   "source": [
    "def find_longest_package_dimension(article_list):\n",
    "    '''\n",
    "    Finds single longest dimension in cm among all packages.\n",
    "    '''\n",
    "    return max([max(package[1:4]) for article in article_list for package in article[2]])"
   ]
  },
  {
   "cell_type": "code",
   "execution_count": 18,
   "id": "3dd66404",
   "metadata": {},
   "outputs": [
    {
     "data": {
      "text/plain": [
       "30"
      ]
     },
     "execution_count": 18,
     "metadata": {},
     "output_type": "execute_result"
    }
   ],
   "source": [
    "find_longest_package_dimension(article_list)"
   ]
  },
  {
   "cell_type": "code",
   "execution_count": 19,
   "id": "c0624c45",
   "metadata": {},
   "outputs": [],
   "source": [
    "# Linear structures in all three axes\n",
    "structure_y = [\n",
    "    [[0, 0, 0],\n",
    "     [0, 0, 0],\n",
    "     [0, 0, 0]],\n",
    "    [[0, 1, 0],\n",
    "     [0, 1, 0],\n",
    "     [0, 1, 0]],\n",
    "    [[0, 0, 0],\n",
    "     [0, 0, 0],\n",
    "     [0, 0, 0]]]\n",
    "structure_x = np.rot90(structure_y, axes=(1,2))\n",
    "structure_z = np.rot90(structure_y, axes=(0,1))\n",
    "structures = [structure_x, structure_y, structure_z]"
   ]
  },
  {
   "cell_type": "code",
   "execution_count": 20,
   "id": "c1a29019",
   "metadata": {},
   "outputs": [],
   "source": [
    "def find_longest_space_dimension(volume_space):\n",
    "    '''\n",
    "    Determines the longest continuous stretch of empty space in all three dimensions.\n",
    "    '''\n",
    "    # Run along each dimension\n",
    "    results = []\n",
    "    for structure in structures:\n",
    "        # Binarize the space, then label along given dimension\n",
    "        dim_result = label(input = binarize_space(volume_space), structure=structure)[0]\n",
    "        # Turn into a 1-dimensional array\n",
    "        dim_result = np.reshape(dim_result, dim_result.size)\n",
    "        # Remove zeros\n",
    "        dim_result = np.delete(dim_result, np.where(dim_result == 0))\n",
    "        # Find most frequent occurrence\n",
    "        most_freq = np.bincount(dim_result).argmax()\n",
    "        # Return number of occurrences, which is equal to dimension in cm\n",
    "        results.append(np.count_nonzero(dim_result == most_freq))\n",
    "    # Return largest value from the three dimensions\n",
    "    return max(results)"
   ]
  },
  {
   "cell_type": "code",
   "execution_count": 21,
   "id": "d2424e04",
   "metadata": {},
   "outputs": [],
   "source": [
    "def is_longest_dimension_sufficient(article_list, volume_space):\n",
    "    '''\n",
    "    Returns True if longest package dimension is smaller than or equal to longest space dimension\n",
    "    '''\n",
    "    return find_longest_package_dimension(article_list) <= find_longest_space_dimension(volume_space)"
   ]
  },
  {
   "cell_type": "markdown",
   "id": "6dd6f30a",
   "metadata": {},
   "source": [
    "## Penalizer/Scorer"
   ]
  },
  {
   "cell_type": "code",
   "execution_count": 22,
   "id": "d6215cf9",
   "metadata": {},
   "outputs": [],
   "source": [
    "def find_empty_space(volume_space):\n",
    "    '''\n",
    "    Identifies contiguous pockets of empty space.\n",
    "    Returns number of empty spaces, their total volume and the volume of the largest empty space.\n",
    "    '''\n",
    "    # Set up structure - this treats as one contiguous space when...\n",
    "    # ...there are diagonal gaps as it might make the stack unstable\n",
    "    structure = np.ones((3,3,3), dtype=int)\n",
    "    # Binarize the space, then label pockets\n",
    "    dim_result = label(input = binarize_space(volume_space), structure=structure)[0]\n",
    "    # How many empty spaces are there?\n",
    "    number_spaces = np.max(dim_result)\n",
    "    # What's the total volume of empty space?\n",
    "    empty_volume = np.count_nonzero(dim_result)\n",
    "    # What's the volume of the largest empty space?\n",
    "    largest_volume = np.count_nonzero(dim_result == number_spaces)\n",
    "    return number_spaces, empty_volume, largest_volume"
   ]
  },
  {
   "cell_type": "code",
   "execution_count": 23,
   "id": "ce627035",
   "metadata": {},
   "outputs": [
    {
     "data": {
      "text/plain": [
       "(1, 486798, 486798)"
      ]
     },
     "execution_count": 23,
     "metadata": {},
     "output_type": "execute_result"
    }
   ],
   "source": [
    "find_empty_space(volume_space)"
   ]
  },
  {
   "cell_type": "code",
   "execution_count": 73,
   "id": "018d7a04",
   "metadata": {},
   "outputs": [],
   "source": [
    "def score_space(volume_space, article_list):\n",
    "    '''\n",
    "    This function assigns a score to the empty space left by the optimization algorithm.\n",
    "    There is a penalty for having more empty spaces as well as a relatively smaller largest empty space.\n",
    "    '''\n",
    "    # Get number of empty spaces, their total volume and the volume of the largest empty space\n",
    "    number_spaces, empty_volume, largest_volume = find_empty_space(volume_space)\n",
    "    # Get maximum possible empty space (assumes everything can be stacked perfectly)\n",
    "    max_largest_volume = find_available_space(volume_space) - find_total_package_volume(article_list)\n",
    "    '''INITIAL IDEA:\n",
    "    - Linear penalty for each empty space\n",
    "    - Log penalty for how much largest empty space is smaller than maximum possible\n",
    "    '''\n",
    "    score = number_spaces + np.log(max(max_largest_volume - largest_volume,0.001))\n",
    "    return score"
   ]
  },
  {
   "cell_type": "markdown",
   "id": "b7a054bf",
   "metadata": {},
   "source": [
    "## Optimizer"
   ]
  },
  {
   "cell_type": "markdown",
   "id": "d1618518",
   "metadata": {},
   "source": [
    "### Sort packages"
   ]
  },
  {
   "cell_type": "code",
   "execution_count": 25,
   "id": "7f26d660",
   "metadata": {},
   "outputs": [],
   "source": [
    "def sort_packages(article_list, sort_by=\"volume\", direction=\"descending\"):\n",
    "    '''\n",
    "    Returns 2-dimensional list of packages sorted by sort_by in the shape of\n",
    "    [(article_code, article_id, package_id)]\n",
    "    '''\n",
    "    # Initialize list\n",
    "    return_list = []\n",
    "    # Loop through articles\n",
    "    for article in article_list:\n",
    "        # If articles exist more than once, loop here too\n",
    "        for article_id in range(article[1]):\n",
    "            # Loop through packages\n",
    "            for package in article[2]:\n",
    "                # So far only sorting by volume has been implemented.\n",
    "                if sort_by == \"volume\":      \n",
    "                    return_list.append((article[0], article_id+1, package[0], calculate_package_volume(package)))\n",
    "    # Turn into a numpy array for easier sorting\n",
    "    return_list = np.array(return_list)\n",
    "    # Sort by volume (4th column)\n",
    "    return_list = return_list[return_list[:,3].astype(int).argsort()]\n",
    "    # This gives an ascending order. Reverse if needed\n",
    "    if direction == \"descending\":\n",
    "        return_list = np.flip(return_list, axis=0)\n",
    "    # Remove volume column\n",
    "    return return_list[:,:3]"
   ]
  },
  {
   "cell_type": "code",
   "execution_count": 26,
   "id": "42b8ca72",
   "metadata": {},
   "outputs": [
    {
     "data": {
      "text/plain": [
       "array([['cuboid_1', '1', '1'],\n",
       "       ['cuboid_2', '1', '1'],\n",
       "       ['cube_2', '2', '1'],\n",
       "       ['cube_2', '1', '1'],\n",
       "       ['cube_1', '2', '1'],\n",
       "       ['cube_1', '1', '1'],\n",
       "       ['cuboid_2', '1', '2']], dtype='<U21')"
      ]
     },
     "execution_count": 26,
     "metadata": {},
     "output_type": "execute_result"
    }
   ],
   "source": [
    "sort_packages(article_list)"
   ]
  },
  {
   "cell_type": "markdown",
   "id": "55633480",
   "metadata": {},
   "source": [
    "We could easily have other sorting functions, or some randomness:"
   ]
  },
  {
   "cell_type": "code",
   "execution_count": 27,
   "id": "16dbc8db",
   "metadata": {},
   "outputs": [],
   "source": [
    "def hash_list(article_list):\n",
    "    '''\n",
    "    Creates an element-wise list of hashes\n",
    "    '''\n",
    "    return [hash(article.tobytes()) for article in article_list]"
   ]
  },
  {
   "cell_type": "code",
   "execution_count": 67,
   "id": "93e705b7",
   "metadata": {},
   "outputs": [],
   "source": [
    "def generate_package_lists(article_list, sorters = [\"volume|ascending\", \"volume|ascending\", \"volume|descending\"], random_lists = 10):\n",
    "    '''\n",
    "    Returns list of package lists for the optimizer.\n",
    "    Lists can be pre-defined or randomized.\n",
    "    '''\n",
    "    \n",
    "    '''\n",
    "    IMPROVEMENT OPTION:\n",
    "    - if random_lists is larger than maximum number of permutations, just use permutations directly\n",
    "    '''\n",
    "    \n",
    "    \n",
    "    package_lists = []\n",
    "    # First generate pre-defined lists\n",
    "    sorters = set(sorters)\n",
    "    for sorter in sorters:\n",
    "        # Split by delimiter\n",
    "        sort_by, direction = sorter.split(\"|\")\n",
    "        package_lists.append(sort_packages(article_list, sort_by=sort_by, direction=direction))\n",
    "    \n",
    "    # Add random lists\n",
    "    # But first check if any are needed\n",
    "    if random_lists == 0:\n",
    "        return package_lists\n",
    "    # Create starting point if there is none, i.e. no pre-defined lists\n",
    "    if len(package_lists) == 0:\n",
    "        starter_list = sort_packages(article_list)\n",
    "    else:\n",
    "        starter_list = np.copy(package_lists[0])\n",
    "    \n",
    "    # What is the actual maximum number of unique lists?\n",
    "    max_permut = np.math.factorial(len(starter_list))\n",
    "    # Now add as many random lists as needed    \n",
    "    while True:\n",
    "        # Shuffle starter list and copy data\n",
    "        np.random.shuffle(starter_list)\n",
    "        new_list = np.copy(starter_list)\n",
    "        # Check if this particular permutation exists already by looking at hashes\n",
    "        if hash_list([new_list])[0] not in hash_list(package_lists):\n",
    "            package_lists.append(new_list)\n",
    "        # Check if length requirement (smaller of pre-defined lists + random_lists and max_permut) is fulfilled\n",
    "        if len(package_lists) == min(len(sorters) + random_lists, max_permut-2):\n",
    "            break\n",
    "    return package_lists"
   ]
  },
  {
   "cell_type": "code",
   "execution_count": 82,
   "id": "a9cd6701",
   "metadata": {},
   "outputs": [
    {
     "data": {
      "text/plain": [
       "[array([['cuboid_1', '1', '1'],\n",
       "        ['cuboid_2', '1', '1'],\n",
       "        ['cube_2', '1', '1'],\n",
       "        ['cube_1', '1', '1'],\n",
       "        ['cuboid_2', '1', '2']], dtype='<U21'),\n",
       " array([['cuboid_2', '1', '2'],\n",
       "        ['cube_1', '1', '1'],\n",
       "        ['cube_2', '1', '1'],\n",
       "        ['cuboid_2', '1', '1'],\n",
       "        ['cuboid_1', '1', '1']], dtype='<U21'),\n",
       " array([['cuboid_2', '1', '1'],\n",
       "        ['cube_2', '1', '1'],\n",
       "        ['cube_1', '1', '1'],\n",
       "        ['cuboid_1', '1', '1'],\n",
       "        ['cuboid_2', '1', '2']], dtype='<U21'),\n",
       " array([['cube_2', '1', '1'],\n",
       "        ['cuboid_2', '1', '1'],\n",
       "        ['cube_1', '1', '1'],\n",
       "        ['cuboid_2', '1', '2'],\n",
       "        ['cuboid_1', '1', '1']], dtype='<U21'),\n",
       " array([['cuboid_1', '1', '1'],\n",
       "        ['cuboid_2', '1', '1'],\n",
       "        ['cube_1', '1', '1'],\n",
       "        ['cuboid_2', '1', '2'],\n",
       "        ['cube_2', '1', '1']], dtype='<U21'),\n",
       " array([['cuboid_2', '1', '1'],\n",
       "        ['cube_1', '1', '1'],\n",
       "        ['cuboid_2', '1', '2'],\n",
       "        ['cuboid_1', '1', '1'],\n",
       "        ['cube_2', '1', '1']], dtype='<U21'),\n",
       " array([['cuboid_1', '1', '1'],\n",
       "        ['cube_1', '1', '1'],\n",
       "        ['cuboid_2', '1', '2'],\n",
       "        ['cube_2', '1', '1'],\n",
       "        ['cuboid_2', '1', '1']], dtype='<U21')]"
      ]
     },
     "execution_count": 82,
     "metadata": {},
     "output_type": "execute_result"
    }
   ],
   "source": [
    "generate_package_lists(article_list, random_lists=5)"
   ]
  },
  {
   "cell_type": "markdown",
   "id": "2ce5382d",
   "metadata": {},
   "source": [
    "### Package orientation"
   ]
  },
  {
   "cell_type": "code",
   "execution_count": 30,
   "id": "fe31c199",
   "metadata": {},
   "outputs": [],
   "source": [
    "def choose_orientation(package_length, package_width, package_height):\n",
    "    '''\n",
    "    A 3-dimensional object (with exceptions like cubes) that needs to align...\n",
    "    ...with the grid can have six degrees of freedom.\n",
    "    Returns one random orientation for a given package.\n",
    "    '''\n",
    "    dimensions = [package_length, package_width, package_height]\n",
    "    np.random.shuffle(dimensions)\n",
    "    return (dimensions[0], dimensions[1], dimensions[2])"
   ]
  },
  {
   "cell_type": "markdown",
   "id": "f167c05c",
   "metadata": {},
   "source": [
    "### Optimizer function"
   ]
  },
  {
   "cell_type": "code",
   "execution_count": 31,
   "id": "7237c4fc",
   "metadata": {},
   "outputs": [],
   "source": [
    "INSUFFICIENT_SPACE = \"Not enough space for packages in chosen trunk.\"\n",
    "INSUFFICIENT_DIMENSION = \"At least one package dimension exceeds trunk dimension.\"\n",
    "OPT_INSUFFICIENT_SPACE = \"Optimizer could not place this package (internal return code).\"\n",
    "OPT_UNSUCCESSFUL = \"Optimizer was unable to place all packages.\""
   ]
  },
  {
   "cell_type": "code",
   "execution_count": 153,
   "id": "68cd0c2d",
   "metadata": {},
   "outputs": [],
   "source": [
    "def find_first_space(package_x, package_y, package_z, volume_space):\n",
    "    '''\n",
    "    Finds first suitable space for package dimensions.\n",
    "    Returns x,y,z starting coordinates.\n",
    "    '''\n",
    "    # Binarize volume space - empty areas shown as ones\n",
    "    bin_space = binarize_space(volume_space)\n",
    "    # Initialize template shape, to be used to find in bin_space\n",
    "    template_shape = np.ones((package_x, package_y, package_z))\n",
    "    # No idea why that is required (maybe otherwise similarity is too high?)\n",
    "    template_shape[1,1,1] = 1.01\n",
    "    # Use skimage's match_template to process a sliding window over bin_space...\n",
    "    # ...and find the first location of zero, which indicates the starting point\n",
    "    #return match_template(bin_space, template_shape)\n",
    "    result = np.where(match_template(bin_space, template_shape) == 0)\n",
    "    # From here we can extract the coordinates\n",
    "    for i, _ in enumerate(result[0]):\n",
    "        if bin_space[result[0][i], result[1][i], result[2][i]] == 1:\n",
    "            return (result[0][i], result[1][i], result[2][i])\n",
    "    # If the package cannot be placed, return error code\n",
    "    return OPT_INSUFFICIENT_SPACE"
   ]
  },
  {
   "cell_type": "code",
   "execution_count": 163,
   "id": "2b07c778",
   "metadata": {},
   "outputs": [],
   "source": [
    "def place_package(package_dimensions, volume_space):\n",
    "    '''\n",
    "    Attempt to place next package.\n",
    "    If successful, return filled volume_space and start/end coordinates,\n",
    "    if not, return error code.\n",
    "    '''\n",
    "    # Unpack package dimensions\n",
    "    package_x, package_y, package_z = package_dimensions\n",
    "    package_volume = calculate_package_volume(package_dimensions)\n",
    "    # Find space for package\n",
    "    return_value = find_first_space(package_x, package_y, package_z, volume_space)\n",
    "    # Check for error codes\n",
    "    if return_value == OPT_INSUFFICIENT_SPACE:\n",
    "        return OPT_INSUFFICIENT_SPACE\n",
    "    x, y, z  = return_value\n",
    "    # Check available space - there need to be as many zeros as the package_volume for it to fit\n",
    "    available_space = volume_space[x:x+package_x, y:y+package_y, z:z+package_z]\n",
    "    # If the package cannot be placed, return\n",
    "    if package_volume != available_space.size - np.count_nonzero(available_space):\n",
    "        return OPT_INSUFFICIENT_SPACE\n",
    "    # Otherwise populate the array\n",
    "    # Surfaces first\n",
    "    # z-plain\n",
    "    volume_space[x:x+package_x, y:y+package_y, z] = VOL_BORDER\n",
    "    volume_space[x:x+package_x, y:y+package_y, z+package_z-1] = VOL_BORDER\n",
    "    # y-plain\n",
    "    volume_space[x:x+package_x, y, z:z+package_z] = VOL_BORDER\n",
    "    volume_space[x:x+package_x, y+package_y-1, z:z+package_z] = VOL_BORDER\n",
    "    # x-plain\n",
    "    volume_space[x, y:y+package_y, z:z+package_z] = VOL_BORDER\n",
    "    volume_space[x+package_x-1, y:y+package_y, z:z+package_z] = VOL_BORDER\n",
    "    # Fill interior area\n",
    "    volume_space[x+1:x+package_x-1, y+1:y+package_y-1, z+1:z+package_z-1] = VOL_INTERIOR\n",
    "    \n",
    "    return volume_space, x, y, z, x+package_x-1, y+package_y-1, z+package_z-1"
   ]
  },
  {
   "cell_type": "code",
   "execution_count": 201,
   "id": "79bba6a2",
   "metadata": {},
   "outputs": [],
   "source": [
    "def optimizer(package_list, article_list, volume_space, queue=None, max_attempts=10):\n",
    "    '''\n",
    "    Places packages sequentially into available space.\n",
    "    If at any point a package can no longer be placed, try again up to max_attempts times.\n",
    "    Returns score, attempts taken, filled volume_space and package coordinates.\n",
    "    '''\n",
    "    # Attempts taken\n",
    "    attempts_counter = 1\n",
    "    # Take pristine copy of volume_space\n",
    "    empty_space = np.copy(volume_space)\n",
    "    # Package counter variable\n",
    "    package_counter = 0\n",
    "    # Package coordinates\n",
    "    package_coordinates = []\n",
    "    \n",
    "    # Loop while there are still packages to place\n",
    "    while True:\n",
    "        # Pick up first package\n",
    "        package = package_list[package_counter]\n",
    "        # Find article index\n",
    "        idx = sum([i for i, article in enumerate(article_list) if article[0] == package[0]])\n",
    "        # Get package dimensions: Looks up article by its index (idx),\n",
    "        # package definitions are the 3rd element (2),\n",
    "        # packages are listed, so it's the n-1th element.\n",
    "        pkg = article_list[idx][2][int(package[2])-1]\n",
    "        package_length, package_width, package_height = pkg[1], pkg[2], pkg[3]\n",
    "        # Obtain package orientation (random)\n",
    "        package_dimensions = choose_orientation(package_length, package_width, package_height)\n",
    "        \n",
    "        # Attempt to place package in space\n",
    "        placement_result = place_package(package_dimensions, volume_space)\n",
    "        \n",
    "        # Check if placement was successful\n",
    "        if placement_result != OPT_INSUFFICIENT_SPACE:\n",
    "            # Extract return variables and append to package_coordinates\n",
    "            volume_space, x_start, y_start, z_start, x_end, y_end, z_end = placement_result\n",
    "            return_list = [package[0], package[1], package[2], x_start, y_start, z_start, x_end, y_end, z_end]\n",
    "            package_coordinates.append(return_list)\n",
    "        else:\n",
    "            # If unsuccessful, increase counter of attempts taken\n",
    "            attempts_counter +=1\n",
    "            # See if this is too many attempts already\n",
    "            if attempts_counter > max_attempts:\n",
    "                # Return error code\n",
    "                return OPT_UNSUCCESSFUL\n",
    "            else:\n",
    "                # Try again\n",
    "                package_counter = 0\n",
    "                package_coordinates = []\n",
    "                volume_space = np.copy(empty_space)\n",
    "                continue\n",
    "        \n",
    "        # Increase counter to move to next package\n",
    "        package_counter += 1\n",
    "        # Once all packages have been placed\n",
    "        if package_counter == len(package_list):\n",
    "            # Score stacking\n",
    "            score = score_space(volume_space, article_list)\n",
    "            # Return\n",
    "            if queue is not None:\n",
    "                queue.put((score, attempts_counter, volume_space, package_coordinates))\n",
    "            return score, attempts_counter, volume_space, package_coordinates"
   ]
  },
  {
   "cell_type": "code",
   "execution_count": 209,
   "id": "e60a91a2",
   "metadata": {},
   "outputs": [
    {
     "data": {
      "text/plain": [
       "(-5.907755278982137,\n",
       " 1,\n",
       " array([[[-1, -1, -1, ..., -1, -1, -1],\n",
       "         [-1, -1, -1, ..., -1, -1, -1],\n",
       "         [-1, -1, -1, ..., -1, -1, -1],\n",
       "         ...,\n",
       "         [-1, -1, -1, ..., -1, -1, -1],\n",
       "         [-1, -1, -1, ..., -1, -1, -1],\n",
       "         [-1, -1, -1, ..., -1, -1, -1]],\n",
       " \n",
       "        [[-1, -1, -1, ..., -1, -1, -1],\n",
       "         [-1, -1, -1, ..., -1, -1, -1],\n",
       "         [-1,  1,  1, ...,  0,  0,  0],\n",
       "         ...,\n",
       "         [-1,  0,  0, ...,  0,  0,  0],\n",
       "         [-1,  0,  0, ...,  0,  0,  0],\n",
       "         [-1,  0,  0, ...,  0,  0,  0]],\n",
       " \n",
       "        [[-1, -1, -1, ..., -1, -1, -1],\n",
       "         [-1, -1, -1, ..., -1, -1, -1],\n",
       "         [-1,  1,  1, ...,  0,  0,  0],\n",
       "         ...,\n",
       "         [-1,  0,  0, ...,  0,  0,  0],\n",
       "         [-1,  0,  0, ...,  0,  0,  0],\n",
       "         [-1,  0,  0, ...,  0,  0,  0]],\n",
       " \n",
       "        ...,\n",
       " \n",
       "        [[-1, -1, -1, ..., -1, -1, -1],\n",
       "         [-1, -1, -1, ..., -1, -1, -1],\n",
       "         [-1,  0,  0, ...,  0,  0,  0],\n",
       "         ...,\n",
       "         [-1,  0,  0, ...,  0,  0,  0],\n",
       "         [-1,  0,  0, ...,  0,  0,  0],\n",
       "         [-1,  0,  0, ...,  0,  0,  0]],\n",
       " \n",
       "        [[-1, -1, -1, ..., -1, -1, -1],\n",
       "         [-1, -1, -1, ..., -1, -1, -1],\n",
       "         [-1,  0,  0, ...,  0,  0,  0],\n",
       "         ...,\n",
       "         [-1,  0,  0, ...,  0,  0,  0],\n",
       "         [-1,  0,  0, ...,  0,  0,  0],\n",
       "         [-1,  0,  0, ...,  0,  0,  0]],\n",
       " \n",
       "        [[-1, -1, -1, ..., -1, -1, -1],\n",
       "         [-1, -1, -1, ..., -1, -1, -1],\n",
       "         [-1,  0,  0, ...,  0,  0,  0],\n",
       "         ...,\n",
       "         [-1,  0,  0, ...,  0,  0,  0],\n",
       "         [-1,  0,  0, ...,  0,  0,  0],\n",
       "         [-1,  0,  0, ...,  0,  0,  0]]]),\n",
       " [['cube_2', '1', '1', 1, 2, 1, 15, 16, 15],\n",
       "  ['cube_1', '1', '1', 1, 2, 16, 10, 11, 25]])"
      ]
     },
     "execution_count": 209,
     "metadata": {},
     "output_type": "execute_result"
    }
   ],
   "source": [
    "optimizer(generate_package_lists(article_list, random_lists=0)[0], article_list, np.copy(volume_space))"
   ]
  },
  {
   "cell_type": "markdown",
   "id": "d37ebfb8",
   "metadata": {},
   "source": [
    "### Set up threading"
   ]
  },
  {
   "cell_type": "code",
   "execution_count": 206,
   "id": "fe32b024",
   "metadata": {},
   "outputs": [],
   "source": [
    "def generate_optimizer(article_list, volume_space, generator_sorters = [\"volume|ascending\", \"volume|ascending\", \"volume|descending\"], generator_random_lists = 10, optimizer_max_attempts = 10):\n",
    "    '''\n",
    "    Main function to run this module.\n",
    "    First checks if packages can fit at all, then generates various package lists.\n",
    "    Runs optimizers in parallel on each list.\n",
    "    Finds lowest achieved score.\n",
    "    Returns filled volume_space and package coordinates.\n",
    "    '''\n",
    "    # Check if package volume is smaller than or equal to available space, otherwise return error\n",
    "    if not is_space_sufficient(article_list, volume_space):\n",
    "        return INSUFFICIENT_SPACE\n",
    "    # Check if longest package dimension is smaller than or equal to longest space dimension, otherwise return error\n",
    "    if not is_longest_dimension_sufficient(article_list, volume_space):\n",
    "        return INSUFFICIENT_DIMENSION\n",
    "    # Generate list of package lists\n",
    "    package_lists = generate_package_lists(article_list, sorters=generator_sorters, random_lists=generator_random_lists)\n",
    "    \n",
    "    # Set up threads\n",
    "    threads = []\n",
    "    queue = Queue()\n",
    "    return_vals = []\n",
    "    # Call optimizer function for each package list\n",
    "    for package_list in package_lists:\n",
    "        # Set up new thread\n",
    "        optimizer_thread = Thread(target=optimizer, args=(package_list, article_list, np.copy(volume_space), queue, optimizer_max_attempts))\n",
    "        # Append to thread list\n",
    "        threads.append(optimizer_thread)\n",
    "        # Start thread\n",
    "        optimizer_thread.start()\n",
    "        response = queue.get()\n",
    "        return_vals.append(response)\n",
    "    # Receive return values back for each thread\n",
    "    for idx, thread in enumerate(threads):\n",
    "        thread.join()\n",
    "    # Find lowest score\n",
    "    scores = [return_val[0] for return_val in return_vals]\n",
    "    score_index = scores.index(min(scores))\n",
    "    # Return \n",
    "    return return_vals[score_index][2:]"
   ]
  },
  {
   "cell_type": "code",
   "execution_count": 208,
   "id": "eb1e24fa",
   "metadata": {},
   "outputs": [
    {
     "ename": "KeyboardInterrupt",
     "evalue": "",
     "output_type": "error",
     "traceback": [
      "\u001b[0;31m---------------------------------------------------------------------------\u001b[0m",
      "\u001b[0;31mKeyboardInterrupt\u001b[0m                         Traceback (most recent call last)",
      "\u001b[0;32m<ipython-input-208-665d411f8550>\u001b[0m in \u001b[0;36m<module>\u001b[0;34m\u001b[0m\n\u001b[0;32m----> 1\u001b[0;31m \u001b[0mopt\u001b[0m \u001b[0;34m=\u001b[0m \u001b[0mgenerate_optimizer\u001b[0m\u001b[0;34m(\u001b[0m\u001b[0marticle_list\u001b[0m\u001b[0;34m,\u001b[0m \u001b[0mnp\u001b[0m\u001b[0;34m.\u001b[0m\u001b[0mcopy\u001b[0m\u001b[0;34m(\u001b[0m\u001b[0mvolume_space\u001b[0m\u001b[0;34m)\u001b[0m\u001b[0;34m,\u001b[0m \u001b[0mgenerator_random_lists\u001b[0m\u001b[0;34m=\u001b[0m\u001b[0;36m1\u001b[0m\u001b[0;34m)\u001b[0m\u001b[0;34m\u001b[0m\u001b[0;34m\u001b[0m\u001b[0m\n\u001b[0m",
      "\u001b[0;32m<ipython-input-206-c5e7217fa52d>\u001b[0m in \u001b[0;36mgenerate_optimizer\u001b[0;34m(article_list, volume_space, generator_sorters, generator_random_lists, optimizer_max_attempts)\u001b[0m\n\u001b[1;32m     14\u001b[0m         \u001b[0;32mreturn\u001b[0m \u001b[0mINSUFFICIENT_DIMENSION\u001b[0m\u001b[0;34m\u001b[0m\u001b[0;34m\u001b[0m\u001b[0m\n\u001b[1;32m     15\u001b[0m     \u001b[0;31m# Generate list of package lists\u001b[0m\u001b[0;34m\u001b[0m\u001b[0;34m\u001b[0m\u001b[0;34m\u001b[0m\u001b[0m\n\u001b[0;32m---> 16\u001b[0;31m     \u001b[0mpackage_lists\u001b[0m \u001b[0;34m=\u001b[0m \u001b[0mgenerate_package_lists\u001b[0m\u001b[0;34m(\u001b[0m\u001b[0marticle_list\u001b[0m\u001b[0;34m,\u001b[0m \u001b[0msorters\u001b[0m\u001b[0;34m=\u001b[0m\u001b[0mgenerator_sorters\u001b[0m\u001b[0;34m,\u001b[0m \u001b[0mrandom_lists\u001b[0m\u001b[0;34m=\u001b[0m\u001b[0mgenerator_random_lists\u001b[0m\u001b[0;34m)\u001b[0m\u001b[0;34m\u001b[0m\u001b[0;34m\u001b[0m\u001b[0m\n\u001b[0m\u001b[1;32m     17\u001b[0m \u001b[0;34m\u001b[0m\u001b[0m\n\u001b[1;32m     18\u001b[0m     \u001b[0;31m# Set up threads\u001b[0m\u001b[0;34m\u001b[0m\u001b[0;34m\u001b[0m\u001b[0;34m\u001b[0m\u001b[0m\n",
      "\u001b[0;32m<ipython-input-67-0ff0e24c4b53>\u001b[0m in \u001b[0;36mgenerate_package_lists\u001b[0;34m(article_list, sorters, random_lists)\u001b[0m\n\u001b[1;32m     37\u001b[0m         \u001b[0mnew_list\u001b[0m \u001b[0;34m=\u001b[0m \u001b[0mnp\u001b[0m\u001b[0;34m.\u001b[0m\u001b[0mcopy\u001b[0m\u001b[0;34m(\u001b[0m\u001b[0mstarter_list\u001b[0m\u001b[0;34m)\u001b[0m\u001b[0;34m\u001b[0m\u001b[0;34m\u001b[0m\u001b[0m\n\u001b[1;32m     38\u001b[0m         \u001b[0;31m# Check if this particular permutation exists already by looking at hashes\u001b[0m\u001b[0;34m\u001b[0m\u001b[0;34m\u001b[0m\u001b[0;34m\u001b[0m\u001b[0m\n\u001b[0;32m---> 39\u001b[0;31m         \u001b[0;32mif\u001b[0m \u001b[0mhash_list\u001b[0m\u001b[0;34m(\u001b[0m\u001b[0;34m[\u001b[0m\u001b[0mnew_list\u001b[0m\u001b[0;34m]\u001b[0m\u001b[0;34m)\u001b[0m\u001b[0;34m[\u001b[0m\u001b[0;36m0\u001b[0m\u001b[0;34m]\u001b[0m \u001b[0;32mnot\u001b[0m \u001b[0;32min\u001b[0m \u001b[0mhash_list\u001b[0m\u001b[0;34m(\u001b[0m\u001b[0mpackage_lists\u001b[0m\u001b[0;34m)\u001b[0m\u001b[0;34m:\u001b[0m\u001b[0;34m\u001b[0m\u001b[0;34m\u001b[0m\u001b[0m\n\u001b[0m\u001b[1;32m     40\u001b[0m             \u001b[0mpackage_lists\u001b[0m\u001b[0;34m.\u001b[0m\u001b[0mappend\u001b[0m\u001b[0;34m(\u001b[0m\u001b[0mnew_list\u001b[0m\u001b[0;34m)\u001b[0m\u001b[0;34m\u001b[0m\u001b[0;34m\u001b[0m\u001b[0m\n\u001b[1;32m     41\u001b[0m         \u001b[0;31m# Check if length requirement (smaller of pre-defined lists + random_lists and max_permut) is fulfilled\u001b[0m\u001b[0;34m\u001b[0m\u001b[0;34m\u001b[0m\u001b[0;34m\u001b[0m\u001b[0m\n",
      "\u001b[0;32m<ipython-input-27-9c9d938b5816>\u001b[0m in \u001b[0;36mhash_list\u001b[0;34m(article_list)\u001b[0m\n\u001b[1;32m      3\u001b[0m     \u001b[0mCreates\u001b[0m \u001b[0man\u001b[0m \u001b[0melement\u001b[0m\u001b[0;34m-\u001b[0m\u001b[0mwise\u001b[0m \u001b[0mlist\u001b[0m \u001b[0mof\u001b[0m \u001b[0mhashes\u001b[0m\u001b[0;34m\u001b[0m\u001b[0;34m\u001b[0m\u001b[0m\n\u001b[1;32m      4\u001b[0m     '''\n\u001b[0;32m----> 5\u001b[0;31m     \u001b[0;32mreturn\u001b[0m \u001b[0;34m[\u001b[0m\u001b[0mhash\u001b[0m\u001b[0;34m(\u001b[0m\u001b[0marticle\u001b[0m\u001b[0;34m.\u001b[0m\u001b[0mtobytes\u001b[0m\u001b[0;34m(\u001b[0m\u001b[0;34m)\u001b[0m\u001b[0;34m)\u001b[0m \u001b[0;32mfor\u001b[0m \u001b[0marticle\u001b[0m \u001b[0;32min\u001b[0m \u001b[0marticle_list\u001b[0m\u001b[0;34m]\u001b[0m\u001b[0;34m\u001b[0m\u001b[0;34m\u001b[0m\u001b[0m\n\u001b[0m",
      "\u001b[0;32m<ipython-input-27-9c9d938b5816>\u001b[0m in \u001b[0;36m<listcomp>\u001b[0;34m(.0)\u001b[0m\n\u001b[1;32m      3\u001b[0m     \u001b[0mCreates\u001b[0m \u001b[0man\u001b[0m \u001b[0melement\u001b[0m\u001b[0;34m-\u001b[0m\u001b[0mwise\u001b[0m \u001b[0mlist\u001b[0m \u001b[0mof\u001b[0m \u001b[0mhashes\u001b[0m\u001b[0;34m\u001b[0m\u001b[0;34m\u001b[0m\u001b[0m\n\u001b[1;32m      4\u001b[0m     '''\n\u001b[0;32m----> 5\u001b[0;31m     \u001b[0;32mreturn\u001b[0m \u001b[0;34m[\u001b[0m\u001b[0mhash\u001b[0m\u001b[0;34m(\u001b[0m\u001b[0marticle\u001b[0m\u001b[0;34m.\u001b[0m\u001b[0mtobytes\u001b[0m\u001b[0;34m(\u001b[0m\u001b[0;34m)\u001b[0m\u001b[0;34m)\u001b[0m \u001b[0;32mfor\u001b[0m \u001b[0marticle\u001b[0m \u001b[0;32min\u001b[0m \u001b[0marticle_list\u001b[0m\u001b[0;34m]\u001b[0m\u001b[0;34m\u001b[0m\u001b[0;34m\u001b[0m\u001b[0m\n\u001b[0m",
      "\u001b[0;31mKeyboardInterrupt\u001b[0m: "
     ]
    }
   ],
   "source": [
    "opt = generate_optimizer(article_list, np.copy(volume_space), generator_random_lists=1)"
   ]
  },
  {
   "cell_type": "code",
   "execution_count": null,
   "id": "653b7e27",
   "metadata": {},
   "outputs": [],
   "source": []
  }
 ],
 "metadata": {
  "kernelspec": {
   "display_name": "Python 3",
   "language": "python",
   "name": "python3"
  },
  "language_info": {
   "codemirror_mode": {
    "name": "ipython",
    "version": 3
   },
   "file_extension": ".py",
   "mimetype": "text/x-python",
   "name": "python",
   "nbconvert_exporter": "python",
   "pygments_lexer": "ipython3",
   "version": "3.8.6"
  },
  "toc": {
   "base_numbering": 1,
   "nav_menu": {
    "height": "235px",
    "width": "302px"
   },
   "number_sections": true,
   "sideBar": true,
   "skip_h1_title": false,
   "title_cell": "Table of Contents",
   "title_sidebar": "Contents",
   "toc_cell": false,
   "toc_position": {
    "height": "calc(100% - 180px)",
    "left": "10px",
    "top": "150px",
    "width": "384px"
   },
   "toc_section_display": true,
   "toc_window_display": true
  }
 },
 "nbformat": 4,
 "nbformat_minor": 5
}
