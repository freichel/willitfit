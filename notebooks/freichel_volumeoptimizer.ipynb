{
 "cells": [
  {
   "cell_type": "code",
   "execution_count": 261,
   "id": "ba2e80ad",
   "metadata": {
    "scrolled": true
   },
   "outputs": [],
   "source": [
    "import numpy as np\n",
    "from scipy.ndimage.measurements import label\n",
    "import threading"
   ]
  },
  {
   "cell_type": "code",
   "execution_count": 5,
   "id": "53571ab2",
   "metadata": {},
   "outputs": [],
   "source": [
    "VOL_UNAVAILABLE = -1\n",
    "VOL_BORDER = 1\n",
    "VOL_INTERIOR = -2\n",
    "VOL_EMPTY = 0 "
   ]
  },
  {
   "cell_type": "markdown",
   "id": "df4a515b",
   "metadata": {},
   "source": [
    "The following are just dummy data sets to run the algorithm"
   ]
  },
  {
   "cell_type": "code",
   "execution_count": 20,
   "id": "01a408e5",
   "metadata": {},
   "outputs": [],
   "source": [
    "article_list = [(\n",
    "    \"cube_1\",\n",
    "    2,\n",
    "    [(\n",
    "        1,\n",
    "        10,\n",
    "        10,\n",
    "        10,\n",
    "        1\n",
    "    )]\n",
    "),\n",
    "(\n",
    "    \"cube_2\",\n",
    "    2,\n",
    "    [(\n",
    "        1,\n",
    "        15,\n",
    "        15,\n",
    "        15,\n",
    "        2\n",
    "    )]\n",
    "),\n",
    "(\n",
    "    \"cuboid_1\",\n",
    "    1,\n",
    "    [(\n",
    "        1,\n",
    "        15,\n",
    "        30,\n",
    "        30,\n",
    "        2\n",
    "    )]\n",
    "),\n",
    "(\n",
    "    \"cuboid_2\",\n",
    "    1,\n",
    "    [(\n",
    "        1,\n",
    "        15,\n",
    "        30,\n",
    "        30,\n",
    "        1\n",
    "    ),\n",
    "    (\n",
    "        2,\n",
    "        5,\n",
    "        5,\n",
    "        10,\n",
    "        1\n",
    "    )]\n",
    ")]"
   ]
  },
  {
   "cell_type": "code",
   "execution_count": 167,
   "id": "90e7b00e",
   "metadata": {},
   "outputs": [],
   "source": [
    "volume_space = np.full((40,40,40), VOL_EMPTY, dtype=int)\n",
    "volume_space[5:25,:,:] = VOL_UNAVAILABLE\n",
    "volume_space[:,:10,:] = VOL_UNAVAILABLE\n",
    "volume_space[:3,:,:40] = VOL_UNAVAILABLE"
   ]
  },
  {
   "cell_type": "markdown",
   "id": "12d11240",
   "metadata": {},
   "source": [
    "## General fit"
   ]
  },
  {
   "cell_type": "markdown",
   "id": "d0f84515",
   "metadata": {},
   "source": [
    "### Overall volume fit"
   ]
  },
  {
   "cell_type": "code",
   "execution_count": 229,
   "id": "faf9d58a",
   "metadata": {},
   "outputs": [],
   "source": [
    "def calculate_package_volume(package):\n",
    "    '''\n",
    "    Returns volume in cm cubed for package\n",
    "    '''\n",
    "    return np.prod(package[1:4])"
   ]
  },
  {
   "cell_type": "code",
   "execution_count": 186,
   "id": "82f2a206",
   "metadata": {},
   "outputs": [],
   "source": [
    "def find_total_package_volume(article_list):\n",
    "    '''\n",
    "    Establishes total volume of packages in list in cm cubed.\n",
    "    Loops through each article in article_list, and each package in article.\n",
    "    Multiplies length, height and width (elements 1-3).\n",
    "    Sums up individual products and returns them as int\n",
    "    '''\n",
    "    return sum([calculate_package_volume(package) for article in article_list for package in article[2]])"
   ]
  },
  {
   "cell_type": "code",
   "execution_count": 74,
   "id": "b769a1cb",
   "metadata": {},
   "outputs": [
    {
     "data": {
      "text/plain": [
       "31625"
      ]
     },
     "execution_count": 74,
     "metadata": {},
     "output_type": "execute_result"
    }
   ],
   "source": [
    "find_total_package_volume(article_list)"
   ]
  },
  {
   "cell_type": "code",
   "execution_count": 230,
   "id": "c8c0dd61",
   "metadata": {},
   "outputs": [],
   "source": [
    "def find_available_space(volume_space):\n",
    "    '''\n",
    "    Returns total available volume in cm cubed by subtracting non-zero values from total array size\n",
    "    '''\n",
    "    return volume_space.size-np.count_nonzero(volume_space)"
   ]
  },
  {
   "cell_type": "code",
   "execution_count": 93,
   "id": "e4fe9b90",
   "metadata": {},
   "outputs": [
    {
     "data": {
      "text/plain": [
       "32500"
      ]
     },
     "execution_count": 93,
     "metadata": {},
     "output_type": "execute_result"
    }
   ],
   "source": [
    "find_available_space(volume_space)"
   ]
  },
  {
   "cell_type": "code",
   "execution_count": 94,
   "id": "6b98df80",
   "metadata": {},
   "outputs": [],
   "source": [
    "def is_space_sufficient(article_list, volume_space):\n",
    "    '''\n",
    "    Returns True if package volume is smaller than or equal to available volume\n",
    "    '''\n",
    "    return find_total_package_volume(article_list) <= find_available_space(volume_space)"
   ]
  },
  {
   "cell_type": "code",
   "execution_count": 95,
   "id": "f067417b",
   "metadata": {},
   "outputs": [
    {
     "data": {
      "text/plain": [
       "True"
      ]
     },
     "execution_count": 95,
     "metadata": {},
     "output_type": "execute_result"
    }
   ],
   "source": [
    "is_space_sufficient(article_list, volume_space)"
   ]
  },
  {
   "cell_type": "markdown",
   "id": "d87dc9f8",
   "metadata": {},
   "source": [
    "### Fit by longest dimension"
   ]
  },
  {
   "cell_type": "code",
   "execution_count": 231,
   "id": "889586e6",
   "metadata": {},
   "outputs": [],
   "source": [
    "def find_longest_package_dimension(article_list):\n",
    "    '''\n",
    "    Finds single longest dimension in cm among all packages.\n",
    "    '''\n",
    "    return max([max(package[1:4]) for article in article_list for package in article[2]])"
   ]
  },
  {
   "cell_type": "code",
   "execution_count": 97,
   "id": "0fc62df3",
   "metadata": {},
   "outputs": [
    {
     "data": {
      "text/plain": [
       "30"
      ]
     },
     "execution_count": 97,
     "metadata": {},
     "output_type": "execute_result"
    }
   ],
   "source": [
    "find_longest_package_dimension(article_list)"
   ]
  },
  {
   "cell_type": "code",
   "execution_count": 110,
   "id": "d947ee3f",
   "metadata": {},
   "outputs": [],
   "source": [
    "def binarize_space(volume_space):\n",
    "    '''\n",
    "    Sets empty space to 1 and rest to 0.\n",
    "    Needed to be able to identify clusters.\n",
    "    '''\n",
    "    arbitrary_constant = max(VOL_UNAVAILABLE, VOL_BORDER, VOL_INTERIOR, VOL_EMPTY) + 1\n",
    "    first_step = np.where(volume_space != VOL_EMPTY, arbitrary_constant, volume_space)\n",
    "    second_step = np.where(first_step == VOL_EMPTY, 1, first_step)\n",
    "    return np.where(second_step == arbitrary_constant, 0, second_step)"
   ]
  },
  {
   "cell_type": "code",
   "execution_count": 149,
   "id": "84ea99d6",
   "metadata": {},
   "outputs": [],
   "source": [
    "# Linear structures in all three axes\n",
    "structure_y = [\n",
    "    [[0, 0, 0],\n",
    "     [0, 0, 0],\n",
    "     [0, 0, 0]],\n",
    "    [[0, 1, 0],\n",
    "     [0, 1, 0],\n",
    "     [0, 1, 0]],\n",
    "    [[0, 0, 0],\n",
    "     [0, 0, 0],\n",
    "     [0, 0, 0]]]\n",
    "structure_x = np.rot90(structure_x, axes=(1,2))\n",
    "structure_z = np.rot90(structure_x, axes=(0,1))\n",
    "structures = [structure_x, structure_y, structure_z]"
   ]
  },
  {
   "cell_type": "code",
   "execution_count": 232,
   "id": "6863b951",
   "metadata": {},
   "outputs": [],
   "source": [
    "def find_longest_space_dimension(volume_space):\n",
    "    '''\n",
    "    Determines the longest continuous stretch of empty space in all three dimensions.\n",
    "    '''\n",
    "    # Run along each dimension\n",
    "    results = []\n",
    "    for structure in structures:\n",
    "        # Binarize the space, then label along given dimension\n",
    "        dim_result = label(input = binarize_space(volume_space), structure=structure)[0]\n",
    "        # Turn into a 1-dimensional array\n",
    "        dim_result = np.reshape(dim_result, dim_result.size)\n",
    "        # Remove zeros\n",
    "        dim_result = np.delete(dim_result, np.where(dim_result == 0))\n",
    "        # Find most frequent occurrence\n",
    "        most_freq = np.bincount(dim_result).argmax()\n",
    "        # Return number of occurrences, which is equal to dimension in cm\n",
    "        results.append(np.count_nonzero(dim_result == most_freq))\n",
    "    # Return largest value from the three dimensions\n",
    "    return max(results)"
   ]
  },
  {
   "cell_type": "code",
   "execution_count": 172,
   "id": "475a04f1",
   "metadata": {},
   "outputs": [],
   "source": [
    "def is_longest_dimension_sufficient(article_list, volume_space):\n",
    "    '''\n",
    "    Returns True if longest package dimension is smaller than or equal to longest space dimension\n",
    "    '''\n",
    "    return find_longest_package_dimension <= find_longest_space_dimension(volume_space)"
   ]
  },
  {
   "cell_type": "markdown",
   "id": "a21e11bd",
   "metadata": {},
   "source": [
    "## Penalizer/Scorer"
   ]
  },
  {
   "cell_type": "code",
   "execution_count": 233,
   "id": "645bb0f2",
   "metadata": {},
   "outputs": [],
   "source": [
    "def find_empty_space(volume_space):\n",
    "    '''\n",
    "    Identifies contiguous pockets of empty space.\n",
    "    Returns number of empty spaces, their total volume and the volume of the largest empty space.\n",
    "    '''\n",
    "    # Set up structure - this treats as one contiguous space when...\n",
    "    # ...there are diagonal gaps as it might make the stack unstable\n",
    "    structure = np.ones((3,3,3), dtype=int)\n",
    "    # Binarize the space, then label pockets\n",
    "    dim_result = label(input = binarize_space(volume_space), structure=structure)[0]\n",
    "    # How many empty spaces are there?\n",
    "    number_spaces = np.max(dim_result)\n",
    "    # What's the total volume of empty space?\n",
    "    empty_volume = np.count_nonzero(dim_result)\n",
    "    # What's the volume of the largest empty space?\n",
    "    largest_volume = np.count_nonzero(dim_result == number_spaces)\n",
    "    return number_spaces, empty_volume, largest_volume"
   ]
  },
  {
   "cell_type": "code",
   "execution_count": 183,
   "id": "ca646513",
   "metadata": {},
   "outputs": [
    {
     "data": {
      "text/plain": [
       "(2, 20400, 18000)"
      ]
     },
     "execution_count": 183,
     "metadata": {},
     "output_type": "execute_result"
    }
   ],
   "source": [
    "find_empty_space(volume_space)"
   ]
  },
  {
   "cell_type": "code",
   "execution_count": 234,
   "id": "df2812b5",
   "metadata": {},
   "outputs": [],
   "source": [
    "def score_space(volume_space, article_list):\n",
    "    '''\n",
    "    This function assigns a score to the empty space left by the optimization algorithm.\n",
    "    There is a penalty for having more empty spaces as well as a relatively smaller largest empty space.\n",
    "    '''\n",
    "    # Get number of empty spaces, their total volume and the volume of the largest empty space\n",
    "    number_spaces, empty_volume, largest_volume = find_empty_space(volume_space)\n",
    "    # Get maximum possible empty space (assumes everything can be stacked perfectly)\n",
    "    max_largest_volume = find_available_space(volume_space) - find_total_package_volume(article_list)\n",
    "    '''INITIAL IDEA:\n",
    "    - Linear penalty for each empty space\n",
    "    - Log penalty for how much largest empty space is smaller than maximum possible\n",
    "    '''\n",
    "    score = number_spaces + np.log(max_largest_volume - largest_volume)\n",
    "    return score"
   ]
  },
  {
   "cell_type": "markdown",
   "id": "a802e430",
   "metadata": {},
   "source": [
    "## Optimizer"
   ]
  },
  {
   "cell_type": "markdown",
   "id": "fd12efe3",
   "metadata": {},
   "source": [
    "### Sort packages"
   ]
  },
  {
   "cell_type": "code",
   "execution_count": 309,
   "id": "e64642eb",
   "metadata": {},
   "outputs": [],
   "source": [
    "def sort_packages(article_list, sort_by=\"volume\", direction=\"descending\"):\n",
    "    '''\n",
    "    Returns 2-dimensional list of packages sorted by sort_by in the shape of\n",
    "    [(article_code, article_id, package_id)]\n",
    "    '''\n",
    "    # Initialize list\n",
    "    return_list = []\n",
    "    # Loop through articles\n",
    "    for article in article_list:\n",
    "        # If articles exist more than once, loop here too\n",
    "        for article_id in range(article[1]):\n",
    "            # Loop through packages\n",
    "            for package in article[2]:\n",
    "                # So far only sorting by volume has been implemented.\n",
    "                if sort_by == \"volume\":      \n",
    "                    return_list.append((article[0], article_id+1, package[0], calculate_package_volume(package)))\n",
    "    # Turn into a numpy array for easier sorting\n",
    "    return_list = np.array(return_list)\n",
    "    # Sort by volume (4th column)\n",
    "    return_list = return_list[return_list[:,3].astype(int).argsort()]\n",
    "    # This gives an ascending order. Reverse if needed\n",
    "    if direction == \"descending\":\n",
    "        return_list = np.flip(return_list, axis=0)\n",
    "    # Remove volume column\n",
    "    return return_list[:,:3]"
   ]
  },
  {
   "cell_type": "code",
   "execution_count": 262,
   "id": "45197ffc",
   "metadata": {},
   "outputs": [
    {
     "data": {
      "text/plain": [
       "array([['rectangles_2', '1', '1'],\n",
       "       ['rectangle_1', '1', '1'],\n",
       "       ['cube_2', '2', '1'],\n",
       "       ['cube_2', '1', '1'],\n",
       "       ['cube_1', '2', '1'],\n",
       "       ['cube_1', '1', '1'],\n",
       "       ['rectangles_2', '1', '2']], dtype='<U21')"
      ]
     },
     "execution_count": 262,
     "metadata": {},
     "output_type": "execute_result"
    }
   ],
   "source": [
    "sort_packages(article_list)"
   ]
  },
  {
   "cell_type": "markdown",
   "id": "0a72a86b",
   "metadata": {},
   "source": [
    "We could easily have other sorting functions, or some randomness:"
   ]
  },
  {
   "cell_type": "code",
   "execution_count": 310,
   "id": "946d0516",
   "metadata": {},
   "outputs": [],
   "source": [
    "def generate_package_lists(article_list, sorters = [\"volume|ascending\", \"volume|descending\"], random_lists = 10):\n",
    "    '''\n",
    "    Returns list of package lists for the optimizer.\n",
    "    Lists can be pre-defined or randomized.\n",
    "    '''\n",
    "    package_lists = []\n",
    "    # First generate pre-defined lists\n",
    "    for sorter in sorters:\n",
    "        # Split by delimiter\n",
    "        sort_by, direction = sorter.split(\"|\")\n",
    "        package_lists.append(sort_packages(article_list, sort_by=sort_by, direction=direction))\n",
    "    # Add random lists\n",
    "    # Create starting point if there is none, i.e. no pre-defined lists\n",
    "    if len(package_lists) == 0:\n",
    "        starter_list = sort_packages(article_list)\n",
    "    else:\n",
    "        starter_list = package_lists[0]\n",
    "    # Now add as many random lists as needed\n",
    "    # For this we repeat the loop until the required number of random_lists is found...\n",
    "    # ...unless there aren't enough permutations to begin with.\n",
    "    for random_id in range(random_lists):\n",
    "        np.random.shuffle(starter_list)\n",
    "        new_list = np.copy(starter_list)\n",
    "        package_lists.append(new_list) \n",
    "    # Remove non-unique\n",
    "    return package_lists"
   ]
  },
  {
   "cell_type": "code",
   "execution_count": 311,
   "id": "d0e35cde",
   "metadata": {},
   "outputs": [],
   "source": [
    "a = generate_package_lists(article_list)"
   ]
  },
  {
   "cell_type": "code",
   "execution_count": 319,
   "id": "8d5c9c3f",
   "metadata": {},
   "outputs": [
    {
     "data": {
      "text/plain": [
       "[array([['cube_1', '1', '1'],\n",
       "        ['rectangles_2', '1', '1'],\n",
       "        ['cube_1', '2', '1'],\n",
       "        ['rectangle_1', '1', '1'],\n",
       "        ['cube_2', '2', '1'],\n",
       "        ['cube_2', '1', '1'],\n",
       "        ['rectangles_2', '1', '2']], dtype='<U21'),\n",
       " array([['rectangles_2', '1', '1'],\n",
       "        ['rectangle_1', '1', '1'],\n",
       "        ['cube_2', '2', '1'],\n",
       "        ['cube_2', '1', '1'],\n",
       "        ['cube_1', '2', '1'],\n",
       "        ['cube_1', '1', '1'],\n",
       "        ['rectangles_2', '1', '2']], dtype='<U21'),\n",
       " array([['rectangle_1', '1', '1'],\n",
       "        ['rectangles_2', '1', '2'],\n",
       "        ['cube_2', '2', '1'],\n",
       "        ['cube_1', '1', '1'],\n",
       "        ['rectangles_2', '1', '1'],\n",
       "        ['cube_2', '1', '1'],\n",
       "        ['cube_1', '2', '1']], dtype='<U21'),\n",
       " array([['cube_1', '2', '1'],\n",
       "        ['rectangles_2', '1', '2'],\n",
       "        ['rectangle_1', '1', '1'],\n",
       "        ['cube_2', '2', '1'],\n",
       "        ['cube_2', '1', '1'],\n",
       "        ['cube_1', '1', '1'],\n",
       "        ['rectangles_2', '1', '1']], dtype='<U21'),\n",
       " array([['cube_1', '2', '1'],\n",
       "        ['cube_1', '1', '1'],\n",
       "        ['rectangles_2', '1', '2'],\n",
       "        ['rectangles_2', '1', '1'],\n",
       "        ['cube_2', '1', '1'],\n",
       "        ['rectangle_1', '1', '1'],\n",
       "        ['cube_2', '2', '1']], dtype='<U21'),\n",
       " array([['rectangles_2', '1', '2'],\n",
       "        ['cube_1', '1', '1'],\n",
       "        ['rectangle_1', '1', '1'],\n",
       "        ['cube_2', '1', '1'],\n",
       "        ['cube_1', '2', '1'],\n",
       "        ['cube_2', '2', '1'],\n",
       "        ['rectangles_2', '1', '1']], dtype='<U21'),\n",
       " array([['rectangles_2', '1', '1'],\n",
       "        ['rectangles_2', '1', '2'],\n",
       "        ['cube_1', '1', '1'],\n",
       "        ['cube_1', '2', '1'],\n",
       "        ['cube_2', '1', '1'],\n",
       "        ['rectangle_1', '1', '1'],\n",
       "        ['cube_2', '2', '1']], dtype='<U21'),\n",
       " array([['rectangle_1', '1', '1'],\n",
       "        ['cube_1', '2', '1'],\n",
       "        ['cube_1', '1', '1'],\n",
       "        ['rectangles_2', '1', '2'],\n",
       "        ['cube_2', '2', '1'],\n",
       "        ['rectangles_2', '1', '1'],\n",
       "        ['cube_2', '1', '1']], dtype='<U21'),\n",
       " array([['cube_1', '2', '1'],\n",
       "        ['rectangle_1', '1', '1'],\n",
       "        ['cube_2', '1', '1'],\n",
       "        ['rectangles_2', '1', '2'],\n",
       "        ['cube_2', '2', '1'],\n",
       "        ['cube_1', '1', '1'],\n",
       "        ['rectangles_2', '1', '1']], dtype='<U21'),\n",
       " array([['rectangle_1', '1', '1'],\n",
       "        ['cube_2', '1', '1'],\n",
       "        ['cube_1', '2', '1'],\n",
       "        ['cube_2', '2', '1'],\n",
       "        ['cube_1', '1', '1'],\n",
       "        ['rectangles_2', '1', '2'],\n",
       "        ['rectangles_2', '1', '1']], dtype='<U21'),\n",
       " array([['rectangles_2', '1', '2'],\n",
       "        ['cube_2', '1', '1'],\n",
       "        ['cube_1', '1', '1'],\n",
       "        ['rectangle_1', '1', '1'],\n",
       "        ['rectangles_2', '1', '1'],\n",
       "        ['cube_1', '2', '1'],\n",
       "        ['cube_2', '2', '1']], dtype='<U21'),\n",
       " array([['cube_1', '1', '1'],\n",
       "        ['rectangles_2', '1', '1'],\n",
       "        ['cube_1', '2', '1'],\n",
       "        ['rectangle_1', '1', '1'],\n",
       "        ['cube_2', '2', '1'],\n",
       "        ['cube_2', '1', '1'],\n",
       "        ['rectangles_2', '1', '2']], dtype='<U21')]"
      ]
     },
     "execution_count": 319,
     "metadata": {},
     "output_type": "execute_result"
    }
   ],
   "source": [
    "a"
   ]
  },
  {
   "cell_type": "code",
   "execution_count": 318,
   "id": "bbb33ccb",
   "metadata": {},
   "outputs": [
    {
     "ename": "TypeError",
     "evalue": "unhashable type: 'numpy.ndarray'",
     "output_type": "error",
     "traceback": [
      "\u001b[0;31m---------------------------------------------------------------------------\u001b[0m",
      "\u001b[0;31mTypeError\u001b[0m                                 Traceback (most recent call last)",
      "\u001b[0;32m<ipython-input-318-5b4c643a6feb>\u001b[0m in \u001b[0;36m<module>\u001b[0;34m\u001b[0m\n\u001b[0;32m----> 1\u001b[0;31m \u001b[0mset\u001b[0m\u001b[0;34m(\u001b[0m\u001b[0ma\u001b[0m\u001b[0;34m)\u001b[0m\u001b[0;34m\u001b[0m\u001b[0;34m\u001b[0m\u001b[0m\n\u001b[0m",
      "\u001b[0;31mTypeError\u001b[0m: unhashable type: 'numpy.ndarray'"
     ]
    }
   ],
   "source": [
    "set(a)"
   ]
  },
  {
   "cell_type": "markdown",
   "id": "1c05ac4a",
   "metadata": {},
   "source": [
    "### Optimizer function"
   ]
  },
  {
   "cell_type": "code",
   "execution_count": null,
   "id": "4a4a45cb",
   "metadata": {},
   "outputs": [],
   "source": [
    "def optimizer(article_list)"
   ]
  },
  {
   "cell_type": "markdown",
   "id": "a70e71cd",
   "metadata": {},
   "source": [
    "### Set up threading"
   ]
  },
  {
   "cell_type": "code",
   "execution_count": null,
   "id": "8838e0de",
   "metadata": {},
   "outputs": [],
   "source": []
  }
 ],
 "metadata": {
  "kernelspec": {
   "display_name": "Python 3",
   "language": "python",
   "name": "python3"
  },
  "language_info": {
   "codemirror_mode": {
    "name": "ipython",
    "version": 3
   },
   "file_extension": ".py",
   "mimetype": "text/x-python",
   "name": "python",
   "nbconvert_exporter": "python",
   "pygments_lexer": "ipython3",
   "version": "3.8.6"
  },
  "toc": {
   "base_numbering": 1,
   "nav_menu": {},
   "number_sections": true,
   "sideBar": true,
   "skip_h1_title": false,
   "title_cell": "Table of Contents",
   "title_sidebar": "Contents",
   "toc_cell": false,
   "toc_position": {},
   "toc_section_display": true,
   "toc_window_display": false
  }
 },
 "nbformat": 4,
 "nbformat_minor": 5
}
