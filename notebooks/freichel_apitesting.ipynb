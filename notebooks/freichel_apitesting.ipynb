{
 "cells": [
  {
   "cell_type": "code",
   "execution_count": 293,
   "id": "57a8335c",
   "metadata": {},
   "outputs": [],
   "source": [
    "import requests\n",
    "import numpy as np\n",
    "import matplotlib.pyplot as plt"
   ]
  },
  {
   "cell_type": "code",
   "execution_count": 53,
   "id": "4b9aef48",
   "metadata": {},
   "outputs": [],
   "source": [
    "article_list = [(\n",
    "    \"cube_1\",\n",
    "    2,\n",
    "    [(\n",
    "        1,\n",
    "        10,\n",
    "        10,\n",
    "        10,\n",
    "        1\n",
    "    )]\n",
    "),\n",
    "(\n",
    "    \"cube_2\",\n",
    "    2,\n",
    "    [(\n",
    "        1,\n",
    "        15,\n",
    "        15,\n",
    "        15,\n",
    "        2\n",
    "    )]\n",
    "),\n",
    "(\n",
    "    \"cuboid_1\",\n",
    "    1,\n",
    "    [(\n",
    "        1,\n",
    "        15,\n",
    "        30,\n",
    "        30,\n",
    "        2\n",
    "    )]\n",
    "),\n",
    "(\n",
    "    \"cuboid_2\",\n",
    "    1,\n",
    "    [(\n",
    "        1,\n",
    "        15,\n",
    "        30,\n",
    "        30,\n",
    "        1\n",
    "    ),\n",
    "    (\n",
    "        2,\n",
    "        5,\n",
    "        5,\n",
    "        10,\n",
    "        1\n",
    "    )]\n",
    ")]\n",
    "\n",
    "car_id = \"AudiRS6\"\n",
    "\n",
    "IKEA_COUNTRY_DOMAIN = \"de\" # domain used\n",
    "\n",
    "IKEA_WEBSITE_LANGUAGE = \"de\" # language used, often same as IKEA_COUNTRY_DOMAIN but may be different"
   ]
  },
  {
   "cell_type": "code",
   "execution_count": 60,
   "id": "aa8beeec",
   "metadata": {},
   "outputs": [],
   "source": [
    "params = {\n",
    "    \"article_list\": article_list,\n",
    "    \"car_id\": car_id,\n",
    "    \"IKEA_country\": IKEA_COUNTRY_DOMAIN,\n",
    "    \"IKEA_language\": IKEA_WEBSITE_LANGUAGE\n",
    "}"
   ]
  },
  {
   "cell_type": "code",
   "execution_count": 57,
   "id": "f0722f46",
   "metadata": {},
   "outputs": [],
   "source": [
    "URL = \"http://127.0.0.1:8000/collect\""
   ]
  },
  {
   "cell_type": "code",
   "execution_count": 291,
   "id": "06b82ffd",
   "metadata": {},
   "outputs": [
    {
     "name": "stdout",
     "output_type": "stream",
     "text": [
      "200\n",
      "\"Figure({\\n    'data': [{'alphahull': 0,\\n              'color': 'grey',\\n              'flatshading': True,\\n              'type': 'mesh3d',\\n              'x': array([], dtype=int64),\\n              'y': array([], dtype=int64),\\n              'z': array([], dtype=int64)},\\n             {'alphahull': 0,\\n              'flatshading': True,\\n              'hoverinfo': 'name',\\n              'name': 'cuboid_1',\\n              'opacity': 0.5,\\n              'type': 'mesh3d',\\n              'x': [1, 1, 0, 0, 1, 1, 0, 0],\\n              'y': [0, 29, 29, 0, 0, 29, 29, 0],\\n              'z': [0, 0, 0, 0, 14, 14, 14, 14]},\\n             {'alphahull': 0,\\n              'flatshading': True,\\n              'hoverinfo': 'name',\\n              'name': 'cuboid_2',\\n              'opacity': 0.5,\\n              'type': 'mesh3d',\\n              'x': [1, 1, 30, 30, 1, 1, 30, 30],\\n              'y': [0, 14, 14, 0, 0, 14, 14, 0],\\n              'z': [0, 0, 0, 0, 29, 29, 29, 29]},\\n             {'alphahull': 0,\\n              'flatshading': True,\\n              'hoverinfo': 'name',\\n              'name': 'cube_2',\\n              'opacity': 0.5,\\n              'type': 'mesh3d',\\n              'x': [1, 1, 60, 60, 1, 1, 60, 60],\\n              'y': [0, 14, 14, 0, 0, 14, 14, 0],\\n              'z': [0, 0, 0, 0, 14, 14, 14, 14]},\\n             {'alphahull': 0,\\n              'flatshading': True,\\n              'hoverinfo': 'name',\\n              'name': 'cube_2',\\n              'opacity': 0.5,\\n              'type': 'mesh3d',\\n              'x': [1, 1, 75, 75, 1, 1, 75, 75],\\n              'y': [0, 14, 14, 0, 0, 14, 14, 0],\\n              'z': [0, 0, 0, 0, 14, 14, 14, 14]},\\n             {'alphahull': 0,\\n              'flatshading': True,\\n              'hoverinfo': 'name',\\n              'name': 'cube_1',\\n              'opacity': 0.5,\\n              'type': 'mesh3d',\\n              'x': [1, 1, 90, 90, 1, 1, 90, 90],\\n              'y': [0, 9, 9, 0, 0, 9, 9, 0],\\n              'z': [0, 0, 0, 0, 9, 9, 9, 9]},\\n             {'alphahull': 0,\\n              'flatshading': True,\\n              'hoverinfo': 'name',\\n              'name': 'cube_1',\\n              'opacity': 0.5,\\n              'type': 'mesh3d',\\n              'x': [1, 1, 90, 90, 1, 1, 90, 90],\\n              'y': [0, 9, 9, 0, 0, 9, 9, 0],\\n              'z': [10, 10, 10, 10, 19, 19, 19, 19]},\\n             {'alphahull': 0,\\n              'flatshading': True,\\n              'hoverinfo': 'name',\\n              'name': 'cuboid_2',\\n              'opacity': 0.5,\\n              'type': 'mesh3d',\\n              'x': [2, 2, 0, 0, 2, 2, 0, 0],\\n              'y': [0, 4, 4, 0, 0, 4, 4, 0],\\n              'z': [15, 15, 15, 15, 19, 19, 19, 19]}],\\n    'layout': {'scene': {'aspectmode': 'cube',\\n                         'xaxis': {'range': [0, 40], 'showgrid': False, 'showspikes': False, 'type': 'linear'},\\n                         'yaxis': {'range': [0, 40], 'showgrid': False, 'showspikes': False, 'type': 'linear'},\\n                         'zaxis': {'range': [0, 40], 'showgrid': False, 'showspikes': False, 'type': 'linear'}},\\n               'template': '...'}\\n})\"\n"
     ]
    }
   ],
   "source": [
    "response = requests.post(URL,json=params)\n",
    "print(response.status_code)\n",
    "print(response.text)"
   ]
  },
  {
   "cell_type": "code",
   "execution_count": 236,
   "id": "34220efe",
   "metadata": {},
   "outputs": [],
   "source": [
    "a = [[[\"cube_1\",1,1,1000],[\"cube_1\",2,1,1000],[\"cube_2\",1,1,6750],[\"cube_2\",2,1,6750],[\"cuboid_1\",1,1,27000],[\"cuboid_2\",1,1,13500],[\"cuboid_2\",1,2,500]],[[\"cube_1\",1,1,1000],[\"cube_1\",2,1,1000],[\"cube_2\",1,1,6750],[\"cube_2\",2,1,6750],[\"cuboid_1\",1,1,27000],[\"cuboid_2\",1,1,13500],[\"cuboid_2\",1,2,500]]]"
   ]
  },
  {
   "cell_type": "code",
   "execution_count": null,
   "id": "6e4f4837",
   "metadata": {},
   "outputs": [],
   "source": []
  },
  {
   "cell_type": "code",
   "execution_count": 237,
   "id": "b727fd6e",
   "metadata": {},
   "outputs": [
    {
     "data": {
      "text/plain": [
       "array([[['cube_1', '1', '1', '1000'],\n",
       "        ['cube_1', '2', '1', '1000'],\n",
       "        ['cube_2', '1', '1', '6750'],\n",
       "        ['cube_2', '2', '1', '6750'],\n",
       "        ['cuboid_1', '1', '1', '27000'],\n",
       "        ['cuboid_2', '1', '1', '13500'],\n",
       "        ['cuboid_2', '1', '2', '500']],\n",
       "\n",
       "       [['cube_1', '1', '1', '1000'],\n",
       "        ['cube_1', '2', '1', '1000'],\n",
       "        ['cube_2', '1', '1', '6750'],\n",
       "        ['cube_2', '2', '1', '6750'],\n",
       "        ['cuboid_1', '1', '1', '27000'],\n",
       "        ['cuboid_2', '1', '1', '13500'],\n",
       "        ['cuboid_2', '1', '2', '500']]], dtype='<U21')"
      ]
     },
     "execution_count": 237,
     "metadata": {},
     "output_type": "execute_result"
    }
   ],
   "source": [
    "np.array(a)"
   ]
  },
  {
   "cell_type": "code",
   "execution_count": null,
   "id": "b4c9ef46",
   "metadata": {},
   "outputs": [],
   "source": []
  }
 ],
 "metadata": {
  "kernelspec": {
   "display_name": "Python 3",
   "language": "python",
   "name": "python3"
  },
  "language_info": {
   "codemirror_mode": {
    "name": "ipython",
    "version": 3
   },
   "file_extension": ".py",
   "mimetype": "text/x-python",
   "name": "python",
   "nbconvert_exporter": "python",
   "pygments_lexer": "ipython3",
   "version": "3.8.6"
  },
  "toc": {
   "base_numbering": 1,
   "nav_menu": {},
   "number_sections": true,
   "sideBar": true,
   "skip_h1_title": false,
   "title_cell": "Table of Contents",
   "title_sidebar": "Contents",
   "toc_cell": false,
   "toc_position": {},
   "toc_section_display": true,
   "toc_window_display": false
  }
 },
 "nbformat": 4,
 "nbformat_minor": 5
}
