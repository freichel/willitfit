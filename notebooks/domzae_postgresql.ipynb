{
 "cells": [
  {
   "cell_type": "code",
   "execution_count": 1,
   "id": "947536aa-1e8b-4383-8f13-2089afe1dd27",
   "metadata": {},
   "outputs": [],
   "source": [
    "#!pip install psycopg2-binary"
   ]
  },
  {
   "cell_type": "code",
   "execution_count": 2,
   "id": "fd464cb1-28bc-4919-8e68-605337f1b2e7",
   "metadata": {},
   "outputs": [],
   "source": [
    "import pandas as pd\n",
    "import psycopg2\n",
    "import psycopg2.extras as extras"
   ]
  },
  {
   "cell_type": "markdown",
   "id": "28835901-1693-4286-a344-6de1fd6e7995",
   "metadata": {},
   "source": [
    "### Setup connection"
   ]
  },
  {
   "cell_type": "code",
   "execution_count": 4,
   "id": "813af361-710a-4022-bfe5-fbe09510566b",
   "metadata": {},
   "outputs": [],
   "source": [
    "password = None\n",
    "conn = psycopg2.connect(f\"host=willitfit-db.cgj5wlpfmxhc.eu-central-1.rds.amazonaws.com port=5432 user=postgres password={password} dbname=postgres\")"
   ]
  },
  {
   "cell_type": "code",
   "execution_count": null,
   "id": "ba03f583-b97b-4f22-ba68-04c86e001080",
   "metadata": {},
   "outputs": [],
   "source": [
    "cur = conn.cursor()"
   ]
  },
  {
   "cell_type": "markdown",
   "id": "a28c5a66-8223-4143-b181-23599b1d850f",
   "metadata": {},
   "source": [
    "### Test getting records"
   ]
  },
  {
   "cell_type": "code",
   "execution_count": 4,
   "id": "9524a0ea-d2d7-4dbc-91aa-64b813da634b",
   "metadata": {},
   "outputs": [],
   "source": [
    "cur.execute(\"\"\"\n",
    "SELECT * FROM cars \n",
    "WHERE make = 'Audi'\n",
    "ORDER BY make\n",
    "LIMIT 3\"\"\")"
   ]
  },
  {
   "cell_type": "code",
   "execution_count": 5,
   "id": "1e123a3f-f60e-4b3d-a16d-613aa658b03b",
   "metadata": {},
   "outputs": [
    {
     "data": {
      "text/plain": [
       "[('Audi',\n",
       "  'A1 1.0 TFSI ULTRA SPORT 3DR HATCH 2015',\n",
       "  63,\n",
       "  66,\n",
       "  94,\n",
       "  125,\n",
       "  'http://www.ridc.org.uk/sites/default/files/styles/lead_image_content_desktop/public/field/image/car/3877_5322_0_5322.jpg?itok=XSBfcKWU',\n",
       "  'SLANT'),\n",
       " ('Audi',\n",
       "  'A1 CITYCARVER 5DR HATCH 2020',\n",
       "  66,\n",
       "  77,\n",
       "  98,\n",
       "  134,\n",
       "  'http://www.ridc.org.uk/sites/default/files/styles/lead_image_content_desktop/public/field/image/car/4459_6011_0_6011.jpg?itok=7oUHE4iO',\n",
       "  'SLANT'),\n",
       " ('Audi',\n",
       "  'A1 SPORTBACK 1.6 TDI SPORT 5DR HATCH 2015',\n",
       "  63,\n",
       "  66,\n",
       "  95,\n",
       "  125,\n",
       "  'http://www.ridc.org.uk/sites/default/files/styles/lead_image_content_desktop/public/field/image/car/3850_5312_0_5312.jpg?itok=hXgWUDDt',\n",
       "  'SLANT')]"
      ]
     },
     "execution_count": 5,
     "metadata": {},
     "output_type": "execute_result"
    }
   ],
   "source": [
    "records = cur.fetchall()\n",
    "records"
   ]
  },
  {
   "cell_type": "markdown",
   "id": "e765df7c-72ca-4a6a-ac1a-ca2e784f4103",
   "metadata": {},
   "source": [
    "# Upload ikea database"
   ]
  },
  {
   "cell_type": "markdown",
   "id": "30b0ae31-91ff-406c-91a2-576fe4bc2e99",
   "metadata": {},
   "source": [
    "### CSV > Dataframe"
   ]
  },
  {
   "cell_type": "code",
   "execution_count": 18,
   "id": "29ea08a6-d505-41ad-b9e8-6172cb209ba0",
   "metadata": {},
   "outputs": [
    {
     "data": {
      "text/html": [
       "<div>\n",
       "<style scoped>\n",
       "    .dataframe tbody tr th:only-of-type {\n",
       "        vertical-align: middle;\n",
       "    }\n",
       "\n",
       "    .dataframe tbody tr th {\n",
       "        vertical-align: top;\n",
       "    }\n",
       "\n",
       "    .dataframe thead th {\n",
       "        text-align: right;\n",
       "    }\n",
       "</style>\n",
       "<table border=\"1\" class=\"dataframe\">\n",
       "  <thead>\n",
       "    <tr style=\"text-align: right;\">\n",
       "      <th></th>\n",
       "      <th>width</th>\n",
       "      <th>height</th>\n",
       "      <th>length</th>\n",
       "      <th>weight</th>\n",
       "      <th>packages</th>\n",
       "      <th>subarticle_code</th>\n",
       "      <th>article_code</th>\n",
       "      <th>product_name</th>\n",
       "    </tr>\n",
       "  </thead>\n",
       "  <tbody>\n",
       "    <tr>\n",
       "      <th>0</th>\n",
       "      <td>22</td>\n",
       "      <td>22</td>\n",
       "      <td>46</td>\n",
       "      <td>1.16</td>\n",
       "      <td>1</td>\n",
       "      <td>60484580</td>\n",
       "      <td>60484580</td>\n",
       "      <td>SOLVINDEN</td>\n",
       "    </tr>\n",
       "    <tr>\n",
       "      <th>1</th>\n",
       "      <td>16</td>\n",
       "      <td>16</td>\n",
       "      <td>16</td>\n",
       "      <td>0.17</td>\n",
       "      <td>1</td>\n",
       "      <td>40470329</td>\n",
       "      <td>40470329</td>\n",
       "      <td>HÖSTFEST</td>\n",
       "    </tr>\n",
       "    <tr>\n",
       "      <th>2</th>\n",
       "      <td>11</td>\n",
       "      <td>21</td>\n",
       "      <td>21</td>\n",
       "      <td>0.61</td>\n",
       "      <td>1</td>\n",
       "      <td>60311339</td>\n",
       "      <td>60311339</td>\n",
       "      <td>STOCKHOLM</td>\n",
       "    </tr>\n",
       "    <tr>\n",
       "      <th>3</th>\n",
       "      <td>29</td>\n",
       "      <td>22</td>\n",
       "      <td>56</td>\n",
       "      <td>1.81</td>\n",
       "      <td>1</td>\n",
       "      <td>50485165</td>\n",
       "      <td>50485165</td>\n",
       "      <td>VITLÖK</td>\n",
       "    </tr>\n",
       "    <tr>\n",
       "      <th>4</th>\n",
       "      <td>20</td>\n",
       "      <td>2</td>\n",
       "      <td>59</td>\n",
       "      <td>1.27</td>\n",
       "      <td>1</td>\n",
       "      <td>80400042</td>\n",
       "      <td>89325963</td>\n",
       "      <td>BURHULT</td>\n",
       "    </tr>\n",
       "  </tbody>\n",
       "</table>\n",
       "</div>"
      ],
      "text/plain": [
       "   width  height  length  weight  packages  subarticle_code  article_code  \\\n",
       "0     22      22      46    1.16         1         60484580      60484580   \n",
       "1     16      16      16    0.17         1         40470329      40470329   \n",
       "2     11      21      21    0.61         1         60311339      60311339   \n",
       "3     29      22      56    1.81         1         50485165      50485165   \n",
       "4     20       2      59    1.27         1         80400042      89325963   \n",
       "\n",
       "  product_name  \n",
       "0    SOLVINDEN  \n",
       "1     HÖSTFEST  \n",
       "2    STOCKHOLM  \n",
       "3       VITLÖK  \n",
       "4      BURHULT  "
      ]
     },
     "execution_count": 18,
     "metadata": {},
     "output_type": "execute_result"
    }
   ],
   "source": [
    "df = pd.read_csv('../willitfit/data/ikea_database.csv')\n",
    "df.head()"
   ]
  },
  {
   "cell_type": "markdown",
   "id": "0fcd7be8-754d-4450-8079-7574f7c37b1b",
   "metadata": {},
   "source": [
    "### Split dataframe into correct tables"
   ]
  },
  {
   "cell_type": "code",
   "execution_count": 21,
   "id": "ea06898e-d7f1-4d71-b482-894003576549",
   "metadata": {},
   "outputs": [
    {
     "data": {
      "text/html": [
       "<div>\n",
       "<style scoped>\n",
       "    .dataframe tbody tr th:only-of-type {\n",
       "        vertical-align: middle;\n",
       "    }\n",
       "\n",
       "    .dataframe tbody tr th {\n",
       "        vertical-align: top;\n",
       "    }\n",
       "\n",
       "    .dataframe thead th {\n",
       "        text-align: right;\n",
       "    }\n",
       "</style>\n",
       "<table border=\"1\" class=\"dataframe\">\n",
       "  <thead>\n",
       "    <tr style=\"text-align: right;\">\n",
       "      <th></th>\n",
       "      <th>article_code</th>\n",
       "      <th>subarticle_code</th>\n",
       "      <th>product_name</th>\n",
       "      <th>packages</th>\n",
       "    </tr>\n",
       "  </thead>\n",
       "  <tbody>\n",
       "    <tr>\n",
       "      <th>0</th>\n",
       "      <td>60484580</td>\n",
       "      <td>60484580</td>\n",
       "      <td>SOLVINDEN</td>\n",
       "      <td>1</td>\n",
       "    </tr>\n",
       "    <tr>\n",
       "      <th>1</th>\n",
       "      <td>40470329</td>\n",
       "      <td>40470329</td>\n",
       "      <td>HÖSTFEST</td>\n",
       "      <td>1</td>\n",
       "    </tr>\n",
       "    <tr>\n",
       "      <th>2</th>\n",
       "      <td>60311339</td>\n",
       "      <td>60311339</td>\n",
       "      <td>STOCKHOLM</td>\n",
       "      <td>1</td>\n",
       "    </tr>\n",
       "  </tbody>\n",
       "</table>\n",
       "</div>"
      ],
      "text/plain": [
       "   article_code  subarticle_code product_name  packages\n",
       "0      60484580         60484580    SOLVINDEN         1\n",
       "1      40470329         40470329     HÖSTFEST         1\n",
       "2      60311339         60311339    STOCKHOLM         1"
      ]
     },
     "execution_count": 21,
     "metadata": {},
     "output_type": "execute_result"
    }
   ],
   "source": [
    "articles_df = df[['article_code','subarticle_code','product_name','packages']]\n",
    "articles_df.head(3)"
   ]
  },
  {
   "cell_type": "code",
   "execution_count": 23,
   "id": "0b9bf1e5-f346-4844-b437-e985275ba3bd",
   "metadata": {},
   "outputs": [
    {
     "data": {
      "text/html": [
       "<div>\n",
       "<style scoped>\n",
       "    .dataframe tbody tr th:only-of-type {\n",
       "        vertical-align: middle;\n",
       "    }\n",
       "\n",
       "    .dataframe tbody tr th {\n",
       "        vertical-align: top;\n",
       "    }\n",
       "\n",
       "    .dataframe thead th {\n",
       "        text-align: right;\n",
       "    }\n",
       "</style>\n",
       "<table border=\"1\" class=\"dataframe\">\n",
       "  <thead>\n",
       "    <tr style=\"text-align: right;\">\n",
       "      <th></th>\n",
       "      <th>subarticle_code</th>\n",
       "      <th>width</th>\n",
       "      <th>height</th>\n",
       "      <th>length</th>\n",
       "      <th>weight</th>\n",
       "    </tr>\n",
       "  </thead>\n",
       "  <tbody>\n",
       "    <tr>\n",
       "      <th>0</th>\n",
       "      <td>60484580</td>\n",
       "      <td>22</td>\n",
       "      <td>22</td>\n",
       "      <td>46</td>\n",
       "      <td>1.16</td>\n",
       "    </tr>\n",
       "    <tr>\n",
       "      <th>1</th>\n",
       "      <td>40470329</td>\n",
       "      <td>16</td>\n",
       "      <td>16</td>\n",
       "      <td>16</td>\n",
       "      <td>0.17</td>\n",
       "    </tr>\n",
       "    <tr>\n",
       "      <th>2</th>\n",
       "      <td>60311339</td>\n",
       "      <td>11</td>\n",
       "      <td>21</td>\n",
       "      <td>21</td>\n",
       "      <td>0.61</td>\n",
       "    </tr>\n",
       "  </tbody>\n",
       "</table>\n",
       "</div>"
      ],
      "text/plain": [
       "   subarticle_code  width  height  length  weight\n",
       "0         60484580     22      22      46    1.16\n",
       "1         40470329     16      16      16    0.17\n",
       "2         60311339     11      21      21    0.61"
      ]
     },
     "execution_count": 23,
     "metadata": {},
     "output_type": "execute_result"
    }
   ],
   "source": [
    "subarticles_df = df[['subarticle_code','width','height','length','weight']]\n",
    "subarticles_df.head(3)"
   ]
  },
  {
   "cell_type": "code",
   "execution_count": 26,
   "id": "37d788c1-d882-4a0f-9ac4-df5164f9cc4d",
   "metadata": {},
   "outputs": [],
   "source": [
    "def execute_batch(conn, df, table, page_size=100):\n",
    "    \"\"\"\n",
    "    Using psycopg2.extras.execute_batch() to insert the dataframe\n",
    "    \"\"\"\n",
    "    # Create a list of tupples from the dataframe values\n",
    "    tuples = [tuple(x) for x in df.to_numpy()]\n",
    "    # Comma-separated dataframe columns\n",
    "    cols = ','.join(list(df.columns))\n",
    "    # SQL query to execute\n",
    "    query  = \"INSERT INTO %s(%s) VALUES(%%s,%%s,%%s,%%s)\" % (table, cols)\n",
    "    cursor = conn.cursor()\n",
    "    try:\n",
    "        extras.execute_batch(cursor, query, tuples, page_size)\n",
    "        conn.commit()\n",
    "    except (Exception, psycopg2.DatabaseError) as error:\n",
    "        print(\"Error: %s\" % error)\n",
    "        conn.rollback()\n",
    "        cursor.close()\n",
    "        return 1\n",
    "    print(\"execute_batch() done\")\n",
    "    cursor.close()"
   ]
  },
  {
   "cell_type": "code",
   "execution_count": 28,
   "id": "a99347a2-e998-47d8-a5f7-9ad89a35a5b6",
   "metadata": {},
   "outputs": [
    {
     "name": "stdout",
     "output_type": "stream",
     "text": [
      "execute_batch() done\n"
     ]
    }
   ],
   "source": [
    "#execute_batch(conn, articles_df, \"articles\")"
   ]
  },
  {
   "cell_type": "code",
   "execution_count": 12,
   "id": "d1c56fe5-0093-4d2c-9ca6-4eae3feae957",
   "metadata": {},
   "outputs": [],
   "source": [
    "def execute_many(conn, df, table):\n",
    "    \"\"\"\n",
    "    Using cursor.executemany() to insert the dataframe\n",
    "    \"\"\"\n",
    "    # Create a list of tupples from the dataframe values\n",
    "    tuples = [tuple(x) for x in df.to_numpy(dtype='object')]\n",
    "    # Comma-separated dataframe columns\n",
    "    cols = ','.join(list(df.columns))\n",
    "    # SQL query to execute\n",
    "    query  = \"INSERT INTO %s(%s) VALUES(%%s,%%s,%%s,%%s,%%s)\" % (table, cols)\n",
    "    cursor = conn.cursor()\n",
    "    try:\n",
    "        cursor.executemany(query, tuples)\n",
    "        conn.commit()\n",
    "    except (Exception, psycopg2.DatabaseError) as error:\n",
    "        print(\"Error: %s\" % error)\n",
    "        conn.rollback()\n",
    "        cursor.close()\n",
    "        return 1\n",
    "    print(\"execute_many() done\")\n",
    "    cursor.close()"
   ]
  },
  {
   "cell_type": "code",
   "execution_count": 13,
   "id": "9c43e947-9dcb-497c-9078-ab6a9808dc34",
   "metadata": {},
   "outputs": [],
   "source": [
    "#execute_many(conn, subarticles_df, \"sub_articles\")"
   ]
  },
  {
   "cell_type": "code",
   "execution_count": 46,
   "id": "28c1377a-1744-4c8f-91c4-04ced5a04783",
   "metadata": {},
   "outputs": [
    {
     "name": "stdout",
     "output_type": "stream",
     "text": [
      "('60484580', '60484580', 'SOLVINDEN', 1)\n",
      "('40470329', '40470329', 'HÖSTFEST', 1)\n",
      "('60311339', '60311339', 'STOCKHOLM', 1)\n",
      "('50485165', '50485165', 'VITLÖK', 1)\n",
      "('89325963', '80400042', 'BURHULT', 1)\n",
      "('89325963', '10417734', 'BURHULT', 2)\n",
      "('30487226', '30487226', 'LINNEBÄCK', 1)\n",
      "('10203610', '10203610', 'MALM', 1)\n",
      "('30446373', '30446373', 'SLATTUM', 1)\n",
      "('39216754', '80311060', 'FRIHETEN', 1)\n",
      "('39216754', '80311734', 'FRIHETEN', 1)\n",
      "('39216754', '311059  ', 'FRIHETEN', 1)\n",
      "('39280684', '70428206', 'INGATORP', 1)\n",
      "('39280684', '70246292', 'INGATORP', 1)\n",
      "('39280684', '10362487', 'INGATORP', 1)\n",
      "('79385603', '60355130', 'PAX', 4)\n",
      "('79385603', '40473139', 'PAX', 4)\n",
      "('79385603', '20172750', 'PAX', 3)\n",
      "('79385603', '60260373', 'PAX', 3)\n",
      "('79385603', '10256892', 'PAX', 1)\n",
      "('79385603', '90405765', 'PAX', 1)\n",
      "('79385603', '405760  ', 'PAX', 4)\n",
      "('79385603', '60405762', 'PAX', 4)\n",
      "('79385603', '40400765', 'PAX', 3)\n",
      "('79385603', '80355068', 'PAX', 3)\n",
      "('79385603', '10405566', 'PAX', 1)\n",
      "('79385603', '10446538', 'PAX', 1)\n",
      "('79385603', '90263247', 'PAX', 1)\n",
      "('79385603', '60246363', 'PAX', 1)\n",
      "('79385603', '10277960', 'PAX', 2)\n",
      "('79385603', '70257643', 'PAX', 2)\n",
      "('60346961', '60346961', 'PAX', 1)\n",
      "('475786  ', '475786  ', 'STJÄRNANIS', 1)\n",
      "('441904  ', '441904  ', 'CHIAFRÖN', 1)\n",
      "('90277145', '90277145', 'GNEDBY', 1)\n",
      "('9850874 ', '30102974', 'SAMLA', 1)\n",
      "('9850874 ', '70110302', 'SAMLA', 1)\n",
      "('90473486', '90473486', 'SKOGSVIKEN', 1)\n"
     ]
    }
   ],
   "source": [
    "cur = conn.cursor()\n",
    "cur.execute(\"\"\"\n",
    "SELECT * FROM articles\n",
    "\"\"\")\n",
    "for x in cur.fetchall():\n",
    "    print(x)\n",
    "cur.close()"
   ]
  },
  {
   "cell_type": "code",
   "execution_count": 50,
   "id": "8be2273e-0bc3-45f9-9acf-358f3c636950",
   "metadata": {},
   "outputs": [
    {
     "name": "stdout",
     "output_type": "stream",
     "text": [
      "(22, 22, 46, 1.16, '60484580')\n",
      "(16, 16, 16, 0.17, '40470329')\n",
      "(11, 21, 21, 0.61, '60311339')\n",
      "(29, 22, 56, 1.81, '50485165')\n",
      "(20, 2, 59, 1.27, '80400042')\n",
      "(18, 3, 18, 0.07, '10417734')\n",
      "(43, 17, 73, 7.7, '30487226')\n",
      "(45, 12, 148, 22.55, '10203610')\n",
      "(72, 10, 152, 34.0, '30446373')\n",
      "(64, 27, 207, 40.55, '80311060')\n",
      "(64, 27, 207, 40.55, '80311734')\n",
      "(66, 13, 94, 16.01, '70428206')\n",
      "(95, 13, 161, 39.3, '70246292')\n",
      "(66, 13, 94, 16.01, '10362487')\n",
      "(59, 6, 245, 46.84, '60355130')\n",
      "(59, 6, 245, 46.84, '40473139')\n",
      "(50, 2, 239, 14.19, '20172750')\n",
      "(50, 2, 239, 14.19, '60260373')\n",
      "(54, 3, 237, 22.57, '10256892')\n",
      "(54, 3, 237, 22.57, '90405765')\n",
      "(20, 3, 25, 0.41, '60405762')\n",
      "(6, 4, 49, 0.28, '40400765')\n",
      "(6, 4, 49, 0.28, '80355068')\n",
      "(25, 5, 53, 0.9, '10405566')\n",
      "(25, 5, 53, 0.9, '10446538')\n",
      "(15, 5, 53, 0.62, '90263247')\n",
      "(15, 5, 53, 0.62, '60246363')\n",
      "(40, 5, 53, 1.22, '10277960')\n",
      "(40, 5, 53, 1.22, '70257643')\n",
      "(59, 4, 242, 28.07, '60346961')\n",
      "(73, 40, 145, 42.35, '00311059')\n",
      "(20, 3, 25, 0.41, '00405760')\n"
     ]
    }
   ],
   "source": [
    "cur = conn.cursor()\n",
    "cur.execute(\"\"\"\n",
    "SELECT * FROM sub_articles\n",
    "\"\"\")\n",
    "for x in cur.fetchall():\n",
    "    print(x)\n",
    "cur.close()"
   ]
  },
  {
   "cell_type": "markdown",
   "id": "7fd980b8-e9d4-48da-9207-0f95e58c209d",
   "metadata": {},
   "source": [
    "### Drop nulls"
   ]
  },
  {
   "cell_type": "code",
   "execution_count": 45,
   "id": "d4e1ef5f-74c2-48f1-9086-d957b6cb92ae",
   "metadata": {},
   "outputs": [],
   "source": [
    "cur = conn.cursor()\n",
    "cur.execute(\"\"\"\n",
    "DELETE FROM articles\n",
    "    WHERE packages IS NULL\n",
    "\"\"\")\n",
    "cur.close()"
   ]
  },
  {
   "cell_type": "code",
   "execution_count": 48,
   "id": "0189f474-4815-409d-9999-096137393551",
   "metadata": {},
   "outputs": [],
   "source": [
    "cur = conn.cursor()\n",
    "cur.execute(\"\"\"\n",
    "DELETE FROM sub_articles\n",
    "    WHERE subarticle_code IS NULL\n",
    "\"\"\")\n",
    "cur.close()"
   ]
  },
  {
   "cell_type": "markdown",
   "id": "1b5318df-1558-4b57-a27a-597ca60f2909",
   "metadata": {},
   "source": [
    "### Prepend 0's to article nums"
   ]
  },
  {
   "cell_type": "code",
   "execution_count": 52,
   "id": "0198f55a-9aef-4c50-b2f6-a021a55b9490",
   "metadata": {},
   "outputs": [],
   "source": [
    "cur = conn.cursor()\n",
    "cur.execute(\"\"\"\n",
    "UPDATE sub_articles\n",
    "    SET subarticle_code = concat('0', subarticle_code)\n",
    "    WHERE subarticle_code LIKE '% '\n",
    "    RETURNING subarticle_code\n",
    "\"\"\")\n",
    "for x in cur.fetchall():\n",
    "    print(x)\n",
    "cur.close()"
   ]
  },
  {
   "cell_type": "code",
   "execution_count": 55,
   "id": "2267c4c3-2dc6-40fe-8b5a-f00c0ff53d77",
   "metadata": {},
   "outputs": [
    {
     "name": "stdout",
     "output_type": "stream",
     "text": [
      "('00311059',)\n",
      "('00405760',)\n",
      "('00475786',)\n",
      "('00441904',)\n"
     ]
    }
   ],
   "source": [
    "cur = conn.cursor()\n",
    "cur.execute(\"\"\"\n",
    "UPDATE articles\n",
    "    SET subarticle_code = concat('0', subarticle_code)\n",
    "    WHERE subarticle_code LIKE '% '\n",
    "    RETURNING subarticle_code\n",
    "\"\"\")\n",
    "for x in cur.fetchall():\n",
    "    print(x)\n",
    "cur.close()"
   ]
  },
  {
   "cell_type": "code",
   "execution_count": 56,
   "id": "66036dc3-a6f4-4099-bb93-d523b43adb0d",
   "metadata": {},
   "outputs": [
    {
     "name": "stdout",
     "output_type": "stream",
     "text": [
      "('00475786',)\n",
      "('00441904',)\n"
     ]
    }
   ],
   "source": [
    "cur = conn.cursor()\n",
    "cur.execute(\"\"\"\n",
    "UPDATE articles\n",
    "    SET article_code = concat('0', article_code)\n",
    "    WHERE article_code LIKE '% '\n",
    "    RETURNING article_code\n",
    "\"\"\")\n",
    "for x in cur.fetchall():\n",
    "    print(x)\n",
    "cur.close()"
   ]
  },
  {
   "cell_type": "markdown",
   "id": "b4cc7a0f-7e4b-4adc-bb09-c951114066f8",
   "metadata": {},
   "source": [
    "### Test Join"
   ]
  },
  {
   "cell_type": "code",
   "execution_count": 57,
   "id": "65724655-e9cc-4a9e-abc0-93061a9a24d7",
   "metadata": {},
   "outputs": [
    {
     "name": "stdout",
     "output_type": "stream",
     "text": [
      "('60484580', 'SOLVINDEN', 1, 22, 22, 46, 1.16, '60484580')\n",
      "('40470329', 'HÖSTFEST', 1, 16, 16, 16, 0.17, '40470329')\n",
      "('60311339', 'STOCKHOLM', 1, 11, 21, 21, 0.61, '60311339')\n",
      "('50485165', 'VITLÖK', 1, 29, 22, 56, 1.81, '50485165')\n",
      "('89325963', 'BURHULT', 1, 20, 2, 59, 1.27, '80400042')\n",
      "('89325963', 'BURHULT', 2, 18, 3, 18, 0.07, '10417734')\n",
      "('30487226', 'LINNEBÄCK', 1, 43, 17, 73, 7.7, '30487226')\n",
      "('10203610', 'MALM', 1, 45, 12, 148, 22.55, '10203610')\n",
      "('30446373', 'SLATTUM', 1, 72, 10, 152, 34.0, '30446373')\n",
      "('39216754', 'FRIHETEN', 1, 64, 27, 207, 40.55, '80311060')\n",
      "('39216754', 'FRIHETEN', 1, 64, 27, 207, 40.55, '80311734')\n",
      "('39280684', 'INGATORP', 1, 66, 13, 94, 16.01, '70428206')\n",
      "('39280684', 'INGATORP', 1, 95, 13, 161, 39.3, '70246292')\n",
      "('39280684', 'INGATORP', 1, 66, 13, 94, 16.01, '10362487')\n",
      "('79385603', 'PAX', 4, 59, 6, 245, 46.84, '60355130')\n",
      "('79385603', 'PAX', 4, 59, 6, 245, 46.84, '40473139')\n",
      "('79385603', 'PAX', 3, 50, 2, 239, 14.19, '20172750')\n",
      "('79385603', 'PAX', 3, 50, 2, 239, 14.19, '60260373')\n",
      "('79385603', 'PAX', 1, 54, 3, 237, 22.57, '10256892')\n",
      "('79385603', 'PAX', 1, 54, 3, 237, 22.57, '90405765')\n",
      "('79385603', 'PAX', 4, 20, 3, 25, 0.41, '60405762')\n",
      "('79385603', 'PAX', 3, 6, 4, 49, 0.28, '40400765')\n",
      "('79385603', 'PAX', 3, 6, 4, 49, 0.28, '80355068')\n",
      "('79385603', 'PAX', 1, 25, 5, 53, 0.9, '10405566')\n",
      "('79385603', 'PAX', 1, 25, 5, 53, 0.9, '10446538')\n",
      "('79385603', 'PAX', 1, 15, 5, 53, 0.62, '90263247')\n",
      "('79385603', 'PAX', 1, 15, 5, 53, 0.62, '60246363')\n",
      "('79385603', 'PAX', 2, 40, 5, 53, 1.22, '10277960')\n",
      "('79385603', 'PAX', 2, 40, 5, 53, 1.22, '70257643')\n",
      "('60346961', 'PAX', 1, 59, 4, 242, 28.07, '60346961')\n",
      "('39216754', 'FRIHETEN', 1, 73, 40, 145, 42.35, '00311059')\n",
      "('79385603', 'PAX', 4, 20, 3, 25, 0.41, '00405760')\n"
     ]
    }
   ],
   "source": [
    "cur = conn.cursor()\n",
    "cur.execute(\"\"\"\n",
    "SELECT articles.article_code, articles.product_name, articles.packages, sub_articles.* FROM articles\n",
    "JOIN sub_articles\n",
    "ON (articles.subarticle_code = sub_articles.subarticle_code)\n",
    "\"\"\")\n",
    "for x in cur.fetchall():\n",
    "    print(x)\n",
    "cur.close()"
   ]
  },
  {
   "cell_type": "code",
   "execution_count": 59,
   "id": "f684bda4-d391-4534-985f-95fb51b92ab2",
   "metadata": {},
   "outputs": [
    {
     "name": "stdout",
     "output_type": "stream",
     "text": [
      "('79385603', 'PAX', 4, 59, 6, 245, 46.84, '60355130')\n",
      "('79385603', 'PAX', 4, 59, 6, 245, 46.84, '40473139')\n",
      "('79385603', 'PAX', 3, 50, 2, 239, 14.19, '20172750')\n",
      "('79385603', 'PAX', 3, 50, 2, 239, 14.19, '60260373')\n",
      "('79385603', 'PAX', 1, 54, 3, 237, 22.57, '10256892')\n",
      "('79385603', 'PAX', 1, 54, 3, 237, 22.57, '90405765')\n",
      "('79385603', 'PAX', 4, 20, 3, 25, 0.41, '60405762')\n",
      "('79385603', 'PAX', 3, 6, 4, 49, 0.28, '40400765')\n",
      "('79385603', 'PAX', 3, 6, 4, 49, 0.28, '80355068')\n",
      "('79385603', 'PAX', 1, 25, 5, 53, 0.9, '10405566')\n",
      "('79385603', 'PAX', 1, 25, 5, 53, 0.9, '10446538')\n",
      "('79385603', 'PAX', 1, 15, 5, 53, 0.62, '90263247')\n",
      "('79385603', 'PAX', 1, 15, 5, 53, 0.62, '60246363')\n",
      "('79385603', 'PAX', 2, 40, 5, 53, 1.22, '10277960')\n",
      "('79385603', 'PAX', 2, 40, 5, 53, 1.22, '70257643')\n",
      "('79385603', 'PAX', 4, 20, 3, 25, 0.41, '00405760')\n"
     ]
    }
   ],
   "source": [
    "cur = conn.cursor()\n",
    "cur.execute(\"\"\"\n",
    "SELECT articles.article_code, articles.product_name, articles.packages, sub_articles.* FROM articles\n",
    "JOIN sub_articles\n",
    "ON (articles.subarticle_code = sub_articles.subarticle_code)\n",
    "WHERE articles.article_code = '79385603'\n",
    "\"\"\")\n",
    "for x in cur.fetchall():\n",
    "    print(x)\n",
    "cur.close()"
   ]
  },
  {
   "cell_type": "code",
   "execution_count": 60,
   "id": "31a064f3-629e-4ccc-9e4f-221a502d1642",
   "metadata": {},
   "outputs": [],
   "source": [
    "conn.commit()\n",
    "cur.close()"
   ]
  },
  {
   "cell_type": "code",
   "execution_count": 61,
   "id": "a51a07af-c407-4538-b28d-c614d899c0f2",
   "metadata": {},
   "outputs": [
    {
     "name": "stdout",
     "output_type": "stream",
     "text": [
      "('60484580', '60484580', 'SOLVINDEN', 1)\n",
      "('40470329', '40470329', 'HÖSTFEST', 1)\n",
      "('60311339', '60311339', 'STOCKHOLM', 1)\n",
      "('50485165', '50485165', 'VITLÖK', 1)\n",
      "('89325963', '80400042', 'BURHULT', 1)\n"
     ]
    }
   ],
   "source": [
    "cur = conn.cursor()\n",
    "cur.execute(\"\"\"\n",
    "SELECT * FROM articles\n",
    "LIMIT 5\n",
    "\"\"\")\n",
    "for x in cur.fetchall():\n",
    "    print(x)\n",
    "cur.close()"
   ]
  },
  {
   "cell_type": "code",
   "execution_count": null,
   "id": "90840e6a-c513-4a3e-9e41-1db46c8a3f99",
   "metadata": {},
   "outputs": [],
   "source": []
  }
 ],
 "metadata": {
  "kernelspec": {
   "display_name": "Python 3",
   "language": "python",
   "name": "python3"
  },
  "language_info": {
   "codemirror_mode": {
    "name": "ipython",
    "version": 3
   },
   "file_extension": ".py",
   "mimetype": "text/x-python",
   "name": "python",
   "nbconvert_exporter": "python",
   "pygments_lexer": "ipython3",
   "version": "3.8.6"
  }
 },
 "nbformat": 4,
 "nbformat_minor": 5
}
