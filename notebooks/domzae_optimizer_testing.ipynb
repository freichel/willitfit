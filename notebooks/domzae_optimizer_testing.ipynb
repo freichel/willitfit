{
 "cells": [
  {
   "cell_type": "code",
   "execution_count": 6,
   "id": "6acdaa9f-9220-479a-afa9-0ff466a669b7",
   "metadata": {},
   "outputs": [],
   "source": [
    "import willitfit\n",
    "import math"
   ]
  },
  {
   "cell_type": "code",
   "execution_count": 10,
   "id": "0348298c-e9b6-4c79-bcc8-a2cd91cfb343",
   "metadata": {},
   "outputs": [],
   "source": [
    "article_list = [['90499066', 1, [(1, 65, 78, 96, 41.2)]]]"
   ]
  },
  {
   "cell_type": "code",
   "execution_count": 8,
   "id": "6586a096-1964-4379-909b-addff4c9c678",
   "metadata": {},
   "outputs": [],
   "source": [
    "def calculate_package_volume(package):\n",
    "    '''\n",
    "    Returns volume in cm cubed for package\n",
    "    '''\n",
    "    return math.prod(package)"
   ]
  },
  {
   "cell_type": "code",
   "execution_count": 11,
   "id": "3328ebae-079e-43a6-80d1-6a1df6eb89ce",
   "metadata": {},
   "outputs": [
    {
     "data": {
      "text/plain": [
       "486720"
      ]
     },
     "execution_count": 11,
     "metadata": {},
     "output_type": "execute_result"
    }
   ],
   "source": [
    "sum([calculate_package_volume(package[1:4]) for article in article_list for package in article[2]])"
   ]
  },
  {
   "cell_type": "code",
   "execution_count": null,
   "id": "579695f7-5de4-4efa-8a05-073256ae38ec",
   "metadata": {},
   "outputs": [],
   "source": []
  }
 ],
 "metadata": {
  "kernelspec": {
   "display_name": "Python 3",
   "language": "python",
   "name": "python3"
  },
  "language_info": {
   "codemirror_mode": {
    "name": "ipython",
    "version": 3
   },
   "file_extension": ".py",
   "mimetype": "text/x-python",
   "name": "python",
   "nbconvert_exporter": "python",
   "pygments_lexer": "ipython3",
   "version": "3.8.6"
  }
 },
 "nbformat": 4,
 "nbformat_minor": 5
}
