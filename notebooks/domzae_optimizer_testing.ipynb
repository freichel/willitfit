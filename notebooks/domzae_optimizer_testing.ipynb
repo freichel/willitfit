{
 "cells": [
  {
   "cell_type": "code",
   "execution_count": 6,
   "id": "6acdaa9f-9220-479a-afa9-0ff466a669b7",
   "metadata": {},
   "outputs": [],
   "source": [
    "import willitfit\n",
    "import math"
   ]
  },
  {
   "cell_type": "code",
   "execution_count": 10,
   "id": "0348298c-e9b6-4c79-bcc8-a2cd91cfb343",
   "metadata": {},
   "outputs": [],
   "source": [
    "article_list = [['90499066', 1, [(1, 65, 78, 96, 41.2)]]]"
   ]
  },
  {
   "cell_type": "code",
   "execution_count": 8,
   "id": "6586a096-1964-4379-909b-addff4c9c678",
   "metadata": {},
   "outputs": [],
   "source": [
    "def calculate_package_volume(package):\n",
    "    '''\n",
    "    Returns volume in cm cubed for package\n",
    "    '''\n",
    "    return math.prod(package)"
   ]
  },
  {
   "cell_type": "code",
   "execution_count": 11,
   "id": "3328ebae-079e-43a6-80d1-6a1df6eb89ce",
   "metadata": {},
   "outputs": [
    {
     "data": {
      "text/plain": [
       "486720"
      ]
     },
     "execution_count": 11,
     "metadata": {},
     "output_type": "execute_result"
    }
   ],
   "source": [
    "sum([calculate_package_volume(package[1:4]) for article in article_list for package in article[2]])"
   ]
  },
  {
   "cell_type": "code",
   "execution_count": 15,
   "id": "d03d695e-7f9d-4490-adf3-6b8f3d92fd18",
   "metadata": {},
   "outputs": [
    {
     "data": {
      "text/html": [
       "<div>\n",
       "<style scoped>\n",
       "    .dataframe tbody tr th:only-of-type {\n",
       "        vertical-align: middle;\n",
       "    }\n",
       "\n",
       "    .dataframe tbody tr th {\n",
       "        vertical-align: top;\n",
       "    }\n",
       "\n",
       "    .dataframe thead th {\n",
       "        text-align: right;\n",
       "    }\n",
       "</style>\n",
       "<table border=\"1\" class=\"dataframe\">\n",
       "  <thead>\n",
       "    <tr style=\"text-align: right;\">\n",
       "      <th></th>\n",
       "      <th>width</th>\n",
       "      <th>height</th>\n",
       "      <th>length</th>\n",
       "      <th>weight</th>\n",
       "      <th>packages</th>\n",
       "      <th>subarticle_code</th>\n",
       "      <th>article_code</th>\n",
       "    </tr>\n",
       "  </thead>\n",
       "  <tbody>\n",
       "  </tbody>\n",
       "</table>\n",
       "</div>"
      ],
      "text/plain": [
       "Empty DataFrame\n",
       "Columns: [width, height, length, weight, packages, subarticle_code, article_code]\n",
       "Index: []"
      ]
     },
     "execution_count": 15,
     "metadata": {},
     "output_type": "execute_result"
    }
   ],
   "source": [
    "x = pd.read_csv('../willitfit/data/ikea_database.csv')\n",
    "x"
   ]
  },
  {
   "cell_type": "code",
   "execution_count": 6,
   "id": "579695f7-5de4-4efa-8a05-073256ae38ec",
   "metadata": {},
   "outputs": [],
   "source": [
    "import pandas as pd"
   ]
  },
  {
   "cell_type": "code",
   "execution_count": 4,
   "id": "24491e16-f605-4eaf-bfc7-564de6142145",
   "metadata": {},
   "outputs": [],
   "source": [
    "from willitfit.app_utils.googlecloud import send_cloud_data"
   ]
  },
  {
   "cell_type": "code",
   "execution_count": 16,
   "id": "0a318d47-80f7-4514-b210-9189235f4c22",
   "metadata": {},
   "outputs": [
    {
     "data": {
      "text/plain": [
       "True"
      ]
     },
     "execution_count": 16,
     "metadata": {},
     "output_type": "execute_result"
    }
   ],
   "source": [
    "send_cloud_data(x,'data/ikea_database.csv')"
   ]
  },
  {
   "cell_type": "code",
   "execution_count": null,
   "id": "7dee5770-09f9-4261-97b1-7c0537d9d0c6",
   "metadata": {},
   "outputs": [],
   "source": []
  }
 ],
 "metadata": {
  "kernelspec": {
   "display_name": "Python 3",
   "language": "python",
   "name": "python3"
  },
  "language_info": {
   "codemirror_mode": {
    "name": "ipython",
    "version": 3
   },
   "file_extension": ".py",
   "mimetype": "text/x-python",
   "name": "python",
   "nbconvert_exporter": "python",
   "pygments_lexer": "ipython3",
   "version": "3.8.6"
  }
 },
 "nbformat": 4,
 "nbformat_minor": 5
}
