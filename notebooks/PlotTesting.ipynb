{
 "cells": [
  {
   "cell_type": "markdown",
   "id": "d518525d-d831-424a-aa8d-14d1362484eb",
   "metadata": {},
   "source": [
    "To run plotly/widgets in jupyterlab:\n",
    "``` shell\n",
    "pip install jupyterlab \"ipywidgets>=7.5\"\n",
    "curl -fsSL https://deb.nodesource.com/setup_16.x | sudo -E bash -\n",
    "sudo apt-get install -y nodejs\n",
    "jupyter labextension install jupyterlab-plotly@4.14.3\n",
    "```"
   ]
  },
  {
   "cell_type": "markdown",
   "id": "5a6e5454-c945-495d-91ee-fe70c233650d",
   "metadata": {},
   "source": [
    "# Unavailable Space testing Testing"
   ]
  },
  {
   "cell_type": "markdown",
   "id": "bdc9fd0a-fcd1-4500-ac0c-46b86b94aee4",
   "metadata": {},
   "source": [
    "### Imports"
   ]
  },
  {
   "cell_type": "code",
   "execution_count": 20,
   "id": "b3440434-39c8-4f27-9bcc-b68aa38224a6",
   "metadata": {},
   "outputs": [],
   "source": [
    "import plotly.graph_objects as go\n",
    "import numpy as np\n",
    "import pandas as pd\n",
    "from willitfit.plotting import plotter, plot_helper\n",
    "\n",
    "from willitfit.params import VOL_UNAVAILABLE, VOL_EMPTY"
   ]
  },
  {
   "cell_type": "code",
   "execution_count": 10,
   "id": "9f0f440b",
   "metadata": {},
   "outputs": [],
   "source": [
    "data = pd.read_csv('cars_clean.csv')"
   ]
  },
  {
   "cell_type": "markdown",
   "id": "426c10dd-2491-49ad-8ee4-68b7680f16f0",
   "metadata": {},
   "source": [
    "## Helper Functions"
   ]
  },
  {
   "cell_type": "code",
   "execution_count": 11,
   "id": "d41312bd-5d5e-47bb-8f78-0c646d657e7a",
   "metadata": {},
   "outputs": [],
   "source": [
    "def generate_wireframe(coords_arr):\n",
    "    '''Quickly generate wireframe from coords arr'''\n",
    "    meshes = []\n",
    "    line_marker = dict(color='#0066FF', width=2)\n",
    "    for arr in coords_arr:\n",
    "        x,y,z = arr\n",
    "        meshes.append(go.Scatter3d(x=x,\n",
    "                                y=z,\n",
    "                                z=y,\n",
    "                                mode='lines',\n",
    "                                #color='grey',\n",
    "                                line=line_marker))\n",
    "\n",
    "    return meshes"
   ]
  },
  {
   "cell_type": "code",
   "execution_count": 23,
   "id": "12dda373-2a9c-4c7e-a99a-27338247f780",
   "metadata": {},
   "outputs": [],
   "source": [
    "def test_unavailable_space(car_model, data=data, ratio_door=0.2):\n",
    "    test_vol = get_volume_space(car_model=car_model, data=data, ratio_door=ratio_door)\n",
    "    unavail_coords = np.argwhere(test_vol == VOL_UNAVAILABLE).T\n",
    "    wireframe = generate_wireframe([unavail_coords])\n",
    "\n",
    "    return plotter.draw_3d_plot(wireframe, test_vol.shape)"
   ]
  },
  {
   "cell_type": "markdown",
   "id": "987a2614-e219-4c69-84be-7c1d6bb0b330",
   "metadata": {},
   "source": [
    "# Test"
   ]
  },
  {
   "cell_type": "code",
   "execution_count": 22,
   "id": "e5d4784e-fa59-48f6-a195-9b6841828038",
   "metadata": {},
   "outputs": [],
   "source": [
    "def get_volume_space(car_model, data, ratio_door=0.2):\n",
    "    \"\"\"\n",
    "    Returns available volume for a specific car_model.\n",
    "    Use ratio_door to tweak estimated unavailable space caused by 45-degree trunk-door slope.\n",
    "    \"\"\"\n",
    "    # Isolate dimension cols\n",
    "    dim_cols = ['depth', 'height', 'width']\n",
    "\n",
    "    # Trunk dimensions\n",
    "    model_row = data[data['car_model'] == car_model]\n",
    "    trunk_dims = model_row[dim_cols].to_numpy(int)[0]\n",
    "\n",
    "    # Cuboid Volume Space\n",
    "    volume_space = np.full(trunk_dims, VOL_EMPTY, dtype=int)\n",
    "\n",
    "    # Unavailable space\n",
    "    depth_to_block = int(trunk_dims[0]*ratio_door)\n",
    "    for i in range(-depth_to_block, 0, 1):\n",
    "        volume_space[i,-i:,:] = VOL_UNAVAILABLE\n",
    "\n",
    "    return volume_space"
   ]
  },
  {
   "cell_type": "code",
   "execution_count": 17,
   "id": "20bcc7a9",
   "metadata": {},
   "outputs": [
    {
     "data": {
      "text/plain": [
       "'218D GRAN TOURER LUXURY LINE STEPTRONIC 5DR MPV 2015'"
      ]
     },
     "execution_count": 17,
     "metadata": {},
     "output_type": "execute_result"
    }
   ],
   "source": [
    "data.iloc[4]['car_model']"
   ]
  },
  {
   "cell_type": "code",
   "execution_count": 24,
   "id": "cff5420f-f1a5-4122-97b0-bb6477c26a2e",
   "metadata": {},
   "outputs": [
    {
     "ename": "TypeError",
     "evalue": "draw_3d_plot() takes 1 positional argument but 2 were given",
     "output_type": "error",
     "traceback": [
      "\u001b[0;31m---------------------------------------------------------------------------\u001b[0m",
      "\u001b[0;31mTypeError\u001b[0m                                 Traceback (most recent call last)",
      "\u001b[0;32m<ipython-input-24-f41f77523d5f>\u001b[0m in \u001b[0;36m<module>\u001b[0;34m\u001b[0m\n\u001b[0;32m----> 1\u001b[0;31m \u001b[0mtest_unavailable_space\u001b[0m\u001b[0;34m(\u001b[0m\u001b[0mdata\u001b[0m\u001b[0;34m.\u001b[0m\u001b[0miloc\u001b[0m\u001b[0;34m[\u001b[0m\u001b[0;36m4\u001b[0m\u001b[0;34m]\u001b[0m\u001b[0;34m[\u001b[0m\u001b[0;34m'car_model'\u001b[0m\u001b[0;34m]\u001b[0m\u001b[0;34m,\u001b[0m \u001b[0mdata\u001b[0m\u001b[0;34m,\u001b[0m \u001b[0;36m0.3\u001b[0m\u001b[0;34m)\u001b[0m\u001b[0;34m\u001b[0m\u001b[0;34m\u001b[0m\u001b[0m\n\u001b[0m",
      "\u001b[0;32m<ipython-input-23-aae5ac7cf797>\u001b[0m in \u001b[0;36mtest_unavailable_space\u001b[0;34m(car_model, data, ratio_door)\u001b[0m\n\u001b[1;32m      4\u001b[0m     \u001b[0mwireframe\u001b[0m \u001b[0;34m=\u001b[0m \u001b[0mgenerate_wireframe\u001b[0m\u001b[0;34m(\u001b[0m\u001b[0;34m[\u001b[0m\u001b[0munavail_coords\u001b[0m\u001b[0;34m]\u001b[0m\u001b[0;34m)\u001b[0m\u001b[0;34m\u001b[0m\u001b[0;34m\u001b[0m\u001b[0m\n\u001b[1;32m      5\u001b[0m \u001b[0;34m\u001b[0m\u001b[0m\n\u001b[0;32m----> 6\u001b[0;31m     \u001b[0;32mreturn\u001b[0m \u001b[0mplotter\u001b[0m\u001b[0;34m.\u001b[0m\u001b[0mdraw_3d_plot\u001b[0m\u001b[0;34m(\u001b[0m\u001b[0mwireframe\u001b[0m\u001b[0;34m,\u001b[0m \u001b[0mtest_vol\u001b[0m\u001b[0;34m.\u001b[0m\u001b[0mshape\u001b[0m\u001b[0;34m)\u001b[0m\u001b[0;34m\u001b[0m\u001b[0;34m\u001b[0m\u001b[0m\n\u001b[0m",
      "\u001b[0;31mTypeError\u001b[0m: draw_3d_plot() takes 1 positional argument but 2 were given"
     ]
    }
   ],
   "source": [
    "test_unavailable_space(data.iloc[4]['car_model'], data, 0.3)"
   ]
  },
  {
   "cell_type": "code",
   "execution_count": null,
   "id": "c7f3a08c-e16b-456a-a80c-127ccf193caf",
   "metadata": {},
   "outputs": [],
   "source": [
    "fom"
   ]
  }
 ],
 "metadata": {
  "kernelspec": {
   "display_name": "Python 3",
   "language": "python",
   "name": "python3"
  },
  "language_info": {
   "codemirror_mode": {
    "name": "ipython",
    "version": 3
   },
   "file_extension": ".py",
   "mimetype": "text/x-python",
   "name": "python",
   "nbconvert_exporter": "python",
   "pygments_lexer": "ipython3",
   "version": "3.8.6"
  },
  "toc": {
   "base_numbering": 1,
   "nav_menu": {},
   "number_sections": true,
   "sideBar": true,
   "skip_h1_title": false,
   "title_cell": "Table of Contents",
   "title_sidebar": "Contents",
   "toc_cell": false,
   "toc_position": {},
   "toc_section_display": true,
   "toc_window_display": false
  }
 },
 "nbformat": 4,
 "nbformat_minor": 5
}
