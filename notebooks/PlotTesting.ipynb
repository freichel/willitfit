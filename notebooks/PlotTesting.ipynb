{
 "cells": [
  {
   "cell_type": "markdown",
   "id": "d518525d-d831-424a-aa8d-14d1362484eb",
   "metadata": {},
   "source": [
    "To run plotly/widgets in jupyterlab:\n",
    "``` shell\n",
    "pip install jupyterlab \"ipywidgets>=7.5\"\n",
    "curl -fsSL https://deb.nodesource.com/setup_16.x | sudo -E bash -\n",
    "sudo apt-get install -y nodejs\n",
    "jupyter labextension install jupyterlab-plotly@4.14.3\n",
    "```"
   ]
  },
  {
   "cell_type": "markdown",
   "id": "5a6e5454-c945-495d-91ee-fe70c233650d",
   "metadata": {},
   "source": [
    "# Unavailable Space testing Testing"
   ]
  },
  {
   "cell_type": "markdown",
   "id": "bdc9fd0a-fcd1-4500-ac0c-46b86b94aee4",
   "metadata": {},
   "source": [
    "### Imports"
   ]
  },
  {
   "cell_type": "code",
   "execution_count": 1,
   "id": "b3440434-39c8-4f27-9bcc-b68aa38224a6",
   "metadata": {},
   "outputs": [],
   "source": [
    "import plotly.graph_objects as go\n",
    "import numpy as np\n",
    "\n",
    "from willitfit.plotting import plotter, plot_helper\n",
    "from willitfit.params import VOL_UNAVAILABLE, VOL_EMPTY"
   ]
  },
  {
   "cell_type": "markdown",
   "id": "426c10dd-2491-49ad-8ee4-68b7680f16f0",
   "metadata": {},
   "source": [
    "## Helper Functions"
   ]
  },
  {
   "cell_type": "code",
   "execution_count": 2,
   "id": "d41312bd-5d5e-47bb-8f78-0c646d657e7a",
   "metadata": {},
   "outputs": [],
   "source": [
    "def generate_wireframe(coords_arr):\n",
    "    '''Quickly generate wireframe from coords arr'''\n",
    "    meshes = []\n",
    "    line_marker = dict(color='#0066FF', width=2)\n",
    "    for arr in coords_arr:\n",
    "        x,y,z = arr\n",
    "        meshes.append(go.Scatter3d(x=x,\n",
    "                                y=z,\n",
    "                                z=y,\n",
    "                                mode='lines',\n",
    "                                #color='grey',\n",
    "                                line=line_marker))\n",
    "\n",
    "    return meshes\n",
    "\n",
    "def get_volume_space(car_model, data, ratio_height=0.5, slant=1):\n",
    "    \"\"\"\n",
    "    Returns available volume for a specific car_model.\n",
    "    Use ratio_door to tweak estimated unavailable space caused by 45-degree trunk-door slope.\n",
    "    \"\"\"\n",
    "    # Isolate dimension cols\n",
    "    dim_cols = ['depth', 'height', 'width']\n",
    "\n",
    "    # Trunk dimensions\n",
    "    model_row = data[data['car_model'] == car_model]\n",
    "    trunk_dims = model_row[dim_cols].to_numpy(int)[0]\n",
    "\n",
    "    # Cuboid Volume Space\n",
    "    volume_space = np.full(trunk_dims, VOL_EMPTY, dtype=int)\n",
    "\n",
    "    # Unavailable space\n",
    "    height_block = int(trunk_dims[1]*ratio_height)\n",
    "    for i in range(height_block):\n",
    "        volume_space[i,height_block+(slant*i):,:] = VOL_UNAVAILABLE\n",
    "    return volume_space\n",
    "\n",
    "\n",
    "def test_unavailable_space(car_model, data, ratio_height, slant):\n",
    "    test_vol = get_volume_space(car_model=car_model, data=data, ratio_height=ratio_height, slant=slant)\n",
    "    unavail_coords = np.argwhere(test_vol == VOL_UNAVAILABLE).T\n",
    "    wireframe = generate_wireframe([unavail_coords])\n",
    "\n",
    "    return plotter.draw_3d_plot(wireframe, test_vol.shape)"
   ]
  },
  {
   "cell_type": "markdown",
   "id": "987a2614-e219-4c69-84be-7c1d6bb0b330",
   "metadata": {},
   "source": [
    "# Test"
   ]
  },
  {
   "cell_type": "code",
   "execution_count": 5,
   "id": "e5d4784e-fa59-48f6-a195-9b6841828038",
   "metadata": {},
   "outputs": [],
   "source": [
    "import pandas as pd\n",
    "import os\n",
    "from pathlib import Path"
   ]
  },
  {
   "cell_type": "code",
   "execution_count": 6,
   "id": "cff5420f-f1a5-4122-97b0-bb6477c26a2e",
   "metadata": {},
   "outputs": [
    {
     "name": "stdout",
     "output_type": "stream",
     "text": [
      "/Users/tzu-fantang/code/proxvision/freichel/willitfit/raw_data/cars.csv\n"
     ]
    }
   ],
   "source": [
    "CSV_PATH = Path(os.path.abspath(os.getcwd())).parent.absolute()/\"raw_data/cars.csv\"\n",
    "print(CSV_PATH)"
   ]
  },
  {
   "cell_type": "code",
   "execution_count": 7,
   "id": "c7f3a08c-e16b-456a-a80c-127ccf193caf",
   "metadata": {},
   "outputs": [],
   "source": [
    "data = pd.read_csv(CSV_PATH)\n",
    "car_model = data.iloc[250]['car_model']"
   ]
  }
 ],
 "metadata": {
  "kernelspec": {
   "display_name": "Python 3",
   "language": "python",
   "name": "python3"
  },
  "language_info": {
   "codemirror_mode": {
    "name": "ipython",
    "version": 3
   },
   "file_extension": ".py",
   "mimetype": "text/x-python",
   "name": "python",
   "nbconvert_exporter": "python",
   "pygments_lexer": "ipython3",
   "version": "3.8.6"
  },
  "toc": {
   "base_numbering": 1,
   "nav_menu": {},
   "number_sections": true,
   "sideBar": true,
   "skip_h1_title": false,
   "title_cell": "Table of Contents",
   "title_sidebar": "Contents",
   "toc_cell": false,
   "toc_position": {},
   "toc_section_display": true,
   "toc_window_display": false
  }
 },
 "nbformat": 4,
 "nbformat_minor": 5
}
