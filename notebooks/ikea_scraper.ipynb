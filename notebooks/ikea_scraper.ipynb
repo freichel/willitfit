{
 "cells": [
  {
   "cell_type": "code",
   "execution_count": 1,
   "id": "dc98ca91",
   "metadata": {},
   "outputs": [],
   "source": [
    "import pandas as pd"
   ]
  },
  {
   "cell_type": "code",
   "execution_count": 4,
   "id": "ed4f16d6",
   "metadata": {},
   "outputs": [
    {
     "data": {
      "text/plain": [
       "[['s39128564',\n",
       "  2,\n",
       "  [(1, 4, 6, 49, 0.28),\n",
       "   (2, 4, 6, 49, 0.28),\n",
       "   (3, 4, 6, 74, 0.43),\n",
       "   (4, 4, 6, 74, 0.43),\n",
       "   (5, 2, 48, 59, 3.35),\n",
       "   (6, 2, 48, 59, 3.35),\n",
       "   (7, 2, 48, 59, 3.35),\n",
       "   (8, 2, 48, 59, 3.35),\n",
       "   (9, 2, 48, 59, 3.35),\n",
       "   (10, 2, 48, 59, 3.35),\n",
       "   (11, 2, 48, 59, 3.35),\n",
       "   (12, 2, 48, 59, 3.35),\n",
       "   (13, 2, 48, 59, 3.35),\n",
       "   (14, 2, 48, 59, 3.35),\n",
       "   (15, 2, 48, 59, 3.35),\n",
       "   (16, 2, 48, 59, 3.35),\n",
       "   (17, 7, 61, 245, 44.16),\n",
       "   (18, 7, 61, 245, 44.16)]],\n",
       " ['90499066', 1, [(1, 65, 78, 96, 41.2)]],\n",
       " ['s29178074',\n",
       "  2,\n",
       "  [(1, 55, 58, 59, 6.7), (2, 55, 58, 59, 6.7), (3, 17, 66, 66, 1.91)]],\n",
       " ['40258154', 2, [(1, 9, 23, 80, 3.63)]]]"
      ]
     },
     "execution_count": 4,
     "metadata": {},
     "output_type": "execute_result"
    }
   ],
   "source": [
    "from willitfit.scrapers.IKEA import product_info_and_update_csv_database\n",
    "\n",
    "article_code = {'s39128564':2,'90499066':1,'s29178074':2,'40258154':2} #,'30269129']\n",
    "\n",
    "\n",
    "\n",
    "\n",
    "\n",
    "\n",
    "\n",
    "product_info_and_update_csv_database(article_code)\n",
    "\n",
    "\n",
    "\n",
    "\n",
    "\n",
    "\n",
    "\n",
    "\n",
    "\n",
    "\n"
   ]
  },
  {
   "cell_type": "code",
   "execution_count": null,
   "id": "e60dfad0",
   "metadata": {},
   "outputs": [],
   "source": []
  }
 ],
 "metadata": {
  "kernelspec": {
   "display_name": "Python 3",
   "language": "python",
   "name": "python3"
  },
  "language_info": {
   "codemirror_mode": {
    "name": "ipython",
    "version": 3
   },
   "file_extension": ".py",
   "mimetype": "text/x-python",
   "name": "python",
   "nbconvert_exporter": "python",
   "pygments_lexer": "ipython3",
   "version": "3.8.6"
  },
  "toc": {
   "base_numbering": 1,
   "nav_menu": {},
   "number_sections": true,
   "sideBar": true,
   "skip_h1_title": false,
   "title_cell": "Table of Contents",
   "title_sidebar": "Contents",
   "toc_cell": false,
   "toc_position": {},
   "toc_section_display": true,
   "toc_window_display": false
  }
 },
 "nbformat": 4,
 "nbformat_minor": 5
}
