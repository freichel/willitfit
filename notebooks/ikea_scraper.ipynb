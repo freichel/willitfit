{
 "cells": [
  {
   "cell_type": "code",
   "execution_count": 143,
   "id": "5ae8c268",
   "metadata": {},
   "outputs": [],
   "source": [
    "import requests\n",
    "from bs4 import BeautifulSoup\n",
    "import json\n",
    "from selenium import webdriver\n",
    "PATH = \"/home/kasia/code/chromedriver\"\n",
    "\n",
    "\n",
    "\n"
   ]
  },
  {
   "cell_type": "code",
   "execution_count": 369,
   "id": "cd83e44d",
   "metadata": {
    "scrolled": true
   },
   "outputs": [],
   "source": [
    "def scrap_product(article_code, item_count):\n",
    "    driver = webdriver.Chrome(executable_path=PATH)\n",
    "    driver.get(f\"https://www.ikea.com/de/de/search/products/?q=s{article_code}\")\n",
    "    \n",
    "    X = driver.find_element_by_class_name('results__list')\n",
    "    tag = X.find_element_by_tag_name('a')\n",
    "    #go to product page\n",
    "    tag.click()\n",
    "    soup = BeautifulSoup(driver.page_source, 'html.parser')\n",
    "    X = soup.find_all(\"div\",  {\"id\": 'SEC_product-details-packaging'})\n",
    "    return X[0]\n",
    "\n",
    "article_code = '39128564'\n",
    "page = scrap_product(article_code, 2)\n",
    "\n",
    "\n"
   ]
  },
  {
   "cell_type": "code",
   "execution_count": 370,
   "id": "e2a178a3",
   "metadata": {},
   "outputs": [
    {
     "data": {
      "text/plain": [
       "<div aria-labelledby=\"product-details-packaging\" class=\"range-revamp-accordion__content\" id=\"SEC_product-details-packaging\" role=\"region\"><div><span class=\"range-revamp-product-details__package-count\">Dieses Produkt besteht aus 16 Paketen</span><div class=\"range-revamp-product-details__container\"><span class=\"range-revamp-product-details__header notranslate\">KOMPLEMENT</span><span>Kleiderstange</span><span class=\"range-revamp-product-details__label\">Artikelnummer:</span><span class=\"range-revamp-product-identifier\" x-ms-format-detection=\"none\"><span class=\"range-revamp-product-identifier__value\">902.568.93</span></span><div class=\"range-revamp-product-details__container\"><span class=\"range-revamp-product-details__label\">Breite: 6 cm</span><span class=\"range-revamp-product-details__label\">Höhe: 4 cm</span><span class=\"range-revamp-product-details__label\">Länge: 49 cm</span><span class=\"range-revamp-product-details__label\">Gewicht: 0.28 kg</span><span class=\"range-revamp-product-details__label\">Paket(e): 1</span></div></div><div class=\"range-revamp-product-details__container\"><span class=\"range-revamp-product-details__header notranslate\">KOMPLEMENT</span><span>Kleiderstange</span><span class=\"range-revamp-product-details__label\">Artikelnummer:</span><span class=\"range-revamp-product-identifier\" x-ms-format-detection=\"none\"><span class=\"range-revamp-product-identifier__value\">402.568.95</span></span><div class=\"range-revamp-product-details__container\"><span class=\"range-revamp-product-details__label\">Breite: 6 cm</span><span class=\"range-revamp-product-details__label\">Höhe: 4 cm</span><span class=\"range-revamp-product-details__label\">Länge: 74 cm</span><span class=\"range-revamp-product-details__label\">Gewicht: 0.43 kg</span><span class=\"range-revamp-product-details__label\">Paket(e): 1</span></div></div><div class=\"range-revamp-product-details__container\"><span class=\"range-revamp-product-details__header notranslate\">KOMPLEMENT</span><span>Boden</span><span class=\"range-revamp-product-details__label\">Artikelnummer:</span><span class=\"range-revamp-product-identifier\" x-ms-format-detection=\"none\"><span class=\"range-revamp-product-identifier__value\">302.779.59</span></span><div class=\"range-revamp-product-details__container\"><span class=\"range-revamp-product-details__label\">Breite: 48 cm</span><span class=\"range-revamp-product-details__label\">Höhe: 2 cm</span><span class=\"range-revamp-product-details__label\">Länge: 59 cm</span><span class=\"range-revamp-product-details__label\">Gewicht: 3.35 kg</span><span class=\"range-revamp-product-details__label\">Paket(e): 6</span></div></div><div class=\"range-revamp-product-details__container\"><span class=\"range-revamp-product-details__header notranslate\">PAX</span><span>Korpus Kleiderschrank</span><span class=\"range-revamp-product-details__label\">Artikelnummer:</span><span class=\"range-revamp-product-identifier\" x-ms-format-detection=\"none\"><span class=\"range-revamp-product-identifier__value\">802.145.68</span></span><div class=\"range-revamp-product-details__container\"><span class=\"range-revamp-product-details__label\">Breite: 61 cm</span><span class=\"range-revamp-product-details__label\">Höhe: 7 cm</span><span class=\"range-revamp-product-details__label\">Länge: 245 cm</span><span class=\"range-revamp-product-details__label\">Gewicht: 44.16 kg</span><span class=\"range-revamp-product-details__label\">Paket(e): 2</span></div></div><div class=\"range-revamp-product-details__container\"><span class=\"range-revamp-product-details__header notranslate\">PAX</span><span>Korpus Kleiderschrank</span><span class=\"range-revamp-product-details__label\">Artikelnummer:</span><span class=\"range-revamp-product-identifier\" x-ms-format-detection=\"none\"><span class=\"range-revamp-product-identifier__value\">202.145.71</span></span><div class=\"range-revamp-product-details__container\"><span class=\"range-revamp-product-details__label\">Breite: 60 cm</span><span class=\"range-revamp-product-details__label\">Höhe: 7 cm</span><span class=\"range-revamp-product-details__label\">Länge: 244 cm</span><span class=\"range-revamp-product-details__label\">Gewicht: 48.78 kg</span><span class=\"range-revamp-product-details__label\">Paket(e): 1</span></div></div><div class=\"range-revamp-product-details__container\"><span class=\"range-revamp-product-details__header notranslate\">KOMPLEMENT</span><span>Schublade</span><span class=\"range-revamp-product-details__label\">Artikelnummer:</span><span class=\"range-revamp-product-identifier\" x-ms-format-detection=\"none\"><span class=\"range-revamp-product-identifier__value\">102.463.32</span></span><div class=\"range-revamp-product-details__container\"><span class=\"range-revamp-product-details__label\">Breite: 57 cm</span><span class=\"range-revamp-product-details__label\">Höhe: 6 cm</span><span class=\"range-revamp-product-details__label\">Länge: 75 cm</span><span class=\"range-revamp-product-details__label\">Gewicht: 7.63 kg</span><span class=\"range-revamp-product-details__label\">Paket(e): 3</span></div></div><div class=\"range-revamp-product-details__container\"><span class=\"range-revamp-product-details__header notranslate\">KOMPLEMENT</span><span>Boden</span><span class=\"range-revamp-product-details__label\">Artikelnummer:</span><span class=\"range-revamp-product-identifier\" x-ms-format-detection=\"none\"><span class=\"range-revamp-product-identifier__value\">902.779.61</span></span><div class=\"range-revamp-product-details__container\"><span class=\"range-revamp-product-details__label\">Breite: 58 cm</span><span class=\"range-revamp-product-details__label\">Höhe: 2 cm</span><span class=\"range-revamp-product-details__label\">Länge: 73 cm</span><span class=\"range-revamp-product-details__label\">Gewicht: 5.02 kg</span><span class=\"range-revamp-product-details__label\">Paket(e): 2</span></div></div></div></div>"
      ]
     },
     "execution_count": 370,
     "metadata": {},
     "output_type": "execute_result"
    }
   ],
   "source": [
    "page\n",
    "\n"
   ]
  },
  {
   "cell_type": "code",
   "execution_count": 371,
   "id": "440760c8",
   "metadata": {},
   "outputs": [
    {
     "data": {
      "text/plain": [
       "[[('902.568.93', 1), [6.0, 4.0, 49.0, 0.28, 1.0]],\n",
       " [('402.568.95', 2), [6.0, 4.0, 49.0, 0.28, 1.0]],\n",
       " [('302.779.59', 3), [6.0, 4.0, 74.0, 0.43, 1.0]],\n",
       " [('802.145.68', 4), [6.0, 4.0, 74.0, 0.43, 1.0]],\n",
       " [('202.145.71', 5), [48.0, 2.0, 59.0, 3.35, 6.0]],\n",
       " [('102.463.32', 6), [48.0, 2.0, 59.0, 3.35, 6.0]],\n",
       " [('902.779.61', 7), [61.0, 7.0, 245.0, 44.16, 2.0]]]"
      ]
     },
     "execution_count": 371,
     "metadata": {},
     "output_type": "execute_result"
    }
   ],
   "source": [
    "def extract_numeric_product_info(y):\n",
    "    \"\"\"\n",
    "    ['Artikelnummer:',\n",
    "     'Breite: 61 cm',\n",
    "     'Höhe: 7 cm',\n",
    "     'Länge: 245 cm',\n",
    "     'Gewicht: 44.16 kg',\n",
    "     'Paket(e): 2']\n",
    "    \"\"\"\n",
    "    numeric_product_info = []\n",
    "    for x in [item for subitem in y for item in subitem.split()]:   \n",
    "        try:\n",
    "            x = float(x) \n",
    "            numeric_product_info.append(x)       \n",
    "        except (ValueError, TypeError):\n",
    "            pass\n",
    "    return numeric_product_info\n",
    "\n",
    "def packages_dimensions_weights(page):\n",
    "    \"\"\"\n",
    "    [(\n",
    "    article_code (str),\n",
    "    item_count (int),\n",
    "    [(\n",
    "        package_id (int),\n",
    "        package_length (int),\n",
    "        package_width (int),\n",
    "        package_height (int),\n",
    "        package_weight (float)\n",
    "    )])]\n",
    "    \"\"\"\n",
    "    info = page.find_all('div',  {\"class\": 'range-revamp-product-details__container'})\n",
    "    number = page.find_all('span',  {\"class\": 'range-revamp-product-identifier__value'})\n",
    "    list_info = []\n",
    "    for i,(x,y) in enumerate(zip(number,info),start = 1):\n",
    "\n",
    "\n",
    "        y = [info.text for info in y.find_all('span',  {\"class\": 'range-revamp-product-details__label'})]\n",
    "\n",
    "        list_info.append([(x.text,i),extract_numeric_product_info(y)])  \n",
    "    return list_info\n",
    "    \n",
    "packages_dimensions_weights(page)\n",
    "\n"
   ]
  },
  {
   "cell_type": "code",
   "execution_count": 386,
   "id": "b09bed6d",
   "metadata": {},
   "outputs": [
    {
     "data": {
      "text/html": [
       "<div>\n",
       "<style scoped>\n",
       "    .dataframe tbody tr th:only-of-type {\n",
       "        vertical-align: middle;\n",
       "    }\n",
       "\n",
       "    .dataframe tbody tr th {\n",
       "        vertical-align: top;\n",
       "    }\n",
       "\n",
       "    .dataframe thead th {\n",
       "        text-align: right;\n",
       "    }\n",
       "</style>\n",
       "<table border=\"1\" class=\"dataframe\">\n",
       "  <thead>\n",
       "    <tr style=\"text-align: right;\">\n",
       "      <th></th>\n",
       "      <th>39128564</th>\n",
       "    </tr>\n",
       "  </thead>\n",
       "  <tbody>\n",
       "    <tr>\n",
       "      <th>102.463.32</th>\n",
       "      <td>[48.0, 2.0, 59.0, 3.35, 6.0]</td>\n",
       "    </tr>\n",
       "    <tr>\n",
       "      <th>202.145.71</th>\n",
       "      <td>[48.0, 2.0, 59.0, 3.35, 6.0]</td>\n",
       "    </tr>\n",
       "    <tr>\n",
       "      <th>302.779.59</th>\n",
       "      <td>[6.0, 4.0, 74.0, 0.43, 1.0]</td>\n",
       "    </tr>\n",
       "    <tr>\n",
       "      <th>402.568.95</th>\n",
       "      <td>[6.0, 4.0, 49.0, 0.28, 1.0]</td>\n",
       "    </tr>\n",
       "    <tr>\n",
       "      <th>802.145.68</th>\n",
       "      <td>[6.0, 4.0, 74.0, 0.43, 1.0]</td>\n",
       "    </tr>\n",
       "    <tr>\n",
       "      <th>902.568.93</th>\n",
       "      <td>[6.0, 4.0, 49.0, 0.28, 1.0]</td>\n",
       "    </tr>\n",
       "    <tr>\n",
       "      <th>902.779.61</th>\n",
       "      <td>[61.0, 7.0, 245.0, 44.16, 2.0]</td>\n",
       "    </tr>\n",
       "  </tbody>\n",
       "</table>\n",
       "</div>"
      ],
      "text/plain": [
       "                                  39128564\n",
       "102.463.32    [48.0, 2.0, 59.0, 3.35, 6.0]\n",
       "202.145.71    [48.0, 2.0, 59.0, 3.35, 6.0]\n",
       "302.779.59     [6.0, 4.0, 74.0, 0.43, 1.0]\n",
       "402.568.95     [6.0, 4.0, 49.0, 0.28, 1.0]\n",
       "802.145.68     [6.0, 4.0, 74.0, 0.43, 1.0]\n",
       "902.568.93     [6.0, 4.0, 49.0, 0.28, 1.0]\n",
       "902.779.61  [61.0, 7.0, 245.0, 44.16, 2.0]"
      ]
     },
     "execution_count": 386,
     "metadata": {},
     "output_type": "execute_result"
    }
   ],
   "source": [
    "info = page.find_all('div',  {\"class\": 'range-revamp-product-details__container'})\n",
    "number = page.find_all('span',  {\"class\": 'range-revamp-product-identifier__value'})\n",
    "\n",
    "\n",
    "\n",
    "\n",
    "\n",
    "subproduct_info = {}\n",
    "whole_product = {}\n",
    "for i,(x,y) in enumerate(zip(number,info)):\n",
    "    y = [info.text for info in y.find_all('span',  {\"class\": 'range-revamp-product-details__label'})]\n",
    "\n",
    "    subproduct_info[x.text] = extract_numeric_product_info(y)\n",
    "    \n",
    "\n",
    "whole_product[article_code] = subproduct_info\n",
    "\n",
    "pd.DataFrame.from_records(whole_product)\n",
    "\n"
   ]
  }
 ],
 "metadata": {
  "kernelspec": {
   "display_name": "Python 3",
   "language": "python",
   "name": "python3"
  },
  "language_info": {
   "codemirror_mode": {
    "name": "ipython",
    "version": 3
   },
   "file_extension": ".py",
   "mimetype": "text/x-python",
   "name": "python",
   "nbconvert_exporter": "python",
   "pygments_lexer": "ipython3",
   "version": "3.8.6"
  },
  "toc": {
   "base_numbering": 1,
   "nav_menu": {},
   "number_sections": true,
   "sideBar": true,
   "skip_h1_title": false,
   "title_cell": "Table of Contents",
   "title_sidebar": "Contents",
   "toc_cell": false,
   "toc_position": {},
   "toc_section_display": true,
   "toc_window_display": false
  }
 },
 "nbformat": 4,
 "nbformat_minor": 5
}
