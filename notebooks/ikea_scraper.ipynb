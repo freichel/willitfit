{
 "cells": [
  {
   "cell_type": "code",
   "execution_count": 1,
   "id": "af885c2b",
   "metadata": {
    "scrolled": true
   },
   "outputs": [
    {
     "name": "stderr",
     "output_type": "stream",
     "text": [
      "\n",
      "\n",
      "====== WebDriver manager ======\n",
      "Current google-chrome version is 88.0.4324\n",
      "Get LATEST driver version for 88.0.4324\n",
      "Driver [/home/kasia/.wdm/drivers/chromedriver/linux64/88.0.4324.96/chromedriver] found in cache\n"
     ]
    },
    {
     "data": {
      "text/plain": [
       "'One or more articles do not exist.'"
      ]
     },
     "execution_count": 1,
     "metadata": {},
     "output_type": "execute_result"
    }
   ],
   "source": [
    "from willitfit.scrapers.IKEA import product_info_and_update_csv_database\n",
    "\n",
    "article_code = ['s09435']\n",
    "\n",
    "\n",
    "\n",
    "\n",
    "\n",
    "product_info_and_update_csv_database(article_code)\n",
    "\n",
    "\n",
    "\n",
    "\n",
    "\n",
    "\n"
   ]
  },
  {
   "cell_type": "code",
   "execution_count": null,
   "id": "69bc0265",
   "metadata": {},
   "outputs": [],
   "source": [
    "import pandas as pd\n",
    "pd.read_csv('/home/kasia/code/willitfit/willitfit/data/ikea_database/ikea_database.csv',index_col=[0])\n",
    "\n",
    "\n",
    "\n",
    "\n",
    "\n",
    "\n",
    "\n"
   ]
  },
  {
   "cell_type": "code",
   "execution_count": null,
   "id": "9bfcafe9",
   "metadata": {},
   "outputs": [],
   "source": [
    "import requests\n",
    "import os\n",
    "country_domain= 'de'\n",
    "website_language = 'de'\n",
    "from selenium.webdriver.chrome.options import Options\n",
    "from webdriver_manager.chrome import ChromeDriverManager\n",
    "from bs4 import BeautifulSoup\n",
    "from selenium import webdriver\n",
    "\n",
    "\n",
    "\n",
    "\n",
    "\n",
    "def chrome_settings():\n",
    "    \"\"\"\n",
    "    \"\"\"\n",
    "    \n",
    "    chrome_options = Options()\n",
    "    chrome_options.add_argument(\"--headless\")\n",
    "    chrome_options.add_argument(\"--disable-extensions\")\n",
    "    chrome_options.add_argument(\"--disable-gpu\")\n",
    "    chrome_options.add_argument(\"--no-sandbox\")\n",
    "    chrome_options.add_argument('--window-size=1920x1080') \n",
    "    \n",
    "    return chrome_options\n",
    "\n",
    "\n",
    "IKEA_URL = f\"https://www.ikea.com/{country_domain}/{website_language}/\"\n",
    "IKEA_SEARCH_URL = f\"search/products/?q=\"\n",
    "#r = requests.get(os.path.join(IKEA_URL,IKEA_SEARCH_URL,'xxx'))\n",
    "\n",
    "\n",
    "driver = webdriver.Chrome(ChromeDriverManager().install(),options=chrome_settings())\n",
    "driver.get(os.path.join(IKEA_URL,IKEA_SEARCH_URL,'xxx'))\n",
    "#important_part_of_page = driver.find_element_by_class_name('results__list')\n",
    "#tag = important_part_of_page.find_element_by_tag_name('a')\n",
    "\n"
   ]
  },
  {
   "cell_type": "code",
   "execution_count": null,
   "id": "fc981c5d",
   "metadata": {},
   "outputs": [],
   "source": [
    "important_part_of_page = driver.find_element_by_class_name('results__list')\n",
    "tag = important_part_of_page.find_element_by_tag_name('a')\n",
    "\n",
    "\n",
    "\n"
   ]
  },
  {
   "cell_type": "code",
   "execution_count": null,
   "id": "17f76674",
   "metadata": {},
   "outputs": [],
   "source": [
    "try:\n",
    "    important_part_of_page.find_element_by_tag_name('a')\n",
    "\n",
    "except:\n",
    "    print('gsdgsja')\n",
    "    \n",
    "    "
   ]
  }
 ],
 "metadata": {
  "kernelspec": {
   "display_name": "Python 3",
   "language": "python",
   "name": "python3"
  },
  "language_info": {
   "codemirror_mode": {
    "name": "ipython",
    "version": 3
   },
   "file_extension": ".py",
   "mimetype": "text/x-python",
   "name": "python",
   "nbconvert_exporter": "python",
   "pygments_lexer": "ipython3",
   "version": "3.8.6"
  },
  "toc": {
   "base_numbering": 1,
   "nav_menu": {},
   "number_sections": true,
   "sideBar": true,
   "skip_h1_title": false,
   "title_cell": "Table of Contents",
   "title_sidebar": "Contents",
   "toc_cell": false,
   "toc_position": {},
   "toc_section_display": true,
   "toc_window_display": false
  }
 },
 "nbformat": 4,
 "nbformat_minor": 5
}
