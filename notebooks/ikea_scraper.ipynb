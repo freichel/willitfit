{
 "cells": [
  {
   "cell_type": "code",
   "execution_count": 1,
   "id": "8f6699ec",
   "metadata": {},
   "outputs": [
    {
     "data": {
      "text/plain": [
       "[['s39128564', 1, [0, 49.0, 6.0, 4.0, 0.28]],\n",
       " ['s39128564', 1, [0, 49.0, 6.0, 4.0, 0.28]],\n",
       " ['s39128564', 1, [0, 74.0, 6.0, 4.0, 0.43]],\n",
       " ['s39128564', 1, [0, 74.0, 6.0, 4.0, 0.43]],\n",
       " ['s39128564', 1, [0, 59.0, 48.0, 2.0, 3.35]],\n",
       " ['s39128564', 1, [1, 59.0, 48.0, 2.0, 3.35]],\n",
       " ['s39128564', 1, [2, 59.0, 48.0, 2.0, 3.35]],\n",
       " ['s39128564', 1, [3, 59.0, 48.0, 2.0, 3.35]],\n",
       " ['s39128564', 1, [4, 59.0, 48.0, 2.0, 3.35]],\n",
       " ['s39128564', 1, [5, 59.0, 48.0, 2.0, 3.35]],\n",
       " ['s39128564', 1, [0, 59.0, 48.0, 2.0, 3.35]],\n",
       " ['s39128564', 1, [1, 59.0, 48.0, 2.0, 3.35]],\n",
       " ['s39128564', 1, [2, 59.0, 48.0, 2.0, 3.35]],\n",
       " ['s39128564', 1, [3, 59.0, 48.0, 2.0, 3.35]],\n",
       " ['s39128564', 1, [4, 59.0, 48.0, 2.0, 3.35]],\n",
       " ['s39128564', 1, [5, 59.0, 48.0, 2.0, 3.35]],\n",
       " ['s39128564', 1, [0, 245.0, 61.0, 7.0, 44.16]],\n",
       " ['s39128564', 1, [1, 245.0, 61.0, 7.0, 44.16]],\n",
       " ['90499066', 1, [0, 96.0, 78.0, 65.0, 41.2]],\n",
       " ['s29178074', 1, [0, 59.0, 58.0, 55.0, 6.7]],\n",
       " ['s29178074', 1, [0, 59.0, 58.0, 55.0, 6.7]],\n",
       " ['s29178074', 1, [0, 66.0, 66.0, 17.0, 1.91]],\n",
       " ['40258154', 1, [0, 80.0, 23.0, 9.0, 3.63]],\n",
       " ['30269129', 1, [0, 183.0, 42.0, 8.0, 26.5]]]"
      ]
     },
     "execution_count": 1,
     "metadata": {},
     "output_type": "execute_result"
    }
   ],
   "source": [
    "from willitfit.scrapers.IKEA import product_info_and_update_csv_database\n",
    "\n",
    "article_code = ['s39128564','90499066','s29178074','40258154','30269129']\n",
    "\n",
    "\n",
    "\n",
    "\n",
    "\n",
    "\n",
    "product_info_and_update_csv_database(article_code)\n",
    "\n",
    "\n",
    "\n",
    "\n",
    "\n"
   ]
  }
 ],
 "metadata": {
  "kernelspec": {
   "display_name": "Python 3",
   "language": "python",
   "name": "python3"
  },
  "language_info": {
   "codemirror_mode": {
    "name": "ipython",
    "version": 3
   },
   "file_extension": ".py",
   "mimetype": "text/x-python",
   "name": "python",
   "nbconvert_exporter": "python",
   "pygments_lexer": "ipython3",
   "version": "3.8.6"
  },
  "toc": {
   "base_numbering": 1,
   "nav_menu": {},
   "number_sections": true,
   "sideBar": true,
   "skip_h1_title": false,
   "title_cell": "Table of Contents",
   "title_sidebar": "Contents",
   "toc_cell": false,
   "toc_position": {},
   "toc_section_display": true,
   "toc_window_display": false
  }
 },
 "nbformat": 4,
 "nbformat_minor": 5
}
